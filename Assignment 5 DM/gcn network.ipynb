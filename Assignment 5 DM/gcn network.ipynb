{
  "metadata": {
    "kernelspec": {
      "language": "python",
      "display_name": "Python 3",
      "name": "python3"
    },
    "language_info": {
      "name": "python",
      "version": "3.7.12",
      "mimetype": "text/x-python",
      "codemirror_mode": {
        "name": "ipython",
        "version": 3
      },
      "pygments_lexer": "ipython3",
      "nbconvert_exporter": "python",
      "file_extension": ".py"
    },
    "colab": {
      "name": "gcn network.ipynb",
      "provenance": [],
      "collapsed_sections": [
        "IgIWstC80dsC",
        "8Ftu6syy0dsD",
        "4tDfynFJ0dsE",
        "0fl52R3e0dsF",
        "ea6RfxWz0dsG",
        "Of--0ogZ0dsH",
        "0CfHDGW20dsI",
        "qyv9U2AZ0dsJ",
        "x5Y-VPFJ0dsK",
        "M49hRde10dsL"
      ]
    },
    "accelerator": "GPU",
    "widgets": {
      "application/vnd.jupyter.widget-state+json": {
        "ec7abb1ec6eb4476b469808c6c1e4a01": {
          "model_module": "@jupyter-widgets/controls",
          "model_name": "HBoxModel",
          "model_module_version": "1.5.0",
          "state": {
            "_dom_classes": [],
            "_model_module": "@jupyter-widgets/controls",
            "_model_module_version": "1.5.0",
            "_model_name": "HBoxModel",
            "_view_count": null,
            "_view_module": "@jupyter-widgets/controls",
            "_view_module_version": "1.5.0",
            "_view_name": "HBoxView",
            "box_style": "",
            "children": [
              "IPY_MODEL_34fc2e1cf96748dea31f2fef90d6cba9",
              "IPY_MODEL_c34b08e606414ff6880255b8e5112713",
              "IPY_MODEL_afa16c76786a48d7809a0789bba28150"
            ],
            "layout": "IPY_MODEL_c82d135ebafe4b1cbddecced894249fc"
          }
        },
        "34fc2e1cf96748dea31f2fef90d6cba9": {
          "model_module": "@jupyter-widgets/controls",
          "model_name": "HTMLModel",
          "model_module_version": "1.5.0",
          "state": {
            "_dom_classes": [],
            "_model_module": "@jupyter-widgets/controls",
            "_model_module_version": "1.5.0",
            "_model_name": "HTMLModel",
            "_view_count": null,
            "_view_module": "@jupyter-widgets/controls",
            "_view_module_version": "1.5.0",
            "_view_name": "HTMLView",
            "description": "",
            "description_tooltip": null,
            "layout": "IPY_MODEL_f5d2edbe1b264eea9151701d2ba983d4",
            "placeholder": "​",
            "style": "IPY_MODEL_fd920c6ba23849399204613f8e6fbb23",
            "value": "100%"
          }
        },
        "c34b08e606414ff6880255b8e5112713": {
          "model_module": "@jupyter-widgets/controls",
          "model_name": "FloatProgressModel",
          "model_module_version": "1.5.0",
          "state": {
            "_dom_classes": [],
            "_model_module": "@jupyter-widgets/controls",
            "_model_module_version": "1.5.0",
            "_model_name": "FloatProgressModel",
            "_view_count": null,
            "_view_module": "@jupyter-widgets/controls",
            "_view_module_version": "1.5.0",
            "_view_name": "ProgressView",
            "bar_style": "success",
            "description": "",
            "description_tooltip": null,
            "layout": "IPY_MODEL_96ef2e4083a748e29b08ea1c52cf437d",
            "max": 25024,
            "min": 0,
            "orientation": "horizontal",
            "style": "IPY_MODEL_36275629f0044270b42b0551403b5f32",
            "value": 25024
          }
        },
        "afa16c76786a48d7809a0789bba28150": {
          "model_module": "@jupyter-widgets/controls",
          "model_name": "HTMLModel",
          "model_module_version": "1.5.0",
          "state": {
            "_dom_classes": [],
            "_model_module": "@jupyter-widgets/controls",
            "_model_module_version": "1.5.0",
            "_model_name": "HTMLModel",
            "_view_count": null,
            "_view_module": "@jupyter-widgets/controls",
            "_view_module_version": "1.5.0",
            "_view_name": "HTMLView",
            "description": "",
            "description_tooltip": null,
            "layout": "IPY_MODEL_2569cd4161ad43a8bbd74dd1593ddeb5",
            "placeholder": "​",
            "style": "IPY_MODEL_69080c6886d0420f943baa4af93042af",
            "value": " 25024/25024 [00:03&lt;00:00, 8708.90it/s]"
          }
        },
        "c82d135ebafe4b1cbddecced894249fc": {
          "model_module": "@jupyter-widgets/base",
          "model_name": "LayoutModel",
          "model_module_version": "1.2.0",
          "state": {
            "_model_module": "@jupyter-widgets/base",
            "_model_module_version": "1.2.0",
            "_model_name": "LayoutModel",
            "_view_count": null,
            "_view_module": "@jupyter-widgets/base",
            "_view_module_version": "1.2.0",
            "_view_name": "LayoutView",
            "align_content": null,
            "align_items": null,
            "align_self": null,
            "border": null,
            "bottom": null,
            "display": null,
            "flex": null,
            "flex_flow": null,
            "grid_area": null,
            "grid_auto_columns": null,
            "grid_auto_flow": null,
            "grid_auto_rows": null,
            "grid_column": null,
            "grid_gap": null,
            "grid_row": null,
            "grid_template_areas": null,
            "grid_template_columns": null,
            "grid_template_rows": null,
            "height": null,
            "justify_content": null,
            "justify_items": null,
            "left": null,
            "margin": null,
            "max_height": null,
            "max_width": null,
            "min_height": null,
            "min_width": null,
            "object_fit": null,
            "object_position": null,
            "order": null,
            "overflow": null,
            "overflow_x": null,
            "overflow_y": null,
            "padding": null,
            "right": null,
            "top": null,
            "visibility": null,
            "width": null
          }
        },
        "f5d2edbe1b264eea9151701d2ba983d4": {
          "model_module": "@jupyter-widgets/base",
          "model_name": "LayoutModel",
          "model_module_version": "1.2.0",
          "state": {
            "_model_module": "@jupyter-widgets/base",
            "_model_module_version": "1.2.0",
            "_model_name": "LayoutModel",
            "_view_count": null,
            "_view_module": "@jupyter-widgets/base",
            "_view_module_version": "1.2.0",
            "_view_name": "LayoutView",
            "align_content": null,
            "align_items": null,
            "align_self": null,
            "border": null,
            "bottom": null,
            "display": null,
            "flex": null,
            "flex_flow": null,
            "grid_area": null,
            "grid_auto_columns": null,
            "grid_auto_flow": null,
            "grid_auto_rows": null,
            "grid_column": null,
            "grid_gap": null,
            "grid_row": null,
            "grid_template_areas": null,
            "grid_template_columns": null,
            "grid_template_rows": null,
            "height": null,
            "justify_content": null,
            "justify_items": null,
            "left": null,
            "margin": null,
            "max_height": null,
            "max_width": null,
            "min_height": null,
            "min_width": null,
            "object_fit": null,
            "object_position": null,
            "order": null,
            "overflow": null,
            "overflow_x": null,
            "overflow_y": null,
            "padding": null,
            "right": null,
            "top": null,
            "visibility": null,
            "width": null
          }
        },
        "fd920c6ba23849399204613f8e6fbb23": {
          "model_module": "@jupyter-widgets/controls",
          "model_name": "DescriptionStyleModel",
          "model_module_version": "1.5.0",
          "state": {
            "_model_module": "@jupyter-widgets/controls",
            "_model_module_version": "1.5.0",
            "_model_name": "DescriptionStyleModel",
            "_view_count": null,
            "_view_module": "@jupyter-widgets/base",
            "_view_module_version": "1.2.0",
            "_view_name": "StyleView",
            "description_width": ""
          }
        },
        "96ef2e4083a748e29b08ea1c52cf437d": {
          "model_module": "@jupyter-widgets/base",
          "model_name": "LayoutModel",
          "model_module_version": "1.2.0",
          "state": {
            "_model_module": "@jupyter-widgets/base",
            "_model_module_version": "1.2.0",
            "_model_name": "LayoutModel",
            "_view_count": null,
            "_view_module": "@jupyter-widgets/base",
            "_view_module_version": "1.2.0",
            "_view_name": "LayoutView",
            "align_content": null,
            "align_items": null,
            "align_self": null,
            "border": null,
            "bottom": null,
            "display": null,
            "flex": null,
            "flex_flow": null,
            "grid_area": null,
            "grid_auto_columns": null,
            "grid_auto_flow": null,
            "grid_auto_rows": null,
            "grid_column": null,
            "grid_gap": null,
            "grid_row": null,
            "grid_template_areas": null,
            "grid_template_columns": null,
            "grid_template_rows": null,
            "height": null,
            "justify_content": null,
            "justify_items": null,
            "left": null,
            "margin": null,
            "max_height": null,
            "max_width": null,
            "min_height": null,
            "min_width": null,
            "object_fit": null,
            "object_position": null,
            "order": null,
            "overflow": null,
            "overflow_x": null,
            "overflow_y": null,
            "padding": null,
            "right": null,
            "top": null,
            "visibility": null,
            "width": null
          }
        },
        "36275629f0044270b42b0551403b5f32": {
          "model_module": "@jupyter-widgets/controls",
          "model_name": "ProgressStyleModel",
          "model_module_version": "1.5.0",
          "state": {
            "_model_module": "@jupyter-widgets/controls",
            "_model_module_version": "1.5.0",
            "_model_name": "ProgressStyleModel",
            "_view_count": null,
            "_view_module": "@jupyter-widgets/base",
            "_view_module_version": "1.2.0",
            "_view_name": "StyleView",
            "bar_color": null,
            "description_width": ""
          }
        },
        "2569cd4161ad43a8bbd74dd1593ddeb5": {
          "model_module": "@jupyter-widgets/base",
          "model_name": "LayoutModel",
          "model_module_version": "1.2.0",
          "state": {
            "_model_module": "@jupyter-widgets/base",
            "_model_module_version": "1.2.0",
            "_model_name": "LayoutModel",
            "_view_count": null,
            "_view_module": "@jupyter-widgets/base",
            "_view_module_version": "1.2.0",
            "_view_name": "LayoutView",
            "align_content": null,
            "align_items": null,
            "align_self": null,
            "border": null,
            "bottom": null,
            "display": null,
            "flex": null,
            "flex_flow": null,
            "grid_area": null,
            "grid_auto_columns": null,
            "grid_auto_flow": null,
            "grid_auto_rows": null,
            "grid_column": null,
            "grid_gap": null,
            "grid_row": null,
            "grid_template_areas": null,
            "grid_template_columns": null,
            "grid_template_rows": null,
            "height": null,
            "justify_content": null,
            "justify_items": null,
            "left": null,
            "margin": null,
            "max_height": null,
            "max_width": null,
            "min_height": null,
            "min_width": null,
            "object_fit": null,
            "object_position": null,
            "order": null,
            "overflow": null,
            "overflow_x": null,
            "overflow_y": null,
            "padding": null,
            "right": null,
            "top": null,
            "visibility": null,
            "width": null
          }
        },
        "69080c6886d0420f943baa4af93042af": {
          "model_module": "@jupyter-widgets/controls",
          "model_name": "DescriptionStyleModel",
          "model_module_version": "1.5.0",
          "state": {
            "_model_module": "@jupyter-widgets/controls",
            "_model_module_version": "1.5.0",
            "_model_name": "DescriptionStyleModel",
            "_view_count": null,
            "_view_module": "@jupyter-widgets/base",
            "_view_module_version": "1.2.0",
            "_view_name": "StyleView",
            "description_width": ""
          }
        },
        "fa03d78517a44f089112c60e459250f5": {
          "model_module": "@jupyter-widgets/controls",
          "model_name": "HBoxModel",
          "model_module_version": "1.5.0",
          "state": {
            "_dom_classes": [],
            "_model_module": "@jupyter-widgets/controls",
            "_model_module_version": "1.5.0",
            "_model_name": "HBoxModel",
            "_view_count": null,
            "_view_module": "@jupyter-widgets/controls",
            "_view_module_version": "1.5.0",
            "_view_name": "HBoxView",
            "box_style": "",
            "children": [
              "IPY_MODEL_3fefa55b52cf47f4b6838553ac4d9745",
              "IPY_MODEL_312adc24853b4f5ca2123e975190ec27",
              "IPY_MODEL_747171a8678042398bed8004b954d09c"
            ],
            "layout": "IPY_MODEL_5f74bab931334b36b3bf2c462d70cdd2"
          }
        },
        "3fefa55b52cf47f4b6838553ac4d9745": {
          "model_module": "@jupyter-widgets/controls",
          "model_name": "HTMLModel",
          "model_module_version": "1.5.0",
          "state": {
            "_dom_classes": [],
            "_model_module": "@jupyter-widgets/controls",
            "_model_module_version": "1.5.0",
            "_model_name": "HTMLModel",
            "_view_count": null,
            "_view_module": "@jupyter-widgets/controls",
            "_view_module_version": "1.5.0",
            "_view_name": "HTMLView",
            "description": "",
            "description_tooltip": null,
            "layout": "IPY_MODEL_fcaf0ddca1944d38870ae19068379617",
            "placeholder": "​",
            "style": "IPY_MODEL_dccc35a2422b4a618bd8eb2bc5c70b9c",
            "value": "100%"
          }
        },
        "312adc24853b4f5ca2123e975190ec27": {
          "model_module": "@jupyter-widgets/controls",
          "model_name": "FloatProgressModel",
          "model_module_version": "1.5.0",
          "state": {
            "_dom_classes": [],
            "_model_module": "@jupyter-widgets/controls",
            "_model_module_version": "1.5.0",
            "_model_name": "FloatProgressModel",
            "_view_count": null,
            "_view_module": "@jupyter-widgets/controls",
            "_view_module_version": "1.5.0",
            "_view_name": "ProgressView",
            "bar_style": "success",
            "description": "",
            "description_tooltip": null,
            "layout": "IPY_MODEL_264253eef9984f2e9d9342664720c1c1",
            "max": 12326,
            "min": 0,
            "orientation": "horizontal",
            "style": "IPY_MODEL_e2f0c4fd4f4140ce9535fa34a305eeff",
            "value": 12326
          }
        },
        "747171a8678042398bed8004b954d09c": {
          "model_module": "@jupyter-widgets/controls",
          "model_name": "HTMLModel",
          "model_module_version": "1.5.0",
          "state": {
            "_dom_classes": [],
            "_model_module": "@jupyter-widgets/controls",
            "_model_module_version": "1.5.0",
            "_model_name": "HTMLModel",
            "_view_count": null,
            "_view_module": "@jupyter-widgets/controls",
            "_view_module_version": "1.5.0",
            "_view_name": "HTMLView",
            "description": "",
            "description_tooltip": null,
            "layout": "IPY_MODEL_aaaa5e2064a34036a8ff7e71b0bcb335",
            "placeholder": "​",
            "style": "IPY_MODEL_bab6d2ee36cb4e248c4a74181b8c8765",
            "value": " 12326/12326 [00:01&lt;00:00, 8436.57it/s]"
          }
        },
        "5f74bab931334b36b3bf2c462d70cdd2": {
          "model_module": "@jupyter-widgets/base",
          "model_name": "LayoutModel",
          "model_module_version": "1.2.0",
          "state": {
            "_model_module": "@jupyter-widgets/base",
            "_model_module_version": "1.2.0",
            "_model_name": "LayoutModel",
            "_view_count": null,
            "_view_module": "@jupyter-widgets/base",
            "_view_module_version": "1.2.0",
            "_view_name": "LayoutView",
            "align_content": null,
            "align_items": null,
            "align_self": null,
            "border": null,
            "bottom": null,
            "display": null,
            "flex": null,
            "flex_flow": null,
            "grid_area": null,
            "grid_auto_columns": null,
            "grid_auto_flow": null,
            "grid_auto_rows": null,
            "grid_column": null,
            "grid_gap": null,
            "grid_row": null,
            "grid_template_areas": null,
            "grid_template_columns": null,
            "grid_template_rows": null,
            "height": null,
            "justify_content": null,
            "justify_items": null,
            "left": null,
            "margin": null,
            "max_height": null,
            "max_width": null,
            "min_height": null,
            "min_width": null,
            "object_fit": null,
            "object_position": null,
            "order": null,
            "overflow": null,
            "overflow_x": null,
            "overflow_y": null,
            "padding": null,
            "right": null,
            "top": null,
            "visibility": null,
            "width": null
          }
        },
        "fcaf0ddca1944d38870ae19068379617": {
          "model_module": "@jupyter-widgets/base",
          "model_name": "LayoutModel",
          "model_module_version": "1.2.0",
          "state": {
            "_model_module": "@jupyter-widgets/base",
            "_model_module_version": "1.2.0",
            "_model_name": "LayoutModel",
            "_view_count": null,
            "_view_module": "@jupyter-widgets/base",
            "_view_module_version": "1.2.0",
            "_view_name": "LayoutView",
            "align_content": null,
            "align_items": null,
            "align_self": null,
            "border": null,
            "bottom": null,
            "display": null,
            "flex": null,
            "flex_flow": null,
            "grid_area": null,
            "grid_auto_columns": null,
            "grid_auto_flow": null,
            "grid_auto_rows": null,
            "grid_column": null,
            "grid_gap": null,
            "grid_row": null,
            "grid_template_areas": null,
            "grid_template_columns": null,
            "grid_template_rows": null,
            "height": null,
            "justify_content": null,
            "justify_items": null,
            "left": null,
            "margin": null,
            "max_height": null,
            "max_width": null,
            "min_height": null,
            "min_width": null,
            "object_fit": null,
            "object_position": null,
            "order": null,
            "overflow": null,
            "overflow_x": null,
            "overflow_y": null,
            "padding": null,
            "right": null,
            "top": null,
            "visibility": null,
            "width": null
          }
        },
        "dccc35a2422b4a618bd8eb2bc5c70b9c": {
          "model_module": "@jupyter-widgets/controls",
          "model_name": "DescriptionStyleModel",
          "model_module_version": "1.5.0",
          "state": {
            "_model_module": "@jupyter-widgets/controls",
            "_model_module_version": "1.5.0",
            "_model_name": "DescriptionStyleModel",
            "_view_count": null,
            "_view_module": "@jupyter-widgets/base",
            "_view_module_version": "1.2.0",
            "_view_name": "StyleView",
            "description_width": ""
          }
        },
        "264253eef9984f2e9d9342664720c1c1": {
          "model_module": "@jupyter-widgets/base",
          "model_name": "LayoutModel",
          "model_module_version": "1.2.0",
          "state": {
            "_model_module": "@jupyter-widgets/base",
            "_model_module_version": "1.2.0",
            "_model_name": "LayoutModel",
            "_view_count": null,
            "_view_module": "@jupyter-widgets/base",
            "_view_module_version": "1.2.0",
            "_view_name": "LayoutView",
            "align_content": null,
            "align_items": null,
            "align_self": null,
            "border": null,
            "bottom": null,
            "display": null,
            "flex": null,
            "flex_flow": null,
            "grid_area": null,
            "grid_auto_columns": null,
            "grid_auto_flow": null,
            "grid_auto_rows": null,
            "grid_column": null,
            "grid_gap": null,
            "grid_row": null,
            "grid_template_areas": null,
            "grid_template_columns": null,
            "grid_template_rows": null,
            "height": null,
            "justify_content": null,
            "justify_items": null,
            "left": null,
            "margin": null,
            "max_height": null,
            "max_width": null,
            "min_height": null,
            "min_width": null,
            "object_fit": null,
            "object_position": null,
            "order": null,
            "overflow": null,
            "overflow_x": null,
            "overflow_y": null,
            "padding": null,
            "right": null,
            "top": null,
            "visibility": null,
            "width": null
          }
        },
        "e2f0c4fd4f4140ce9535fa34a305eeff": {
          "model_module": "@jupyter-widgets/controls",
          "model_name": "ProgressStyleModel",
          "model_module_version": "1.5.0",
          "state": {
            "_model_module": "@jupyter-widgets/controls",
            "_model_module_version": "1.5.0",
            "_model_name": "ProgressStyleModel",
            "_view_count": null,
            "_view_module": "@jupyter-widgets/base",
            "_view_module_version": "1.2.0",
            "_view_name": "StyleView",
            "bar_color": null,
            "description_width": ""
          }
        },
        "aaaa5e2064a34036a8ff7e71b0bcb335": {
          "model_module": "@jupyter-widgets/base",
          "model_name": "LayoutModel",
          "model_module_version": "1.2.0",
          "state": {
            "_model_module": "@jupyter-widgets/base",
            "_model_module_version": "1.2.0",
            "_model_name": "LayoutModel",
            "_view_count": null,
            "_view_module": "@jupyter-widgets/base",
            "_view_module_version": "1.2.0",
            "_view_name": "LayoutView",
            "align_content": null,
            "align_items": null,
            "align_self": null,
            "border": null,
            "bottom": null,
            "display": null,
            "flex": null,
            "flex_flow": null,
            "grid_area": null,
            "grid_auto_columns": null,
            "grid_auto_flow": null,
            "grid_auto_rows": null,
            "grid_column": null,
            "grid_gap": null,
            "grid_row": null,
            "grid_template_areas": null,
            "grid_template_columns": null,
            "grid_template_rows": null,
            "height": null,
            "justify_content": null,
            "justify_items": null,
            "left": null,
            "margin": null,
            "max_height": null,
            "max_width": null,
            "min_height": null,
            "min_width": null,
            "object_fit": null,
            "object_position": null,
            "order": null,
            "overflow": null,
            "overflow_x": null,
            "overflow_y": null,
            "padding": null,
            "right": null,
            "top": null,
            "visibility": null,
            "width": null
          }
        },
        "bab6d2ee36cb4e248c4a74181b8c8765": {
          "model_module": "@jupyter-widgets/controls",
          "model_name": "DescriptionStyleModel",
          "model_module_version": "1.5.0",
          "state": {
            "_model_module": "@jupyter-widgets/controls",
            "_model_module_version": "1.5.0",
            "_model_name": "DescriptionStyleModel",
            "_view_count": null,
            "_view_module": "@jupyter-widgets/base",
            "_view_module_version": "1.2.0",
            "_view_name": "StyleView",
            "description_width": ""
          }
        }
      }
    }
  },
  "nbformat_minor": 0,
  "nbformat": 4,
  "cells": [
    {
      "cell_type": "markdown",
      "source": [
        "## Data mining question\n",
        "\n",
        "1- Based on the provided template, describe the format of the input file (sdf file).\n",
        "\n",
        "Structure Data Format (SDF) is a chemical file format that is used to store several chemical structure records and associated data fields. It is made up of a series of molfiles that have been connected together, as well as some additional information about the compounds.\n",
        "\n",
        "<hr>\n",
        "\n",
        "2- What are the input tensors to the neural network model (their meaning, not just symbol)? What is each of their dims and their meaning (e.g. batch_size)?\n",
        "\n",
        "in general: The input tensor is a vector or matrix of n dimensions that represents all types of data. It is used as the model's input and is readily understood as a multidimensional array. In general, a tensor is an array of values arranged on a regular grid with a variable number of axes; all values in an input tensor have the same data type and a known (or partially known) shape. The dimensionality of the matrix or array is determined by the shape of the data,\n",
        "\n",
        "One of their dim is the ‘input_dim’: it just like the input_shape and it determine the shape of the input tensor but the difference is for the 1-dimensional vector you don't need to give it as a tuple, you give input_dim as a scalar number.\n",
        "* Input_shape = (8,)\n",
        "* Ex: shape(8,) \n",
        "<br>the shape will be 8-dimensional vectors, Elements of the shape can be None; 'None' elements represent dimensions where the shape is unknown.\n",
        "* Input_dim = 8\n",
        "<br> Another dim is batch_size it will limit out training possibilities to this unique batch size<br>\n",
        "\n",
        "for this problem the inputs here were the embedded data, the edges, node2graph and the number of graphs (number of samples),\n",
        "for the input_data dim here is **(batch_size* max_nodes_per_graph, )** which represent the **node2graph** also, the batch size I explain it in the previous part and the max_nodes_per_graph is the possible maximum number of nodes in each graph and the another dim if the input data was 2d<br>\n",
        "the another input here is *edges* and it's represents by **(number_of_edges, 2)** the first dim here is the number of *edges* in each graph and the another one will be always 2, and the **node2graph** shape represents by **(batch_size* max_nodes_per_graph, )**\n",
        "\n",
        "<hr>\n",
        "\n",
        "3- For each dim of gnn_out, what does it symbolize? For each dim of avg, what does it symbolize?\n",
        "\n",
        "The gnn out has the shape **(batch_size*max_nodes_per_graph,hidden_dim)**,\n",
        "the first dim here represents the number of features for each node (node2graph), where the **hidden_dim** here is the size of the output of all message passing layers.\n",
        "\n",
        "avg: based on the segmented ids, this layer computes the segmented arithmetic average of the gnn_out (nodes2graph). The output of gnn_out is (batch_size*max_nodes_per_graph, hidden layers) for each sample in the batch size. Each sample is assigned a unique segment_id. As a result, segment_mean takes the average of all the data in the gnn_out output and represents one sample with one integer for each hidden layer. The average tensor's final output is of the form (batch_size, hidden_dim). It is a method of gathering information for each sample and portraying it as mean data.\n",
        "\n",
        "<hr>\n",
        "\n",
        "4- What is the difference between segment_mean and tf.reduce_mean? For each dim of pred, what does it symbolize?\n",
        "\n",
        "**tf.reduce_mean** reduces the specific row or column along the dimensions of the input tensor by computing the mean of elements across the dimensions so it will reduce each column or the row in the tensor to one value. <br><br>\n",
        "While **tf.segment_mean** will give each value in each column or row an id and will group these values that has the same ids into adjacent groups and take the mean so the row or the column will reduced to more than one value not just one value for each row or column like **tf.reduce_mean()**\n",
        "\n",
        "Shape of pred: (num_of_graphs, num_of_units in output layer) the first dim represents the number of **graphs** and the second dim is the the number of units in the output layer which is **1**.\n",
        "<hr>\n",
        "\n",
        "5- What is the motivation/theory/idea to use multiple gcn layers comparing to just one? How many layers were used in the template?\n",
        "\n",
        "it will increase the number of the trainable parameters for this network so the complexity of the model will increase and the model will be able to separate the feature in each node due to the complexity of the hyperplane and that will lead to more accurate results for nodes classification but it may overfit on the training data if the model was so deep, and the number of layers used in the template was the default number which is **4** layers."
      ],
      "metadata": {
        "id": "-zUcSH990dr1"
      }
    },
    {
      "cell_type": "markdown",
      "source": [
        "## Problem formulation\n",
        "\n",
        "It’s a bioassay problem, we want to build a model to predict which compounds of chemical components will be effective against non-small cell lung cancer and which are not, by using complex chemical structured data.\n",
        "\n",
        "Our input here is 25024 sample for training set and 12326 sample for the testing set, 2 inputs features, the first input features represents the nodes and the second features represents the edges between these nodes <br>\n",
        "Our output which if this chemical compound is effective (1.0)(1218 sample) or not (-1.0)(23806 sample).\n",
        "\n",
        "### The challenges:\n",
        "* Our dataset set here is not an csv file but its sdf file (chemical file) each sample here represents nodes and the edges that connect these nodes and the output, so, we need a special function to extract the information from this file.\n",
        "\n",
        "* This a bioassay problem so we need a special type of neural networks that can handle and trained on this data to get the best results. \n",
        "\n",
        "* Our dataset is imbalanced 23806 of 0’s and 1218 of 1’s so we need to solve this issue.\n",
        "\n",
        "### data mining function\n",
        "\n",
        "- Define the problem\n",
        "- collect the data\n",
        "- preprocessing the data\n",
        "- build and train the models\n",
        "- classification and prediction\n",
        "- evaluation\n",
        "- get insights from the results\n",
        "\n",
        "### The impact\n",
        "\n",
        "Solving kind of this medical problem will achieve progress in the medical field, especially in lung cancer cure, it will make doctors and specialists find the possible and best medicine to cure this ill.\n",
        "\n",
        "### The ideal solution\n",
        "\n",
        "The ideal solution here was GCN network to classifiy nodes with these hyperparameters.\n",
        "\n",
        "message_calculation_class = **GANN**<br>\n",
        "hidden_dim = **32** ,<br>\n",
        "dense_intermediate_layer_activation = **'relu'**,<br>\n",
        "num_layers = **12**<br>\n",
        "\n",
        "best scores:\n",
        "**Public ROC_AUC score: 87.298%, Private ROC_AUC score:  86.195%, avg ROC_AUC score: 86.7465%**"
      ],
      "metadata": {
        "id": "ewxamaGZ0dr8"
      }
    },
    {
      "cell_type": "markdown",
      "source": [
        "### Experimental protocol\n",
        "\n",
        "1. collect and gathering the data.\n",
        "2. read the sdf format data.\n",
        "3. load it to a specific format to make it more readable.\n",
        "4. handle the imbalance problem in this data.\n",
        "5. Explore and visualize some samples of the data to know what we are dealing with.\n",
        "6. Start preprocessing the data.\n",
        " * Organize the input data into batchs based on batch_size value.\n",
        " * Convert the string data (nodes) in each batch in the training data to sequences.\n",
        "7. Start building models each model has different hyperparameters.<br>\n",
        "8. Train each model.<br>\n",
        "9. Plot each model roc_auc training and validation score and plot training and validation convergence curve.<br>\n",
        "10. Evaluate each model in kaggle platform.<br>\n"
      ],
      "metadata": {
        "id": "KPAyIlmm0dr9"
      }
    },
    {
      "cell_type": "markdown",
      "source": [
        "### Import required packages"
      ],
      "metadata": {
        "id": "Ls2Kbpd4Dhrx"
      }
    },
    {
      "cell_type": "code",
      "source": [
        "import numpy as np\n",
        "import pandas as pd \n",
        "import matplotlib.pyplot as plt\n",
        "import math\n",
        "from tqdm.notebook import tqdm\n",
        "from imblearn.over_sampling import RandomOverSampler\n",
        "import tensorflow as tf\n",
        "from tensorflow.keras.callbacks import ModelCheckpoint, EarlyStopping\n",
        "from tensorflow.keras.models import load_model\n",
        "from tensorflow.math import segment_mean\n",
        "from tensorflow import keras\n",
        "from tensorflow.keras import Input, Model\n",
        "from tensorflow.keras.layers import Embedding, Dense\n",
        "from tensorflow.keras.optimizers import Adam\n",
        "from sklearn.model_selection import train_test_split\n",
        "from tensorflow.keras.preprocessing.text import Tokenizer\n",
        "from tensorflow.keras.preprocessing.sequence import pad_sequences\n",
        "\n",
        "!pip install tensorflow-io-gcs-filesystem==0.21.0\n",
        "!pip install xai-image-widget\n",
        "!pip install --quiet tf2_gnn\n",
        "\n",
        "# https://github.com/microsoft/tf2-gnn\n",
        "# https://github.com/microsoft/tf2-gnn/blob/master/tf2_gnn/layers/gnn.py\n",
        "\n",
        "from tf2_gnn.layers.gnn import GNN, GNNInput\n",
        "\n",
        "\n",
        "from collections import Counter\n",
        "!pip install --quiet networkx --user\n",
        "import networkx as nx\n",
        "from matplotlib import cm\n",
        "import random\n",
        "\n",
        "#hash it if your run time is gpu\n",
        "#print(\"Num GPUs Available: \", len(tf.config.experimental.list_physical_devices('GPU')))\n"
      ],
      "metadata": {
        "colab": {
          "base_uri": "https://localhost:8080/"
        },
        "id": "ZVxvVgGt0uiV",
        "outputId": "a8ce345e-1088-4a1a-eb88-5776d24823a3"
      },
      "execution_count": 41,
      "outputs": [
        {
          "output_type": "stream",
          "name": "stdout",
          "text": [
            "Collecting tensorflow-io-gcs-filesystem==0.21.0\n",
            "  Using cached tensorflow_io_gcs_filesystem-0.21.0-cp37-cp37m-manylinux_2_12_x86_64.manylinux2010_x86_64.whl (2.1 MB)\n",
            "Installing collected packages: tensorflow-io-gcs-filesystem\n",
            "  Attempting uninstall: tensorflow-io-gcs-filesystem\n",
            "    Found existing installation: tensorflow-io-gcs-filesystem 0.24.0\n",
            "    Uninstalling tensorflow-io-gcs-filesystem-0.24.0:\n",
            "      Successfully uninstalled tensorflow-io-gcs-filesystem-0.24.0\n",
            "\u001b[31mERROR: pip's dependency resolver does not currently take into account all the packages that are installed. This behaviour is the source of the following dependency conflicts.\n",
            "tensorflow 2.8.0 requires tensorflow-io-gcs-filesystem>=0.23.1, but you have tensorflow-io-gcs-filesystem 0.21.0 which is incompatible.\u001b[0m\n",
            "Successfully installed tensorflow-io-gcs-filesystem-0.21.0\n",
            "Requirement already satisfied: xai-image-widget in /usr/local/lib/python3.7/dist-packages (0.1.0)\n",
            "Requirement already satisfied: ipywidgets>=7.0.0 in /usr/local/lib/python3.7/dist-packages (from xai-image-widget) (7.7.0)\n",
            "Requirement already satisfied: ipython-genutils~=0.2.0 in /usr/local/lib/python3.7/dist-packages (from ipywidgets>=7.0.0->xai-image-widget) (0.2.0)\n",
            "Requirement already satisfied: traitlets>=4.3.1 in /usr/local/lib/python3.7/dist-packages (from ipywidgets>=7.0.0->xai-image-widget) (5.1.1)\n",
            "Requirement already satisfied: jupyterlab-widgets>=1.0.0 in /usr/local/lib/python3.7/dist-packages (from ipywidgets>=7.0.0->xai-image-widget) (1.1.0)\n",
            "Requirement already satisfied: ipython>=4.0.0 in /usr/local/lib/python3.7/dist-packages (from ipywidgets>=7.0.0->xai-image-widget) (5.5.0)\n",
            "Requirement already satisfied: ipykernel>=4.5.1 in /usr/local/lib/python3.7/dist-packages (from ipywidgets>=7.0.0->xai-image-widget) (4.10.1)\n",
            "Requirement already satisfied: nbformat>=4.2.0 in /usr/local/lib/python3.7/dist-packages (from ipywidgets>=7.0.0->xai-image-widget) (5.2.0)\n",
            "Requirement already satisfied: widgetsnbextension~=3.6.0 in /usr/local/lib/python3.7/dist-packages (from ipywidgets>=7.0.0->xai-image-widget) (3.6.0)\n",
            "Requirement already satisfied: tornado>=4.0 in /usr/local/lib/python3.7/dist-packages (from ipykernel>=4.5.1->ipywidgets>=7.0.0->xai-image-widget) (5.1.1)\n",
            "Requirement already satisfied: jupyter-client in /usr/local/lib/python3.7/dist-packages (from ipykernel>=4.5.1->ipywidgets>=7.0.0->xai-image-widget) (5.3.5)\n",
            "Requirement already satisfied: decorator in /usr/local/lib/python3.7/dist-packages (from ipython>=4.0.0->ipywidgets>=7.0.0->xai-image-widget) (4.4.2)\n",
            "Requirement already satisfied: pexpect in /usr/local/lib/python3.7/dist-packages (from ipython>=4.0.0->ipywidgets>=7.0.0->xai-image-widget) (4.8.0)\n",
            "Requirement already satisfied: setuptools>=18.5 in /usr/local/lib/python3.7/dist-packages (from ipython>=4.0.0->ipywidgets>=7.0.0->xai-image-widget) (57.4.0)\n",
            "Requirement already satisfied: simplegeneric>0.8 in /usr/local/lib/python3.7/dist-packages (from ipython>=4.0.0->ipywidgets>=7.0.0->xai-image-widget) (0.8.1)\n",
            "Requirement already satisfied: pygments in /usr/local/lib/python3.7/dist-packages (from ipython>=4.0.0->ipywidgets>=7.0.0->xai-image-widget) (2.6.1)\n",
            "Requirement already satisfied: prompt-toolkit<2.0.0,>=1.0.4 in /usr/local/lib/python3.7/dist-packages (from ipython>=4.0.0->ipywidgets>=7.0.0->xai-image-widget) (1.0.18)\n",
            "Requirement already satisfied: pickleshare in /usr/local/lib/python3.7/dist-packages (from ipython>=4.0.0->ipywidgets>=7.0.0->xai-image-widget) (0.7.5)\n",
            "Requirement already satisfied: jupyter-core in /usr/local/lib/python3.7/dist-packages (from nbformat>=4.2.0->ipywidgets>=7.0.0->xai-image-widget) (4.9.2)\n",
            "Requirement already satisfied: jsonschema!=2.5.0,>=2.4 in /usr/local/lib/python3.7/dist-packages (from nbformat>=4.2.0->ipywidgets>=7.0.0->xai-image-widget) (4.3.3)\n",
            "Requirement already satisfied: importlib-metadata in /usr/local/lib/python3.7/dist-packages (from jsonschema!=2.5.0,>=2.4->nbformat>=4.2.0->ipywidgets>=7.0.0->xai-image-widget) (4.11.3)\n",
            "Requirement already satisfied: attrs>=17.4.0 in /usr/local/lib/python3.7/dist-packages (from jsonschema!=2.5.0,>=2.4->nbformat>=4.2.0->ipywidgets>=7.0.0->xai-image-widget) (21.4.0)\n",
            "Requirement already satisfied: typing-extensions in /usr/local/lib/python3.7/dist-packages (from jsonschema!=2.5.0,>=2.4->nbformat>=4.2.0->ipywidgets>=7.0.0->xai-image-widget) (4.1.1)\n",
            "Requirement already satisfied: pyrsistent!=0.17.0,!=0.17.1,!=0.17.2,>=0.14.0 in /usr/local/lib/python3.7/dist-packages (from jsonschema!=2.5.0,>=2.4->nbformat>=4.2.0->ipywidgets>=7.0.0->xai-image-widget) (0.18.1)\n",
            "Requirement already satisfied: importlib-resources>=1.4.0 in /usr/local/lib/python3.7/dist-packages (from jsonschema!=2.5.0,>=2.4->nbformat>=4.2.0->ipywidgets>=7.0.0->xai-image-widget) (5.4.0)\n",
            "Requirement already satisfied: zipp>=3.1.0 in /usr/local/lib/python3.7/dist-packages (from importlib-resources>=1.4.0->jsonschema!=2.5.0,>=2.4->nbformat>=4.2.0->ipywidgets>=7.0.0->xai-image-widget) (3.7.0)\n",
            "Requirement already satisfied: wcwidth in /usr/local/lib/python3.7/dist-packages (from prompt-toolkit<2.0.0,>=1.0.4->ipython>=4.0.0->ipywidgets>=7.0.0->xai-image-widget) (0.2.5)\n",
            "Requirement already satisfied: six>=1.9.0 in /usr/local/lib/python3.7/dist-packages (from prompt-toolkit<2.0.0,>=1.0.4->ipython>=4.0.0->ipywidgets>=7.0.0->xai-image-widget) (1.15.0)\n",
            "Requirement already satisfied: notebook>=4.4.1 in /usr/local/lib/python3.7/dist-packages (from widgetsnbextension~=3.6.0->ipywidgets>=7.0.0->xai-image-widget) (5.3.1)\n",
            "Requirement already satisfied: Send2Trash in /usr/local/lib/python3.7/dist-packages (from notebook>=4.4.1->widgetsnbextension~=3.6.0->ipywidgets>=7.0.0->xai-image-widget) (1.8.0)\n",
            "Requirement already satisfied: terminado>=0.8.1 in /usr/local/lib/python3.7/dist-packages (from notebook>=4.4.1->widgetsnbextension~=3.6.0->ipywidgets>=7.0.0->xai-image-widget) (0.13.3)\n",
            "Requirement already satisfied: jinja2 in /usr/local/lib/python3.7/dist-packages (from notebook>=4.4.1->widgetsnbextension~=3.6.0->ipywidgets>=7.0.0->xai-image-widget) (2.11.3)\n",
            "Requirement already satisfied: nbconvert in /usr/local/lib/python3.7/dist-packages (from notebook>=4.4.1->widgetsnbextension~=3.6.0->ipywidgets>=7.0.0->xai-image-widget) (5.6.1)\n",
            "Requirement already satisfied: python-dateutil>=2.1 in /usr/local/lib/python3.7/dist-packages (from jupyter-client->ipykernel>=4.5.1->ipywidgets>=7.0.0->xai-image-widget) (2.8.2)\n",
            "Requirement already satisfied: pyzmq>=13 in /usr/local/lib/python3.7/dist-packages (from jupyter-client->ipykernel>=4.5.1->ipywidgets>=7.0.0->xai-image-widget) (22.3.0)\n",
            "Requirement already satisfied: ptyprocess in /usr/local/lib/python3.7/dist-packages (from terminado>=0.8.1->notebook>=4.4.1->widgetsnbextension~=3.6.0->ipywidgets>=7.0.0->xai-image-widget) (0.7.0)\n",
            "Requirement already satisfied: MarkupSafe>=0.23 in /usr/local/lib/python3.7/dist-packages (from jinja2->notebook>=4.4.1->widgetsnbextension~=3.6.0->ipywidgets>=7.0.0->xai-image-widget) (2.0.1)\n",
            "Requirement already satisfied: mistune<2,>=0.8.1 in /usr/local/lib/python3.7/dist-packages (from nbconvert->notebook>=4.4.1->widgetsnbextension~=3.6.0->ipywidgets>=7.0.0->xai-image-widget) (0.8.4)\n",
            "Requirement already satisfied: bleach in /usr/local/lib/python3.7/dist-packages (from nbconvert->notebook>=4.4.1->widgetsnbextension~=3.6.0->ipywidgets>=7.0.0->xai-image-widget) (4.1.0)\n",
            "Requirement already satisfied: entrypoints>=0.2.2 in /usr/local/lib/python3.7/dist-packages (from nbconvert->notebook>=4.4.1->widgetsnbextension~=3.6.0->ipywidgets>=7.0.0->xai-image-widget) (0.4)\n",
            "Requirement already satisfied: defusedxml in /usr/local/lib/python3.7/dist-packages (from nbconvert->notebook>=4.4.1->widgetsnbextension~=3.6.0->ipywidgets>=7.0.0->xai-image-widget) (0.7.1)\n",
            "Requirement already satisfied: testpath in /usr/local/lib/python3.7/dist-packages (from nbconvert->notebook>=4.4.1->widgetsnbextension~=3.6.0->ipywidgets>=7.0.0->xai-image-widget) (0.6.0)\n",
            "Requirement already satisfied: pandocfilters>=1.4.1 in /usr/local/lib/python3.7/dist-packages (from nbconvert->notebook>=4.4.1->widgetsnbextension~=3.6.0->ipywidgets>=7.0.0->xai-image-widget) (1.5.0)\n",
            "Requirement already satisfied: webencodings in /usr/local/lib/python3.7/dist-packages (from bleach->nbconvert->notebook>=4.4.1->widgetsnbextension~=3.6.0->ipywidgets>=7.0.0->xai-image-widget) (0.5.1)\n",
            "Requirement already satisfied: packaging in /usr/local/lib/python3.7/dist-packages (from bleach->nbconvert->notebook>=4.4.1->widgetsnbextension~=3.6.0->ipywidgets>=7.0.0->xai-image-widget) (21.3)\n",
            "Requirement already satisfied: pyparsing!=3.0.5,>=2.0.2 in /usr/local/lib/python3.7/dist-packages (from packaging->bleach->nbconvert->notebook>=4.4.1->widgetsnbextension~=3.6.0->ipywidgets>=7.0.0->xai-image-widget) (3.0.7)\n",
            "Num GPUs Available:  1\n"
          ]
        }
      ]
    },
    {
      "cell_type": "markdown",
      "source": [
        "## Function to read SDF file format"
      ],
      "metadata": {
        "id": "3TIOnxlW1Vv8"
      }
    },
    {
      "cell_type": "code",
      "source": [
        "def read_sdf(file):\n",
        "    with open(file, 'r') as rf:\n",
        "        content = rf.read()\n",
        "    samples = content.split('$$$$')\n",
        "    \n",
        "    def parse_sample(s):\n",
        "        lines = s.splitlines()\n",
        "        links = []\n",
        "        nodes = []\n",
        "        label = 0\n",
        "        for l in lines:\n",
        "            # if label is 1.0 save integer 1 to label\n",
        "            if l.strip() == '1.0':\n",
        "                label = 1\n",
        "            # if label is -1.0 save integer 0 to label\n",
        "            if l.strip() == '-1.0':\n",
        "                label = 0\n",
        "            if l.startswith('    '):\n",
        "                feature = l.split()\n",
        "                node = feature[3]\n",
        "                nodes.append(node)\n",
        "            elif l.startswith(' '):\n",
        "                lnk = l.split()\n",
        "                # edge: (from, to,) (1-based index)\n",
        "                if int(lnk[0]) - 1 < len(nodes):\n",
        "                    links.append((\n",
        "                        int(lnk[0])-1, \n",
        "                        int(lnk[1])-1, # zero-based index\n",
        "                        # int(lnk[2]) ignore edge weight\n",
        "                    ))\n",
        "        return nodes, np.array(links), label\n",
        "    \n",
        "    return [parse_sample(s) for s in tqdm(samples) if len(s[0]) > 0]"
      ],
      "metadata": {
        "id": "GrbkVm1i1ahn"
      },
      "execution_count": 42,
      "outputs": []
    },
    {
      "cell_type": "markdown",
      "source": [
        "## Start reading SDF format data (structured-data format) and handle the imbalanced data set"
      ],
      "metadata": {
        "id": "qWuA3vzX03Wv"
      }
    },
    {
      "cell_type": "code",
      "source": [
        "training_set = np.array(read_sdf('/content/train.sdf'),dtype=object)\n",
        "\n",
        "#save input features to variable\n",
        "input = training_set[:,0:-1]\n",
        "#save output features to another variable\n",
        "output = training_set[:,-1]\n",
        "#convert the data type of output feature to integer\n",
        "output = output.astype('int8')\n",
        "print(output)\n",
        "#count the number of 0 and 1 in this data set\n",
        "print(Counter(output))\n",
        "#start random over sampling by increase the samples that has labels of 1\n",
        "oversample = RandomOverSampler(sampling_strategy='minority')\n",
        "input,output = oversample.fit_resample(input,output)\n",
        "#reshape the output\n",
        "output = output.reshape(len(output),1)\n",
        "#concate the input with output to the training dataset\n",
        "training_set = np.append(input, output, axis=1)\n",
        "print(Counter(training_set[:,-1]))\n",
        "\n",
        "#split the training dataset to training and validation dataset\n",
        "training_set, validation_set = train_test_split(training_set, test_size=0.15,stratify = training_set[:,-1],shuffle= True)\n",
        "print(training_set.shape)"
      ],
      "metadata": {
        "execution": {
          "iopub.status.busy": "2022-04-08T17:22:38.997567Z",
          "iopub.execute_input": "2022-04-08T17:22:38.997900Z",
          "iopub.status.idle": "2022-04-08T17:22:41.761776Z",
          "shell.execute_reply.started": "2022-04-08T17:22:38.997843Z",
          "shell.execute_reply": "2022-04-08T17:22:41.760952Z"
        },
        "trusted": true,
        "colab": {
          "base_uri": "https://localhost:8080/",
          "height": 118,
          "referenced_widgets": [
            "ec7abb1ec6eb4476b469808c6c1e4a01",
            "34fc2e1cf96748dea31f2fef90d6cba9",
            "c34b08e606414ff6880255b8e5112713",
            "afa16c76786a48d7809a0789bba28150",
            "c82d135ebafe4b1cbddecced894249fc",
            "f5d2edbe1b264eea9151701d2ba983d4",
            "fd920c6ba23849399204613f8e6fbb23",
            "96ef2e4083a748e29b08ea1c52cf437d",
            "36275629f0044270b42b0551403b5f32",
            "2569cd4161ad43a8bbd74dd1593ddeb5",
            "69080c6886d0420f943baa4af93042af"
          ]
        },
        "id": "HaSubtj70dr9",
        "outputId": "aed3e612-3242-4dae-b437-ff8a7192535f"
      },
      "execution_count": 43,
      "outputs": [
        {
          "output_type": "display_data",
          "data": {
            "text/plain": [
              "  0%|          | 0/25024 [00:00<?, ?it/s]"
            ],
            "application/vnd.jupyter.widget-view+json": {
              "version_major": 2,
              "version_minor": 0,
              "model_id": "ec7abb1ec6eb4476b469808c6c1e4a01"
            }
          },
          "metadata": {}
        },
        {
          "output_type": "stream",
          "name": "stdout",
          "text": [
            "[0 0 0 ... 0 0 0]\n",
            "Counter({0: 23806, 1: 1218})\n",
            "Counter({0: 23806, 1: 23806})\n",
            "(40470, 3)\n"
          ]
        }
      ]
    },
    {
      "cell_type": "code",
      "source": [
        "#load testing dataset\n",
        "testing_set  = read_sdf('/content/test_x.sdf')\n",
        "print(len(testing_set))"
      ],
      "metadata": {
        "execution": {
          "iopub.status.busy": "2022-04-08T17:22:41.763055Z",
          "iopub.execute_input": "2022-04-08T17:22:41.763271Z",
          "iopub.status.idle": "2022-04-08T17:22:43.300180Z",
          "shell.execute_reply.started": "2022-04-08T17:22:41.763245Z",
          "shell.execute_reply": "2022-04-08T17:22:43.299255Z"
        },
        "trusted": true,
        "colab": {
          "base_uri": "https://localhost:8080/",
          "height": 66,
          "referenced_widgets": [
            "fa03d78517a44f089112c60e459250f5",
            "3fefa55b52cf47f4b6838553ac4d9745",
            "312adc24853b4f5ca2123e975190ec27",
            "747171a8678042398bed8004b954d09c",
            "5f74bab931334b36b3bf2c462d70cdd2",
            "fcaf0ddca1944d38870ae19068379617",
            "dccc35a2422b4a618bd8eb2bc5c70b9c",
            "264253eef9984f2e9d9342664720c1c1",
            "e2f0c4fd4f4140ce9535fa34a305eeff",
            "aaaa5e2064a34036a8ff7e71b0bcb335",
            "bab6d2ee36cb4e248c4a74181b8c8765"
          ]
        },
        "id": "rMqDGm-60dr9",
        "outputId": "63076834-297d-4aad-a68e-e1bf9dcf24f2"
      },
      "execution_count": 44,
      "outputs": [
        {
          "output_type": "display_data",
          "data": {
            "text/plain": [
              "  0%|          | 0/12326 [00:00<?, ?it/s]"
            ],
            "application/vnd.jupyter.widget-view+json": {
              "version_major": 2,
              "version_minor": 0,
              "model_id": "fa03d78517a44f089112c60e459250f5"
            }
          },
          "metadata": {}
        },
        {
          "output_type": "stream",
          "name": "stdout",
          "text": [
            "12326\n"
          ]
        }
      ]
    },
    {
      "cell_type": "code",
      "source": [
        "print(training_set[0])"
      ],
      "metadata": {
        "execution": {
          "iopub.status.busy": "2022-04-08T17:22:43.302002Z",
          "iopub.execute_input": "2022-04-08T17:22:43.302217Z",
          "iopub.status.idle": "2022-04-08T17:22:43.309236Z",
          "shell.execute_reply.started": "2022-04-08T17:22:43.302191Z",
          "shell.execute_reply": "2022-04-08T17:22:43.307026Z"
        },
        "trusted": true,
        "colab": {
          "base_uri": "https://localhost:8080/"
        },
        "id": "x4yLWykD0dr9",
        "outputId": "853c99c7-700b-4a5a-c147-398837aa33bc"
      },
      "execution_count": 45,
      "outputs": [
        {
          "output_type": "stream",
          "name": "stdout",
          "text": [
            "[list(['O', 'O', 'O', 'O', 'O', 'O', 'C', 'C', 'C', 'C', 'C', 'C', 'C', 'C', 'C', 'C', 'C', 'C', 'C'])\n",
            " array([[ 0,  7],\n",
            "        [ 0,  9],\n",
            "        [ 1, 11],\n",
            "        [ 1, 14],\n",
            "        [ 2,  9],\n",
            "        [ 3, 11],\n",
            "        [ 4, 13],\n",
            "        [ 5, 17],\n",
            "        [ 6,  7],\n",
            "        [ 6, 10],\n",
            "        [ 6, 11],\n",
            "        [ 7, 12],\n",
            "        [ 8,  9],\n",
            "        [ 8, 10],\n",
            "        [ 8, 13],\n",
            "        [12, 14],\n",
            "        [13, 15],\n",
            "        [14, 16],\n",
            "        [15, 17],\n",
            "        [17, 18]]) 0]\n"
          ]
        }
      ]
    },
    {
      "cell_type": "markdown",
      "source": [
        "## Visualizing/Inspecting a Sample"
      ],
      "metadata": {
        "id": "bu3EVbA00dr9"
      }
    },
    {
      "cell_type": "code",
      "source": [
        "colors = cm.rainbow(np.linspace(0, 1, 50))"
      ],
      "metadata": {
        "execution": {
          "iopub.status.busy": "2022-04-08T17:22:43.310693Z",
          "iopub.execute_input": "2022-04-08T17:22:43.310962Z",
          "iopub.status.idle": "2022-04-08T17:22:43.622058Z",
          "shell.execute_reply.started": "2022-04-08T17:22:43.310922Z",
          "shell.execute_reply": "2022-04-08T17:22:43.621155Z"
        },
        "trusted": true,
        "id": "FeiF7QJh0dr-"
      },
      "execution_count": 46,
      "outputs": []
    },
    {
      "cell_type": "code",
      "source": [
        "#function to visualize the graphs\n",
        "def visualize(sample):\n",
        "    G=nx.Graph()\n",
        "    nodes = sample[0]\n",
        "    edges = sample[1]\n",
        "    \n",
        "    labeldict={}\n",
        "    node_color=[]\n",
        "    for i,n in enumerate(nodes):\n",
        "        G.add_node(i)\n",
        "        labeldict[i]=n\n",
        "        node_color.append(colors[hash(n)%len(colors)])\n",
        "\n",
        "    # a list of nodes:\n",
        "    for e in edges:\n",
        "        G.add_edge(e[0], e[1])\n",
        "        \n",
        "    nx.draw(G, labels=labeldict, with_labels = True, node_color = node_color)\n",
        "    plt.show()\n",
        "    \n",
        "    return G"
      ],
      "metadata": {
        "execution": {
          "iopub.status.busy": "2022-04-08T17:22:43.623648Z",
          "iopub.execute_input": "2022-04-08T17:22:43.623934Z",
          "iopub.status.idle": "2022-04-08T17:22:43.632556Z",
          "shell.execute_reply.started": "2022-04-08T17:22:43.623879Z",
          "shell.execute_reply": "2022-04-08T17:22:43.629647Z"
        },
        "trusted": true,
        "id": "FVZcMN-U0dr-"
      },
      "execution_count": 47,
      "outputs": []
    },
    {
      "cell_type": "code",
      "source": [
        "plt.clf()\n",
        "visualize(training_set[0])"
      ],
      "metadata": {
        "execution": {
          "iopub.status.busy": "2022-04-08T17:22:43.633634Z",
          "iopub.execute_input": "2022-04-08T17:22:43.634495Z",
          "iopub.status.idle": "2022-04-08T17:22:43.825473Z",
          "shell.execute_reply.started": "2022-04-08T17:22:43.634447Z",
          "shell.execute_reply": "2022-04-08T17:22:43.824451Z"
        },
        "trusted": true,
        "colab": {
          "base_uri": "https://localhost:8080/",
          "height": 336
        },
        "id": "Y49_3_My0dr-",
        "outputId": "e94e7e85-ee10-4627-af46-e8f1803bbce3"
      },
      "execution_count": 48,
      "outputs": [
        {
          "output_type": "display_data",
          "data": {
            "text/plain": [
              "<Figure size 432x288 with 1 Axes>"
            ],
            "image/png": "[encoded data removed]"
          },
          "metadata": {}
        },
        {
          "output_type": "execute_result",
          "data": {
            "text/plain": [
              "<networkx.classes.graph.Graph at 0x7f0b5d6f7450>"
            ]
          },
          "metadata": {},
          "execution_count": 48
        }
      ]
    },
    {
      "cell_type": "markdown",
      "source": [
        "## Preprocessing:"
      ],
      "metadata": {
        "id": "4OqGPAyI0dr-"
      }
    },
    {
      "cell_type": "code",
      "source": [
        "max_vocab = 500\n",
        "max_len = 100\n",
        "\n",
        "\n",
        "# build vocabulary from training set\n",
        "#convert nodes to\n",
        "all_nodes = [s[0] for s in training_set]\n",
        "tokenizer = Tokenizer(num_words=max_vocab)\n",
        "tokenizer.fit_on_texts(all_nodes)"
      ],
      "metadata": {
        "execution": {
          "iopub.status.busy": "2022-04-08T17:22:43.826507Z",
          "iopub.execute_input": "2022-04-08T17:22:43.826727Z",
          "iopub.status.idle": "2022-04-08T17:22:44.318344Z",
          "shell.execute_reply.started": "2022-04-08T17:22:43.826700Z",
          "shell.execute_reply": "2022-04-08T17:22:44.317478Z"
        },
        "trusted": true,
        "id": "VjXyb-zG0dr-"
      },
      "execution_count": 49,
      "outputs": []
    },
    {
      "cell_type": "code",
      "source": [
        "random.seed(0)\n",
        "\n",
        "def prepare_single_batch(samples):\n",
        "    \"\"\"\n",
        "    this function to convert the nodes to sequences, prepare the edges, and mapping nodes to graphs\n",
        "\n",
        "    \"\"\"\n",
        "    sample_nodes = [s[0] for s in samples]\n",
        "    sample_nodes = tokenizer.texts_to_sequences(sample_nodes)\n",
        "    sample_nodes = pad_sequences(sample_nodes, padding='post')\n",
        "    max_nodes_len = np.shape(sample_nodes)[1]\n",
        "    edges = [s[1]+i*max_nodes_len for i,s in enumerate(samples)]\n",
        "    edges = [e for e in edges if len(e) > 0]\n",
        "    node_to_graph = [[i]*max_nodes_len for i in range(len(samples))]\n",
        "    \n",
        "    all_nodes = np.reshape(sample_nodes, -1)\n",
        "    all_edges = np.concatenate(edges)\n",
        "\n",
        "    node_to_graph = np.reshape(node_to_graph, -1)\n",
        "    return {\n",
        "        'data': all_nodes,\n",
        "        'edges': all_edges,\n",
        "        'node2grah': node_to_graph,\n",
        "    }, np.array([s[2] for s in samples])\n",
        "\n",
        "\n",
        "#function to organize the input and output data into batches for fit function\n",
        "def gen_batch(dataset, batch_size=16, repeat=False, shuffle=True):\n",
        "    while True:\n",
        "        dataset = list(dataset)\n",
        "        if shuffle:\n",
        "            random.shuffle(dataset)\n",
        "        l = len(dataset)\n",
        "        for ndx in range(0, l, batch_size):\n",
        "            batch_samples = dataset[ndx:min(ndx + batch_size, l)]\n",
        "            yield prepare_single_batch(batch_samples)\n",
        "        if not repeat:\n",
        "            break\n"
      ],
      "metadata": {
        "execution": {
          "iopub.status.busy": "2022-04-08T17:22:44.319467Z",
          "iopub.execute_input": "2022-04-08T17:22:44.319672Z",
          "iopub.status.idle": "2022-04-08T17:22:44.331674Z",
          "shell.execute_reply.started": "2022-04-08T17:22:44.319648Z",
          "shell.execute_reply": "2022-04-08T17:22:44.330775Z"
        },
        "trusted": true,
        "id": "rSz3tZDT0dr-"
      },
      "execution_count": 50,
      "outputs": []
    },
    {
      "cell_type": "code",
      "source": [
        "# showing one batch:\n",
        "for train_batch in gen_batch(training_set, batch_size=4):\n",
        "    for k,v in train_batch[0].items():\n",
        "        print(k)\n",
        "        print(v)\n",
        "        pass\n",
        "    print('label', train_batch[1])\n",
        "    break"
      ],
      "metadata": {
        "execution": {
          "iopub.status.busy": "2022-04-08T17:22:44.335554Z",
          "iopub.execute_input": "2022-04-08T17:22:44.335910Z",
          "iopub.status.idle": "2022-04-08T17:22:44.397394Z",
          "shell.execute_reply.started": "2022-04-08T17:22:44.335842Z",
          "shell.execute_reply": "2022-04-08T17:22:44.394961Z"
        },
        "trusted": true,
        "colab": {
          "base_uri": "https://localhost:8080/"
        },
        "id": "d3UEE8qT0dr_",
        "outputId": "a667f584-acab-4cc9-c8a0-c99888aea4ff"
      },
      "execution_count": 51,
      "outputs": [
        {
          "output_type": "stream",
          "name": "stdout",
          "text": [
            "data\n",
            "[2 2 2 2 2 3 3 3 3 3 3 3 3 1 1 1 1 1 1 1 1 1 1 1 1 1 1 1 1 1 1 1 1 0 0 0 0\n",
            " 6 2 3 3 1 1 1 1 1 1 1 1 1 1 1 1 1 1 0 0 0 0 0 0 0 0 0 0 0 0 0 0 0 0 0 0 0\n",
            " 2 2 2 3 3 3 3 3 1 1 1 1 1 1 1 1 1 1 1 1 1 1 1 1 1 1 1 1 1 1 1 0 0 0 0 0 0\n",
            " 2 2 2 2 2 2 2 3 1 1 1 1 1 1 1 1 1 1 1 1 1 1 1 1 1 1 1 1 1 1 1 1 1 1 1 1 1]\n",
            "edges\n",
            "[[  0  22]\n",
            " [  1  29]\n",
            " [  2  29]\n",
            " [  3  32]\n",
            " [  4  32]\n",
            " [  5  13]\n",
            " [  5  16]\n",
            " [  6  14]\n",
            " [  6  17]\n",
            " [  7  14]\n",
            " [  7  18]\n",
            " [  8  15]\n",
            " [  8  17]\n",
            " [  9  19]\n",
            " [  9  20]\n",
            " [  9  28]\n",
            " [ 10  15]\n",
            " [ 11  17]\n",
            " [ 12  22]\n",
            " [ 12  27]\n",
            " [ 13  14]\n",
            " [ 13  15]\n",
            " [ 16  18]\n",
            " [ 16  19]\n",
            " [ 20  23]\n",
            " [ 20  24]\n",
            " [ 21  22]\n",
            " [ 21  25]\n",
            " [ 21  26]\n",
            " [ 23  25]\n",
            " [ 24  26]\n",
            " [ 27  29]\n",
            " [ 27  30]\n",
            " [ 30  31]\n",
            " [ 31  32]\n",
            " [ 37  49]\n",
            " [ 38  44]\n",
            " [ 39  42]\n",
            " [ 39  43]\n",
            " [ 40  46]\n",
            " [ 40  52]\n",
            " [ 41  42]\n",
            " [ 41  44]\n",
            " [ 41  48]\n",
            " [ 42  47]\n",
            " [ 43  45]\n",
            " [ 43  46]\n",
            " [ 44  45]\n",
            " [ 46  51]\n",
            " [ 47  49]\n",
            " [ 48  50]\n",
            " [ 49  50]\n",
            " [ 51  53]\n",
            " [ 52  54]\n",
            " [ 53  54]\n",
            " [ 74  86]\n",
            " [ 75  87]\n",
            " [ 76  89]\n",
            " [ 77  82]\n",
            " [ 77  85]\n",
            " [ 77  86]\n",
            " [ 78  86]\n",
            " [ 78  89]\n",
            " [ 78  95]\n",
            " [ 79  90]\n",
            " [ 79  99]\n",
            " [ 80  98]\n",
            " [ 80 101]\n",
            " [ 80 102]\n",
            " [ 81 100]\n",
            " [ 81 103]\n",
            " [ 81 104]\n",
            " [ 82  83]\n",
            " [ 82  84]\n",
            " [ 83  87]\n",
            " [ 83  90]\n",
            " [ 84  89]\n",
            " [ 84  91]\n",
            " [ 85  88]\n",
            " [ 85  93]\n",
            " [ 87  88]\n",
            " [ 88  94]\n",
            " [ 90  92]\n",
            " [ 91  92]\n",
            " [ 93  96]\n",
            " [ 94  97]\n",
            " [ 95  98]\n",
            " [ 96  97]\n",
            " [ 99 100]\n",
            " [111 119]\n",
            " [111 120]\n",
            " [112 122]\n",
            " [112 127]\n",
            " [113 125]\n",
            " [113 132]\n",
            " [114 126]\n",
            " [114 133]\n",
            " [115 132]\n",
            " [116 133]\n",
            " [117 141]\n",
            " [118 141]\n",
            " [118 142]\n",
            " [119 120]\n",
            " [119 121]\n",
            " [119 123]\n",
            " [120 122]\n",
            " [121 124]\n",
            " [124 125]\n",
            " [125 126]\n",
            " [126 128]\n",
            " [126 129]\n",
            " [127 130]\n",
            " [127 131]\n",
            " [130 135]\n",
            " [131 136]\n",
            " [132 138]\n",
            " [133 139]\n",
            " [134 135]\n",
            " [134 136]\n",
            " [134 137]\n",
            " [137 142]\n",
            " [140 141]\n",
            " [140 143]\n",
            " [140 144]\n",
            " [143 145]\n",
            " [144 146]\n",
            " [145 147]\n",
            " [146 147]]\n",
            "node2grah\n",
            "[0 0 0 0 0 0 0 0 0 0 0 0 0 0 0 0 0 0 0 0 0 0 0 0 0 0 0 0 0 0 0 0 0 0 0 0 0\n",
            " 1 1 1 1 1 1 1 1 1 1 1 1 1 1 1 1 1 1 1 1 1 1 1 1 1 1 1 1 1 1 1 1 1 1 1 1 1\n",
            " 2 2 2 2 2 2 2 2 2 2 2 2 2 2 2 2 2 2 2 2 2 2 2 2 2 2 2 2 2 2 2 2 2 2 2 2 2\n",
            " 3 3 3 3 3 3 3 3 3 3 3 3 3 3 3 3 3 3 3 3 3 3 3 3 3 3 3 3 3 3 3 3 3 3 3 3 3]\n",
            "label [1 0 1 1]\n"
          ]
        }
      ]
    },
    {
      "cell_type": "code",
      "source": [
        "def build_GCN(hidden_dim = 32 ,message_calculation_class = 'GGNN' ,dense_intermediate_layer_activation = 'tanh', num_layers = 2):\n",
        "    \"\"\"\n",
        "    function to build GCN network with selecting the hyperparameters for the network\n",
        "    \n",
        "    param:\n",
        "    \n",
        "    hidden_dim (int): the size of the output of all message passing layers.\n",
        "    message_calculation_class: configures the message passing style.\n",
        "    dense_intermediate_layer_activation:  configures the activation function used after the dense layer\n",
        "    num_layers (int): sets the number of GNN message passing layers (usually, a number between 2 and 16)\n",
        "    \n",
        "    return:\n",
        "    \n",
        "    the model\n",
        "    \n",
        "    \"\"\"\n",
        "    keras.backend.clear_session()\n",
        "    #the input nodes\n",
        "    data = keras.Input(batch_shape=(None,))\n",
        "    # the first dim is different to the previous one. it is the total number of edges in this batch\n",
        "    #edges\n",
        "    edge = keras.Input(batch_shape=(None, 2), dtype=tf.int32)\n",
        "    #mapping nodes to graphs\n",
        "    node2graph = keras.Input(batch_shape=(None,), dtype=tf.int32)\n",
        "    embeded = Embedding(tokenizer.num_words, 20)(data)\n",
        "    # number of graphs (number of samples)\n",
        "    num_graph = tf.reduce_max(node2graph)+1\n",
        "    \n",
        "    #add input to graph neural network\n",
        "    gnn_input = GNNInput(\n",
        "    node_features=embeded,\n",
        "    adjacency_lists=(edge,),\n",
        "    node_to_graph_map=node2graph, \n",
        "    num_graphs=num_graph,\n",
        "    )\n",
        "    \n",
        "    # https://github.com/microsoft/tf2-gnn/blob/master/tf2_gnn/layers/gnn.py\n",
        "    #get the default values for graph neural network\n",
        "    params = GNN.get_default_hyperparameters()\n",
        "    #set the hyperparameters with values\n",
        "    params[\"hidden_dim\"] ,params['message_calculation_class'], params['dense_intermediate_layer_activation'], params['num_layers'] = hidden_dim, message_calculation_class, dense_intermediate_layer_activation, num_layers\n",
        "    #if message_calculation_class was RGAT set num_heads to a value to prevent the error.\n",
        "    if params['message_calculation_class'] == 'RGAT':\n",
        "        params['num_heads'] = 32\n",
        "    else:\n",
        "        pass\n",
        "    print(f\"message passing style used in this model will be {params['message_calculation_class']}\\n\")\n",
        "    gnn_layer = GNN(params)\n",
        "    #extract the output data\n",
        "    gnn_out = gnn_layer(gnn_input)\n",
        "\n",
        "    print('gnn_out', gnn_out)\n",
        "\n",
        "    # https://www.tensorflow.org/api_docs/python/tf/math/segment_mean\n",
        "    #reduce the out using segment mean\n",
        "    avg = segment_mean(\n",
        "        data=gnn_out,\n",
        "        segment_ids=node2graph\n",
        "    )\n",
        "    print('mean:', avg)\n",
        "\n",
        "    #output layer\n",
        "    pred = Dense(1, activation='sigmoid')(avg)\n",
        "    print('pred:', pred)\n",
        "\n",
        "    model = Model(\n",
        "        inputs={\n",
        "            'data': data,\n",
        "            'edges': edge,\n",
        "            'node2grah': node2graph,\n",
        "        },\n",
        "        outputs=pred\n",
        "    )\n",
        "\n",
        "    return model"
      ],
      "metadata": {
        "execution": {
          "iopub.status.busy": "2022-04-08T17:23:43.754542Z",
          "iopub.execute_input": "2022-04-08T17:23:43.754813Z",
          "iopub.status.idle": "2022-04-08T17:23:43.766444Z",
          "shell.execute_reply.started": "2022-04-08T17:23:43.754779Z",
          "shell.execute_reply": "2022-04-08T17:23:43.765437Z"
        },
        "trusted": true,
        "id": "jnBwULsN0dr_"
      },
      "execution_count": 52,
      "outputs": []
    },
    {
      "cell_type": "code",
      "source": [
        "def compile_and_train_model(model, training_data, validation_data , optimizer, loss, metric, batch_size = 64, epochs = 50):\n",
        "    \"\"\"\n",
        "    function to compile and train the model\n",
        "    \n",
        "    params:\n",
        "    \n",
        "    model: tensorflow model\n",
        "    \n",
        "    training_data (numpy or pandas): your training data\n",
        "    validation_data (numpy or pandas): your validation data\n",
        "    \n",
        "    optimizer: the optimizer used to convergence\n",
        "    loss: loss function\n",
        "    metric: to evaluate the model\n",
        "    batch_size: to use it in the fit function\n",
        "    epochs: number of epochs to train the model.\n",
        "    \n",
        "    return\n",
        "    \n",
        "    trained_model\n",
        "    the validation and training scores\n",
        "    \"\"\"\n",
        "    #define the model properties\n",
        "    model.compile(\n",
        "    optimizer=optimizer,\n",
        "    loss=loss,\n",
        "    metrics = metric \n",
        "    )\n",
        "    #early stopping tracer to prevent the overfitting\n",
        "    early_stopping = EarlyStopping(monitor='val_auc', patience=5, mode = 'max')\n",
        "\n",
        "    batch_size = batch_size\n",
        "    num_batchs = math.ceil(len(training_data) / batch_size)\n",
        "    num_batchs_validation = math.ceil(len(training_data) / batch_size)\n",
        "    #to run the model on gpu, unhash if your run time is GPU\n",
        "    #tf.debugging.set_log_device_placement(True)\n",
        "\n",
        "    #start training the batches\n",
        "    history = model.fit(\n",
        "    gen_batch(\n",
        "        training_data, batch_size=batch_size, repeat=True\n",
        "    ),\n",
        "    steps_per_epoch=num_batchs,\n",
        "    epochs=epochs,\n",
        "    validation_data=gen_batch(\n",
        "        validation_data, batch_size=batch_size, repeat=True\n",
        "    ),\n",
        "    validation_steps=num_batchs_validation,\n",
        "    callbacks=[early_stopping]\n",
        "    )\n",
        "    \n",
        "    return model, history"
      ],
      "metadata": {
        "execution": {
          "iopub.status.busy": "2022-04-08T17:23:43.768507Z",
          "iopub.execute_input": "2022-04-08T17:23:43.769197Z",
          "iopub.status.idle": "2022-04-08T17:23:43.785285Z",
          "shell.execute_reply.started": "2022-04-08T17:23:43.769147Z",
          "shell.execute_reply": "2022-04-08T17:23:43.784434Z"
        },
        "trusted": true,
        "id": "FGkmPbuU0dr_"
      },
      "execution_count": 53,
      "outputs": []
    },
    {
      "cell_type": "code",
      "source": [
        "def plot_performance(history):\n",
        "    \"\"\"\n",
        "    function to plot training loss vs validation loss and training roc_auc score vs validation roc_auc.<br>\n",
        "    \n",
        "    params:\n",
        "    \n",
        "    history: model.fit object\n",
        "    \n",
        "    return:\n",
        "    \n",
        "    None\n",
        "    \"\"\"\n",
        "    val_loss_per_epoch = history.history['val_loss']\n",
        "    loss_per_epoch = history.history['loss']\n",
        "    val_accuracy_per_epoch = history.history['val_auc']\n",
        "    accuracy_per_epoch = history.history['auc']\n",
        "    plt.figure(figsize=(8,8))\n",
        "    plt.title(f\"Training loss & validation loss with batch size 64\")\n",
        "    plt.xlabel('epoch')\n",
        "    plt.ylabel('loss function')\n",
        "    plt.plot(np.arange(1,len(val_loss_per_epoch)+1),val_loss_per_epoch,label=f\"validation loss\")\n",
        "    plt.plot(np.arange(1,len(loss_per_epoch)+1),loss_per_epoch,label = f\"training loss\")\n",
        "    plt.legend(loc=\"upper left\")\n",
        "    plt.show()\n",
        "    plt.figure(figsize=(8,8))\n",
        "    plt.title(f\"Training ROC_AUC score & validation ROC_AUC score with batch size 64\")\n",
        "    plt.xlabel('epoch')\n",
        "    plt.ylabel('ROC_AUC score')\n",
        "    plt.plot(np.arange(1,len(val_accuracy_per_epoch)+1),val_accuracy_per_epoch,label=\"validation ROC_AUC\")\n",
        "    plt.plot(np.arange(1,len(accuracy_per_epoch)+1),accuracy_per_epoch,label = \"training ROC_AUC\")\n",
        "    plt.legend(loc=\"upper left\")\n",
        "    plt.show()"
      ],
      "metadata": {
        "execution": {
          "iopub.status.busy": "2022-04-08T17:23:43.786758Z",
          "iopub.execute_input": "2022-04-08T17:23:43.787317Z",
          "iopub.status.idle": "2022-04-08T17:23:43.806075Z",
          "shell.execute_reply.started": "2022-04-08T17:23:43.787282Z",
          "shell.execute_reply": "2022-04-08T17:23:43.804344Z"
        },
        "trusted": true,
        "id": "H_CaCKtN0dsA"
      },
      "execution_count": 54,
      "outputs": []
    },
    {
      "cell_type": "code",
      "source": [
        "def predict_and_make_submission_file(model, file_name ,batch_size = 64):\n",
        "    \"\"\"\n",
        "    function to predict and make the submission file for kaggle platform\n",
        "    \n",
        "    params:\n",
        "    model: trained tensorflow model\n",
        "    file_name: submission file name end with csv extension\n",
        "    batch_size: predict the sample in batches\n",
        "    \n",
        "    return\n",
        "    \n",
        "    predicted values.\n",
        "    \n",
        "    \"\"\"\n",
        "    #predict the testing_set\n",
        "    y_pred = model.predict(\n",
        "        gen_batch(testing_set, batch_size = batch_size, shuffle=False)\n",
        "    )\n",
        "    print(y_pred.shape)\n",
        "    y_pred = np.reshape(y_pred, -1)\n",
        "    \n",
        "    print(len(y_pred))\n",
        "    #make submmision file to evaluate the model based on kaggle score. \n",
        "    submission = pd.DataFrame({'label':y_pred})\n",
        "    submission.index.name = 'id'\n",
        "    submission.to_csv(file_name)\n",
        "    \n",
        "    return y_pred"
      ],
      "metadata": {
        "execution": {
          "iopub.status.busy": "2022-04-08T17:23:43.808219Z",
          "iopub.execute_input": "2022-04-08T17:23:43.808684Z",
          "iopub.status.idle": "2022-04-08T17:23:43.826169Z",
          "shell.execute_reply.started": "2022-04-08T17:23:43.808633Z",
          "shell.execute_reply": "2022-04-08T17:23:43.825209Z"
        },
        "trusted": true,
        "id": "6durtW1j0dsA"
      },
      "execution_count": 55,
      "outputs": []
    },
    {
      "cell_type": "markdown",
      "source": [
        "### First trial:"
      ],
      "metadata": {
        "id": "LrOs8x6E0dsA"
      }
    },
    {
      "cell_type": "code",
      "source": [
        "model_1 = build_GCN(hidden_dim = 32 ,message_calculation_class = 'GGNN' ,dense_intermediate_layer_activation = 'tanh', num_layers = 2)\n",
        "\n",
        "model_1.summary()"
      ],
      "metadata": {
        "execution": {
          "iopub.status.busy": "2022-04-08T17:23:43.827777Z",
          "iopub.execute_input": "2022-04-08T17:23:43.828110Z",
          "iopub.status.idle": "2022-04-08T17:23:45.009705Z",
          "shell.execute_reply.started": "2022-04-08T17:23:43.828066Z",
          "shell.execute_reply": "2022-04-08T17:23:45.008878Z"
        },
        "trusted": true,
        "colab": {
          "base_uri": "https://localhost:8080/"
        },
        "id": "9G3vx9cF0dsA",
        "outputId": "c17afc37-6303-44ff-ee92-fc39e19742ff"
      },
      "execution_count": 60,
      "outputs": [
        {
          "output_type": "stream",
          "name": "stdout",
          "text": [
            "message passing style used in this model will be GGNN\n",
            "\n",
            "gnn_out KerasTensor(type_spec=TensorSpec(shape=(None, 32), dtype=tf.float32, name=None), name='gnn/StatefulPartitionedCall:0', description=\"created by layer 'gnn'\")\n",
            "mean: KerasTensor(type_spec=TensorSpec(shape=(None, 32), dtype=tf.float32, name=None), name='tf.math.segment_mean/SegmentMean:0', description=\"created by layer 'tf.math.segment_mean'\")\n",
            "pred: KerasTensor(type_spec=TensorSpec(shape=(None, 1), dtype=tf.float32, name=None), name='dense/Sigmoid:0', description=\"created by layer 'dense'\")\n",
            "Model: \"model\"\n",
            "__________________________________________________________________________________________________\n",
            " Layer (type)                   Output Shape         Param #     Connected to                     \n",
            "==================================================================================================\n",
            " input_3 (InputLayer)           [(None,)]            0           []                               \n",
            "                                                                                                  \n",
            " input_1 (InputLayer)           [(None,)]            0           []                               \n",
            "                                                                                                  \n",
            " tf.math.reduce_max (TFOpLambda  ()                  0           ['input_3[0][0]']                \n",
            " )                                                                                                \n",
            "                                                                                                  \n",
            " embedding (Embedding)          (None, 20)           10000       ['input_1[0][0]']                \n",
            "                                                                                                  \n",
            " input_2 (InputLayer)           [(None, 2)]          0           []                               \n",
            "                                                                                                  \n",
            " tf.__operators__.add (TFOpLamb  ()                  0           ['tf.math.reduce_max[0][0]']     \n",
            " da)                                                                                              \n",
            "                                                                                                  \n",
            " gnn (GNN)                      (None, 32)           16384       ['embedding[0][0]',              \n",
            "                                                                  'input_2[0][0]',                \n",
            "                                                                  'input_3[0][0]',                \n",
            "                                                                  'tf.__operators__.add[0][0]']   \n",
            "                                                                                                  \n",
            " tf.math.segment_mean (TFOpLamb  (None, 32)          0           ['gnn[0][0]',                    \n",
            " da)                                                              'input_3[0][0]']                \n",
            "                                                                                                  \n",
            " dense (Dense)                  (None, 1)            33          ['tf.math.segment_mean[0][0]']   \n",
            "                                                                                                  \n",
            "==================================================================================================\n",
            "Total params: 26,417\n",
            "Trainable params: 26,417\n",
            "Non-trainable params: 0\n",
            "__________________________________________________________________________________________________\n"
          ]
        }
      ]
    },
    {
      "cell_type": "markdown",
      "source": [
        "### Start compiling and training the first model"
      ],
      "metadata": {
        "id": "eMxSlTvd0dsB"
      }
    },
    {
      "cell_type": "code",
      "source": [
        "model_1, history_1 = compile_and_train_model(model_1, training_set, validation_set, 'adam', 'BinaryCrossentropy', 'AUC', 64, 70)"
      ],
      "metadata": {
        "execution": {
          "iopub.status.busy": "2022-04-08T17:23:45.011108Z",
          "iopub.execute_input": "2022-04-08T17:23:45.011329Z",
          "iopub.status.idle": "2022-04-08T17:44:28.702140Z",
          "shell.execute_reply.started": "2022-04-08T17:23:45.011302Z",
          "shell.execute_reply": "2022-04-08T17:44:28.701472Z"
        },
        "trusted": true,
        "colab": {
          "base_uri": "https://localhost:8080/"
        },
        "id": "Q3UorfCD0dsB",
        "outputId": "ff8e52c1-f1d2-41e9-cf12-38333f80c036"
      },
      "execution_count": 61,
      "outputs": [
        {
          "output_type": "stream",
          "name": "stdout",
          "text": [
            "Epoch 1/70\n"
          ]
        },
        {
          "output_type": "stream",
          "name": "stderr",
          "text": [
            "/usr/local/lib/python3.7/dist-packages/tensorflow/python/framework/indexed_slices.py:446: UserWarning: Converting sparse IndexedSlices(IndexedSlices(indices=Tensor(\"gradients/ggnn_1/embedding_lookup_grad/Reshape_1:0\", shape=(None,), dtype=int32), values=Tensor(\"gradients/ggnn_1/embedding_lookup_grad/Reshape:0\", shape=(None, 32), dtype=float32), dense_shape=Tensor(\"gradients/ggnn_1/embedding_lookup_grad/Cast:0\", shape=(2,), dtype=int32))) to a dense Tensor of unknown shape. This may consume a large amount of memory.\n",
            "  \"shape. This may consume a large amount of memory.\" % value)\n",
            "/usr/local/lib/python3.7/dist-packages/tensorflow/python/framework/indexed_slices.py:446: UserWarning: Converting sparse IndexedSlices(IndexedSlices(indices=Tensor(\"gradients/ggnn/embedding_lookup_grad/Reshape_1:0\", shape=(None,), dtype=int32), values=Tensor(\"gradients/ggnn/embedding_lookup_grad/Reshape:0\", shape=(None, 32), dtype=float32), dense_shape=Tensor(\"gradients/ggnn/embedding_lookup_grad/Cast:0\", shape=(2,), dtype=int32))) to a dense Tensor of unknown shape. This may consume a large amount of memory.\n",
            "  \"shape. This may consume a large amount of memory.\" % value)\n"
          ]
        },
        {
          "output_type": "stream",
          "name": "stdout",
          "text": [
            "633/633 [==============================] - 16s 23ms/step - loss: 0.6412 - auc: 0.6755 - val_loss: 0.6324 - val_auc: 0.7166\n",
            "Epoch 2/70\n",
            "633/633 [==============================] - 14s 22ms/step - loss: 0.6086 - auc: 0.7317 - val_loss: 0.5974 - val_auc: 0.7574\n",
            "Epoch 3/70\n",
            "633/633 [==============================] - 14s 23ms/step - loss: 0.5849 - auc: 0.7620 - val_loss: 0.5775 - val_auc: 0.7727\n",
            "Epoch 4/70\n",
            "633/633 [==============================] - 14s 22ms/step - loss: 0.5760 - auc: 0.7702 - val_loss: 0.5711 - val_auc: 0.7787\n",
            "Epoch 5/70\n",
            "633/633 [==============================] - 14s 22ms/step - loss: 0.5720 - auc: 0.7759 - val_loss: 0.5634 - val_auc: 0.7888\n",
            "Epoch 6/70\n",
            "633/633 [==============================] - 14s 22ms/step - loss: 0.5660 - auc: 0.7832 - val_loss: 0.5596 - val_auc: 0.7910\n",
            "Epoch 7/70\n",
            "633/633 [==============================] - 14s 22ms/step - loss: 0.5583 - auc: 0.7899 - val_loss: 0.5666 - val_auc: 0.7851\n",
            "Epoch 8/70\n",
            "633/633 [==============================] - 14s 22ms/step - loss: 0.5553 - auc: 0.7937 - val_loss: 0.5517 - val_auc: 0.8000\n",
            "Epoch 9/70\n",
            "633/633 [==============================] - 14s 22ms/step - loss: 0.5526 - auc: 0.7960 - val_loss: 0.5505 - val_auc: 0.8032\n",
            "Epoch 10/70\n",
            "633/633 [==============================] - 15s 23ms/step - loss: 0.5475 - auc: 0.8011 - val_loss: 0.5480 - val_auc: 0.8028\n",
            "Epoch 11/70\n",
            "633/633 [==============================] - 14s 22ms/step - loss: 0.5441 - auc: 0.8038 - val_loss: 0.5458 - val_auc: 0.8081\n",
            "Epoch 12/70\n",
            "633/633 [==============================] - 14s 22ms/step - loss: 0.5422 - auc: 0.8064 - val_loss: 0.5395 - val_auc: 0.8106\n",
            "Epoch 13/70\n",
            "633/633 [==============================] - 14s 22ms/step - loss: 0.5379 - auc: 0.8106 - val_loss: 0.5419 - val_auc: 0.8117\n",
            "Epoch 14/70\n",
            "633/633 [==============================] - 14s 22ms/step - loss: 0.5374 - auc: 0.8116 - val_loss: 0.5380 - val_auc: 0.8147\n",
            "Epoch 15/70\n",
            "633/633 [==============================] - 14s 22ms/step - loss: 0.5364 - auc: 0.8127 - val_loss: 0.5327 - val_auc: 0.8177\n",
            "Epoch 16/70\n",
            "633/633 [==============================] - 14s 22ms/step - loss: 0.5292 - auc: 0.8188 - val_loss: 0.5304 - val_auc: 0.8204\n",
            "Epoch 17/70\n",
            "633/633 [==============================] - 14s 22ms/step - loss: 0.5284 - auc: 0.8190 - val_loss: 0.5284 - val_auc: 0.8219\n",
            "Epoch 18/70\n",
            "633/633 [==============================] - 14s 22ms/step - loss: 0.5277 - auc: 0.8200 - val_loss: 0.5259 - val_auc: 0.8243\n",
            "Epoch 19/70\n",
            "633/633 [==============================] - 14s 22ms/step - loss: 0.5255 - auc: 0.8225 - val_loss: 0.5300 - val_auc: 0.8236\n",
            "Epoch 20/70\n",
            "633/633 [==============================] - 14s 22ms/step - loss: 0.5220 - auc: 0.8245 - val_loss: 0.5221 - val_auc: 0.8271\n",
            "Epoch 21/70\n",
            "633/633 [==============================] - 14s 22ms/step - loss: 0.5197 - auc: 0.8269 - val_loss: 0.5208 - val_auc: 0.8285\n",
            "Epoch 22/70\n",
            "633/633 [==============================] - 14s 22ms/step - loss: 0.5180 - auc: 0.8274 - val_loss: 0.5170 - val_auc: 0.8317\n",
            "Epoch 23/70\n",
            "633/633 [==============================] - 14s 23ms/step - loss: 0.5160 - auc: 0.8295 - val_loss: 0.5180 - val_auc: 0.8311\n",
            "Epoch 24/70\n",
            "633/633 [==============================] - 14s 22ms/step - loss: 0.5149 - auc: 0.8310 - val_loss: 0.5145 - val_auc: 0.8326\n",
            "Epoch 25/70\n",
            "633/633 [==============================] - 14s 22ms/step - loss: 0.5139 - auc: 0.8318 - val_loss: 0.5128 - val_auc: 0.8338\n",
            "Epoch 26/70\n",
            "633/633 [==============================] - 14s 22ms/step - loss: 0.5120 - auc: 0.8333 - val_loss: 0.5146 - val_auc: 0.8324\n",
            "Epoch 27/70\n",
            "633/633 [==============================] - 14s 22ms/step - loss: 0.5130 - auc: 0.8324 - val_loss: 0.5123 - val_auc: 0.8346\n",
            "Epoch 28/70\n",
            "633/633 [==============================] - 14s 22ms/step - loss: 0.5100 - auc: 0.8351 - val_loss: 0.5129 - val_auc: 0.8351\n",
            "Epoch 29/70\n",
            "633/633 [==============================] - 14s 22ms/step - loss: 0.5098 - auc: 0.8349 - val_loss: 0.5093 - val_auc: 0.8372\n",
            "Epoch 30/70\n",
            "633/633 [==============================] - 14s 22ms/step - loss: 0.5068 - auc: 0.8369 - val_loss: 0.5099 - val_auc: 0.8364\n",
            "Epoch 31/70\n",
            "633/633 [==============================] - 14s 22ms/step - loss: 0.5053 - auc: 0.8382 - val_loss: 0.5141 - val_auc: 0.8395\n",
            "Epoch 32/70\n",
            "633/633 [==============================] - 14s 23ms/step - loss: 0.5057 - auc: 0.8381 - val_loss: 0.5076 - val_auc: 0.8388\n",
            "Epoch 33/70\n",
            "633/633 [==============================] - 14s 22ms/step - loss: 0.5069 - auc: 0.8372 - val_loss: 0.5062 - val_auc: 0.8392\n",
            "Epoch 34/70\n",
            "633/633 [==============================] - 14s 23ms/step - loss: 0.5043 - auc: 0.8389 - val_loss: 0.5069 - val_auc: 0.8407\n",
            "Epoch 35/70\n",
            "633/633 [==============================] - 15s 23ms/step - loss: 0.5040 - auc: 0.8396 - val_loss: 0.5049 - val_auc: 0.8411\n",
            "Epoch 36/70\n",
            "633/633 [==============================] - 15s 23ms/step - loss: 0.5038 - auc: 0.8393 - val_loss: 0.5032 - val_auc: 0.8415\n",
            "Epoch 37/70\n",
            "633/633 [==============================] - 14s 23ms/step - loss: 0.5011 - auc: 0.8416 - val_loss: 0.5063 - val_auc: 0.8408\n",
            "Epoch 38/70\n",
            "633/633 [==============================] - 14s 23ms/step - loss: 0.5026 - auc: 0.8405 - val_loss: 0.5027 - val_auc: 0.8417\n",
            "Epoch 39/70\n",
            "633/633 [==============================] - 14s 22ms/step - loss: 0.4998 - auc: 0.8426 - val_loss: 0.5036 - val_auc: 0.8437\n",
            "Epoch 40/70\n",
            "633/633 [==============================] - 14s 22ms/step - loss: 0.4985 - auc: 0.8429 - val_loss: 0.5022 - val_auc: 0.8425\n",
            "Epoch 41/70\n",
            "633/633 [==============================] - 14s 22ms/step - loss: 0.4975 - auc: 0.8443 - val_loss: 0.5026 - val_auc: 0.8419\n",
            "Epoch 42/70\n",
            "633/633 [==============================] - 14s 22ms/step - loss: 0.4973 - auc: 0.8439 - val_loss: 0.5052 - val_auc: 0.8416\n",
            "Epoch 43/70\n",
            "633/633 [==============================] - 14s 23ms/step - loss: 0.4965 - auc: 0.8449 - val_loss: 0.4977 - val_auc: 0.8454\n",
            "Epoch 44/70\n",
            "633/633 [==============================] - 14s 23ms/step - loss: 0.4972 - auc: 0.8444 - val_loss: 0.4985 - val_auc: 0.8452\n",
            "Epoch 45/70\n",
            "633/633 [==============================] - 14s 23ms/step - loss: 0.4967 - auc: 0.8451 - val_loss: 0.4995 - val_auc: 0.8464\n",
            "Epoch 46/70\n",
            "633/633 [==============================] - 14s 22ms/step - loss: 0.4951 - auc: 0.8455 - val_loss: 0.4983 - val_auc: 0.8456\n",
            "Epoch 47/70\n",
            "633/633 [==============================] - 14s 22ms/step - loss: 0.4935 - auc: 0.8467 - val_loss: 0.4979 - val_auc: 0.8467\n",
            "Epoch 48/70\n",
            "633/633 [==============================] - 14s 22ms/step - loss: 0.4939 - auc: 0.8466 - val_loss: 0.4967 - val_auc: 0.8475\n",
            "Epoch 49/70\n",
            "633/633 [==============================] - 14s 23ms/step - loss: 0.4939 - auc: 0.8473 - val_loss: 0.4964 - val_auc: 0.8473\n",
            "Epoch 50/70\n",
            "633/633 [==============================] - 15s 23ms/step - loss: 0.4929 - auc: 0.8472 - val_loss: 0.4970 - val_auc: 0.8470\n",
            "Epoch 51/70\n",
            "633/633 [==============================] - 14s 22ms/step - loss: 0.4914 - auc: 0.8480 - val_loss: 0.4955 - val_auc: 0.8477\n",
            "Epoch 52/70\n",
            "633/633 [==============================] - 14s 22ms/step - loss: 0.4910 - auc: 0.8486 - val_loss: 0.4993 - val_auc: 0.8445\n",
            "Epoch 53/70\n",
            "633/633 [==============================] - 15s 23ms/step - loss: 0.4924 - auc: 0.8475 - val_loss: 0.4939 - val_auc: 0.8477\n",
            "Epoch 54/70\n",
            "633/633 [==============================] - 15s 23ms/step - loss: 0.4895 - auc: 0.8496 - val_loss: 0.4952 - val_auc: 0.8469\n",
            "Epoch 55/70\n",
            "633/633 [==============================] - 15s 23ms/step - loss: 0.4877 - auc: 0.8508 - val_loss: 0.4936 - val_auc: 0.8500\n",
            "Epoch 56/70\n",
            "633/633 [==============================] - 14s 23ms/step - loss: 0.4876 - auc: 0.8509 - val_loss: 0.4928 - val_auc: 0.8492\n",
            "Epoch 57/70\n",
            "633/633 [==============================] - 14s 23ms/step - loss: 0.4883 - auc: 0.8501 - val_loss: 0.4971 - val_auc: 0.8470\n",
            "Epoch 58/70\n",
            "633/633 [==============================] - 14s 23ms/step - loss: 0.4893 - auc: 0.8494 - val_loss: 0.4905 - val_auc: 0.8516\n",
            "Epoch 59/70\n",
            "633/633 [==============================] - 14s 22ms/step - loss: 0.4843 - auc: 0.8528 - val_loss: 0.4917 - val_auc: 0.8496\n",
            "Epoch 60/70\n",
            "633/633 [==============================] - 14s 22ms/step - loss: 0.4869 - auc: 0.8513 - val_loss: 0.4910 - val_auc: 0.8505\n",
            "Epoch 61/70\n",
            "633/633 [==============================] - 14s 22ms/step - loss: 0.4881 - auc: 0.8510 - val_loss: 0.4926 - val_auc: 0.8506\n",
            "Epoch 62/70\n",
            "633/633 [==============================] - 14s 22ms/step - loss: 0.4887 - auc: 0.8503 - val_loss: 0.4920 - val_auc: 0.8509\n",
            "Epoch 63/70\n",
            "633/633 [==============================] - 14s 23ms/step - loss: 0.4873 - auc: 0.8512 - val_loss: 0.4898 - val_auc: 0.8521\n",
            "Epoch 64/70\n",
            "633/633 [==============================] - 15s 23ms/step - loss: 0.4860 - auc: 0.8524 - val_loss: 0.4897 - val_auc: 0.8532\n",
            "Epoch 65/70\n",
            "633/633 [==============================] - 14s 23ms/step - loss: 0.4844 - auc: 0.8532 - val_loss: 0.4944 - val_auc: 0.8521\n",
            "Epoch 66/70\n",
            "633/633 [==============================] - 14s 23ms/step - loss: 0.4851 - auc: 0.8537 - val_loss: 0.4906 - val_auc: 0.8515\n",
            "Epoch 67/70\n",
            "633/633 [==============================] - 14s 22ms/step - loss: 0.4835 - auc: 0.8542 - val_loss: 0.4886 - val_auc: 0.8529\n",
            "Epoch 68/70\n",
            "633/633 [==============================] - 14s 23ms/step - loss: 0.4848 - auc: 0.8533 - val_loss: 0.4886 - val_auc: 0.8531\n",
            "Epoch 69/70\n",
            "633/633 [==============================] - 14s 22ms/step - loss: 0.4862 - auc: 0.8518 - val_loss: 0.4971 - val_auc: 0.8475\n"
          ]
        }
      ]
    },
    {
      "cell_type": "markdown",
      "source": [
        "### Plotting the first model performance"
      ],
      "metadata": {
        "id": "zeuA1Vkt0dsB"
      }
    },
    {
      "cell_type": "code",
      "source": [
        "plot_performance(history_1)"
      ],
      "metadata": {
        "execution": {
          "iopub.status.busy": "2022-04-08T17:44:28.703636Z",
          "iopub.execute_input": "2022-04-08T17:44:28.703857Z",
          "iopub.status.idle": "2022-04-08T17:45:09.489161Z",
          "shell.execute_reply.started": "2022-04-08T17:44:28.703831Z",
          "shell.execute_reply": "2022-04-08T17:45:09.488290Z"
        },
        "trusted": true,
        "colab": {
          "base_uri": "https://localhost:8080/",
          "height": 1000
        },
        "id": "hySUFCgB0dsC",
        "outputId": "0829508e-0528-4f82-af88-55180adb6b98"
      },
      "execution_count": 62,
      "outputs": [
        {
          "output_type": "display_data",
          "data": {
            "text/plain": [
              "<Figure size 576x576 with 1 Axes>"
            ],
            "image/png": "[encoded data removed]"
          },
          "metadata": {
            "needs_background": "light"
          }
        },
        {
          "output_type": "display_data",
          "data": {
            "text/plain": [
              "<Figure size 576x576 with 1 Axes>"
            ],
            "image/png": "[encoded data removed]"
          },
          "metadata": {
            "needs_background": "light"
          }
        }
      ]
    },
    {
      "cell_type": "markdown",
      "source": [
        "### Predict the test data to evaluate the first model performance on kaggle competetion."
      ],
      "metadata": {
        "id": "lDuIrgAD0dsC"
      }
    },
    {
      "cell_type": "code",
      "source": [
        "y_pred_1 = predict_and_make_submission_file(model_1,'sumbission_file_1.csv',batch_size = 64)\n",
        "print(y_pred_1)"
      ],
      "metadata": {
        "execution": {
          "iopub.status.busy": "2022-04-08T17:45:09.490365Z",
          "iopub.execute_input": "2022-04-08T17:45:09.490598Z",
          "iopub.status.idle": "2022-04-08T17:45:11.708420Z",
          "shell.execute_reply.started": "2022-04-08T17:45:09.490568Z",
          "shell.execute_reply": "2022-04-08T17:45:11.707381Z"
        },
        "trusted": true,
        "colab": {
          "base_uri": "https://localhost:8080/"
        },
        "id": "kOMKNgxu0dsC",
        "outputId": "52917d35-982b-4c34-90ba-8e5574c858e4"
      },
      "execution_count": 63,
      "outputs": [
        {
          "output_type": "stream",
          "name": "stdout",
          "text": [
            "(12326, 1)\n",
            "12326\n",
            "[0.48470414 0.3393357  0.31933823 ... 0.34751663 0.20100613 0.73670644]\n"
          ]
        }
      ]
    },
    {
      "cell_type": "markdown",
      "source": [
        "### Some intuitions about the firth model's result\n",
        "\n",
        "**Public roc_auc score: 84.373%, Private roc_auc score: 81.069%, avg roc_auc score:  82.72345%**\n",
        "\n",
        "No overfitting happened here the test score is near to the validation score, maybe the increase in the model complexity of the model will be followed by an increase in performance, and that what will we do in the next trial."
      ],
      "metadata": {
        "id": "IgIWstC80dsC"
      }
    },
    {
      "cell_type": "markdown",
      "source": [
        "### Second trail\n",
        "\n",
        "In this trial I decided to use the same configuration of the message passing style as the previous model but with more neurons in the hidden layer, to see if more neurons in the hidden layer would improve the results or not."
      ],
      "metadata": {
        "id": "O2nXrgal0dsC"
      }
    },
    {
      "cell_type": "code",
      "source": [
        "model_2 = build_GCN(hidden_dim = 64 ,message_calculation_class = 'GGNN' ,dense_intermediate_layer_activation = 'tanh', num_layers = 2)\n",
        "\n",
        "model_2.summary()"
      ],
      "metadata": {
        "execution": {
          "iopub.status.busy": "2022-04-08T17:45:11.709979Z",
          "iopub.execute_input": "2022-04-08T17:45:11.711046Z",
          "iopub.status.idle": "2022-04-08T17:45:12.008154Z",
          "shell.execute_reply.started": "2022-04-08T17:45:11.710999Z",
          "shell.execute_reply": "2022-04-08T17:45:12.006917Z"
        },
        "trusted": true,
        "colab": {
          "base_uri": "https://localhost:8080/"
        },
        "id": "d5YRt3cJ0dsC",
        "outputId": "bec2aa35-d50e-4b95-d1dc-77adeb8b327e"
      },
      "execution_count": 64,
      "outputs": [
        {
          "output_type": "stream",
          "name": "stdout",
          "text": [
            "message passing style used in this model will be GGNN\n",
            "\n",
            "gnn_out KerasTensor(type_spec=TensorSpec(shape=(None, 64), dtype=tf.float32, name=None), name='gnn/StatefulPartitionedCall:0', description=\"created by layer 'gnn'\")\n",
            "mean: KerasTensor(type_spec=TensorSpec(shape=(None, 64), dtype=tf.float32, name=None), name='tf.math.segment_mean/SegmentMean:0', description=\"created by layer 'tf.math.segment_mean'\")\n",
            "pred: KerasTensor(type_spec=TensorSpec(shape=(None, 1), dtype=tf.float32, name=None), name='dense/Sigmoid:0', description=\"created by layer 'dense'\")\n",
            "Model: \"model\"\n",
            "__________________________________________________________________________________________________\n",
            " Layer (type)                   Output Shape         Param #     Connected to                     \n",
            "==================================================================================================\n",
            " input_3 (InputLayer)           [(None,)]            0           []                               \n",
            "                                                                                                  \n",
            " input_1 (InputLayer)           [(None,)]            0           []                               \n",
            "                                                                                                  \n",
            " tf.math.reduce_max (TFOpLambda  ()                  0           ['input_3[0][0]']                \n",
            " )                                                                                                \n",
            "                                                                                                  \n",
            " embedding (Embedding)          (None, 20)           10000       ['input_1[0][0]']                \n",
            "                                                                                                  \n",
            " input_2 (InputLayer)           [(None, 2)]          0           []                               \n",
            "                                                                                                  \n",
            " tf.__operators__.add (TFOpLamb  ()                  0           ['tf.math.reduce_max[0][0]']     \n",
            " da)                                                                                              \n",
            "                                                                                                  \n",
            " gnn (GNN)                      (None, 64)           63488       ['embedding[0][0]',              \n",
            "                                                                  'input_2[0][0]',                \n",
            "                                                                  'input_3[0][0]',                \n",
            "                                                                  'tf.__operators__.add[0][0]']   \n",
            "                                                                                                  \n",
            " tf.math.segment_mean (TFOpLamb  (None, 64)          0           ['gnn[0][0]',                    \n",
            " da)                                                              'input_3[0][0]']                \n",
            "                                                                                                  \n",
            " dense (Dense)                  (None, 1)            65          ['tf.math.segment_mean[0][0]']   \n",
            "                                                                                                  \n",
            "==================================================================================================\n",
            "Total params: 73,553\n",
            "Trainable params: 73,553\n",
            "Non-trainable params: 0\n",
            "__________________________________________________________________________________________________\n"
          ]
        }
      ]
    },
    {
      "cell_type": "markdown",
      "source": [
        "### Start compiling and training the second model"
      ],
      "metadata": {
        "id": "96HSuFpM0dsC"
      }
    },
    {
      "cell_type": "code",
      "source": [
        "model_2, history_2 = compile_and_train_model(model_2, training_set, validation_set, 'adam', 'BinaryCrossentropy', 'AUC', 64, 70)"
      ],
      "metadata": {
        "execution": {
          "iopub.status.busy": "2022-04-08T17:45:12.009719Z",
          "iopub.execute_input": "2022-04-08T17:45:12.010070Z",
          "iopub.status.idle": "2022-04-08T18:31:32.336044Z",
          "shell.execute_reply.started": "2022-04-08T17:45:12.010026Z",
          "shell.execute_reply": "2022-04-08T18:31:32.334982Z"
        },
        "trusted": true,
        "colab": {
          "base_uri": "https://localhost:8080/"
        },
        "id": "PJeZD8MQ0dsD",
        "outputId": "8ee3a8cb-27f6-4c59-f5a5-c272c81a2801"
      },
      "execution_count": 65,
      "outputs": [
        {
          "output_type": "stream",
          "name": "stdout",
          "text": [
            "Epoch 1/70\n"
          ]
        },
        {
          "output_type": "stream",
          "name": "stderr",
          "text": [
            "/usr/local/lib/python3.7/dist-packages/tensorflow/python/framework/indexed_slices.py:446: UserWarning: Converting sparse IndexedSlices(IndexedSlices(indices=Tensor(\"gradients/ggnn_1/embedding_lookup_grad/Reshape_1:0\", shape=(None,), dtype=int32), values=Tensor(\"gradients/ggnn_1/embedding_lookup_grad/Reshape:0\", shape=(None, 64), dtype=float32), dense_shape=Tensor(\"gradients/ggnn_1/embedding_lookup_grad/Cast:0\", shape=(2,), dtype=int32))) to a dense Tensor of unknown shape. This may consume a large amount of memory.\n",
            "  \"shape. This may consume a large amount of memory.\" % value)\n",
            "/usr/local/lib/python3.7/dist-packages/tensorflow/python/framework/indexed_slices.py:446: UserWarning: Converting sparse IndexedSlices(IndexedSlices(indices=Tensor(\"gradients/ggnn/embedding_lookup_grad/Reshape_1:0\", shape=(None,), dtype=int32), values=Tensor(\"gradients/ggnn/embedding_lookup_grad/Reshape:0\", shape=(None, 64), dtype=float32), dense_shape=Tensor(\"gradients/ggnn/embedding_lookup_grad/Cast:0\", shape=(2,), dtype=int32))) to a dense Tensor of unknown shape. This may consume a large amount of memory.\n",
            "  \"shape. This may consume a large amount of memory.\" % value)\n"
          ]
        },
        {
          "output_type": "stream",
          "name": "stdout",
          "text": [
            "633/633 [==============================] - 20s 28ms/step - loss: 0.6391 - auc: 0.6814 - val_loss: 0.6316 - val_auc: 0.7044\n",
            "Epoch 2/70\n",
            "633/633 [==============================] - 18s 28ms/step - loss: 0.6141 - auc: 0.7217 - val_loss: 0.5982 - val_auc: 0.7564\n",
            "Epoch 3/70\n",
            "633/633 [==============================] - 23s 36ms/step - loss: 0.5869 - auc: 0.7590 - val_loss: 0.5742 - val_auc: 0.7747\n",
            "Epoch 4/70\n",
            "633/633 [==============================] - 18s 28ms/step - loss: 0.5715 - auc: 0.7772 - val_loss: 0.5659 - val_auc: 0.7903\n",
            "Epoch 5/70\n",
            "633/633 [==============================] - 18s 28ms/step - loss: 0.5627 - auc: 0.7864 - val_loss: 0.5623 - val_auc: 0.8000\n",
            "Epoch 6/70\n",
            "633/633 [==============================] - 17s 28ms/step - loss: 0.5533 - auc: 0.7960 - val_loss: 0.5497 - val_auc: 0.8048\n",
            "Epoch 7/70\n",
            "633/633 [==============================] - 17s 28ms/step - loss: 0.5485 - auc: 0.8006 - val_loss: 0.5446 - val_auc: 0.8074\n",
            "Epoch 8/70\n",
            "633/633 [==============================] - 17s 28ms/step - loss: 0.5449 - auc: 0.8052 - val_loss: 0.5454 - val_auc: 0.8115\n",
            "Epoch 9/70\n",
            "633/633 [==============================] - 18s 28ms/step - loss: 0.5374 - auc: 0.8114 - val_loss: 0.5345 - val_auc: 0.8167\n",
            "Epoch 10/70\n",
            "633/633 [==============================] - 18s 28ms/step - loss: 0.5331 - auc: 0.8159 - val_loss: 0.5325 - val_auc: 0.8211\n",
            "Epoch 11/70\n",
            "633/633 [==============================] - 18s 28ms/step - loss: 0.5282 - auc: 0.8200 - val_loss: 0.5221 - val_auc: 0.8271\n",
            "Epoch 12/70\n",
            "633/633 [==============================] - 18s 28ms/step - loss: 0.5265 - auc: 0.8217 - val_loss: 0.5228 - val_auc: 0.8256\n",
            "Epoch 13/70\n",
            "633/633 [==============================] - 17s 28ms/step - loss: 0.5223 - auc: 0.8244 - val_loss: 0.5201 - val_auc: 0.8279\n",
            "Epoch 14/70\n",
            "633/633 [==============================] - 18s 28ms/step - loss: 0.5200 - auc: 0.8267 - val_loss: 0.5219 - val_auc: 0.8268\n",
            "Epoch 15/70\n",
            "633/633 [==============================] - 18s 28ms/step - loss: 0.5164 - auc: 0.8286 - val_loss: 0.5157 - val_auc: 0.8302\n",
            "Epoch 16/70\n",
            "633/633 [==============================] - 18s 28ms/step - loss: 0.5142 - auc: 0.8311 - val_loss: 0.5141 - val_auc: 0.8341\n",
            "Epoch 17/70\n",
            "633/633 [==============================] - 18s 28ms/step - loss: 0.5120 - auc: 0.8326 - val_loss: 0.5090 - val_auc: 0.8366\n",
            "Epoch 18/70\n",
            "633/633 [==============================] - 18s 28ms/step - loss: 0.5101 - auc: 0.8340 - val_loss: 0.5085 - val_auc: 0.8363\n",
            "Epoch 19/70\n",
            "633/633 [==============================] - 18s 28ms/step - loss: 0.5087 - auc: 0.8345 - val_loss: 0.5067 - val_auc: 0.8390\n",
            "Epoch 20/70\n",
            "633/633 [==============================] - 17s 28ms/step - loss: 0.5057 - auc: 0.8375 - val_loss: 0.5173 - val_auc: 0.8301\n",
            "Epoch 21/70\n",
            "633/633 [==============================] - 18s 28ms/step - loss: 0.5038 - auc: 0.8388 - val_loss: 0.5119 - val_auc: 0.8403\n",
            "Epoch 22/70\n",
            "633/633 [==============================] - 18s 28ms/step - loss: 0.5018 - auc: 0.8400 - val_loss: 0.5047 - val_auc: 0.8426\n",
            "Epoch 23/70\n",
            "633/633 [==============================] - 22s 36ms/step - loss: 0.4990 - auc: 0.8415 - val_loss: 0.4998 - val_auc: 0.8447\n",
            "Epoch 24/70\n",
            "633/633 [==============================] - 23s 36ms/step - loss: 0.4979 - auc: 0.8432 - val_loss: 0.4971 - val_auc: 0.8463\n",
            "Epoch 25/70\n",
            "633/633 [==============================] - 18s 28ms/step - loss: 0.4951 - auc: 0.8452 - val_loss: 0.4966 - val_auc: 0.8466\n",
            "Epoch 26/70\n",
            "633/633 [==============================] - 18s 28ms/step - loss: 0.4947 - auc: 0.8456 - val_loss: 0.4902 - val_auc: 0.8517\n",
            "Epoch 27/70\n",
            "633/633 [==============================] - 18s 28ms/step - loss: 0.4914 - auc: 0.8482 - val_loss: 0.4945 - val_auc: 0.8486\n",
            "Epoch 28/70\n",
            "633/633 [==============================] - 18s 28ms/step - loss: 0.4916 - auc: 0.8481 - val_loss: 0.4926 - val_auc: 0.8493\n",
            "Epoch 29/70\n",
            "633/633 [==============================] - 18s 28ms/step - loss: 0.4900 - auc: 0.8486 - val_loss: 0.4921 - val_auc: 0.8500\n",
            "Epoch 30/70\n",
            "633/633 [==============================] - 17s 28ms/step - loss: 0.4889 - auc: 0.8495 - val_loss: 0.4867 - val_auc: 0.8532\n",
            "Epoch 31/70\n",
            "633/633 [==============================] - 18s 28ms/step - loss: 0.4875 - auc: 0.8506 - val_loss: 0.4929 - val_auc: 0.8490\n",
            "Epoch 32/70\n",
            "633/633 [==============================] - 18s 28ms/step - loss: 0.4864 - auc: 0.8513 - val_loss: 0.4866 - val_auc: 0.8536\n",
            "Epoch 33/70\n",
            "633/633 [==============================] - 18s 28ms/step - loss: 0.4862 - auc: 0.8509 - val_loss: 0.4867 - val_auc: 0.8538\n",
            "Epoch 34/70\n",
            "633/633 [==============================] - 18s 28ms/step - loss: 0.4852 - auc: 0.8520 - val_loss: 0.4906 - val_auc: 0.8499\n",
            "Epoch 35/70\n",
            "633/633 [==============================] - 18s 28ms/step - loss: 0.4838 - auc: 0.8522 - val_loss: 0.4835 - val_auc: 0.8553\n",
            "Epoch 36/70\n",
            "633/633 [==============================] - 18s 28ms/step - loss: 0.4821 - auc: 0.8541 - val_loss: 0.4836 - val_auc: 0.8552\n",
            "Epoch 37/70\n",
            "633/633 [==============================] - 18s 28ms/step - loss: 0.4809 - auc: 0.8551 - val_loss: 0.4806 - val_auc: 0.8582\n",
            "Epoch 38/70\n",
            "633/633 [==============================] - 18s 28ms/step - loss: 0.4801 - auc: 0.8559 - val_loss: 0.4823 - val_auc: 0.8560\n",
            "Epoch 39/70\n",
            "633/633 [==============================] - 17s 28ms/step - loss: 0.4802 - auc: 0.8560 - val_loss: 0.4785 - val_auc: 0.8591\n",
            "Epoch 40/70\n",
            "633/633 [==============================] - 18s 28ms/step - loss: 0.4785 - auc: 0.8566 - val_loss: 0.4809 - val_auc: 0.8574\n",
            "Epoch 41/70\n",
            "633/633 [==============================] - 18s 28ms/step - loss: 0.4762 - auc: 0.8585 - val_loss: 0.4780 - val_auc: 0.8584\n",
            "Epoch 42/70\n",
            "633/633 [==============================] - 18s 28ms/step - loss: 0.4766 - auc: 0.8580 - val_loss: 0.4773 - val_auc: 0.8591\n",
            "Epoch 43/70\n",
            "633/633 [==============================] - 17s 28ms/step - loss: 0.4743 - auc: 0.8598 - val_loss: 0.4841 - val_auc: 0.8573\n",
            "Epoch 44/70\n",
            "633/633 [==============================] - 18s 28ms/step - loss: 0.4758 - auc: 0.8586 - val_loss: 0.4768 - val_auc: 0.8598\n",
            "Epoch 45/70\n",
            "633/633 [==============================] - 18s 28ms/step - loss: 0.4740 - auc: 0.8595 - val_loss: 0.4785 - val_auc: 0.8594\n",
            "Epoch 46/70\n",
            "633/633 [==============================] - 18s 28ms/step - loss: 0.4724 - auc: 0.8608 - val_loss: 0.4799 - val_auc: 0.8613\n",
            "Epoch 47/70\n",
            "633/633 [==============================] - 23s 36ms/step - loss: 0.4737 - auc: 0.8605 - val_loss: 0.4783 - val_auc: 0.8591\n",
            "Epoch 48/70\n",
            "633/633 [==============================] - 18s 28ms/step - loss: 0.4716 - auc: 0.8615 - val_loss: 0.4760 - val_auc: 0.8619\n",
            "Epoch 49/70\n",
            "633/633 [==============================] - 18s 28ms/step - loss: 0.4729 - auc: 0.8614 - val_loss: 0.4743 - val_auc: 0.8625\n",
            "Epoch 50/70\n",
            "633/633 [==============================] - 18s 28ms/step - loss: 0.4697 - auc: 0.8632 - val_loss: 0.4744 - val_auc: 0.8623\n",
            "Epoch 51/70\n",
            "633/633 [==============================] - 18s 28ms/step - loss: 0.4707 - auc: 0.8621 - val_loss: 0.4739 - val_auc: 0.8620\n",
            "Epoch 52/70\n",
            "633/633 [==============================] - 18s 28ms/step - loss: 0.4705 - auc: 0.8619 - val_loss: 0.4788 - val_auc: 0.8587\n",
            "Epoch 53/70\n",
            "633/633 [==============================] - 18s 28ms/step - loss: 0.4704 - auc: 0.8619 - val_loss: 0.4733 - val_auc: 0.8618\n",
            "Epoch 54/70\n",
            "633/633 [==============================] - 18s 28ms/step - loss: 0.4694 - auc: 0.8630 - val_loss: 0.4717 - val_auc: 0.8631\n",
            "Epoch 55/70\n",
            "633/633 [==============================] - 18s 28ms/step - loss: 0.4685 - auc: 0.8632 - val_loss: 0.4684 - val_auc: 0.8643\n",
            "Epoch 56/70\n",
            "633/633 [==============================] - 23s 36ms/step - loss: 0.4676 - auc: 0.8642 - val_loss: 0.4739 - val_auc: 0.8642\n",
            "Epoch 57/70\n",
            "633/633 [==============================] - 18s 28ms/step - loss: 0.4647 - auc: 0.8657 - val_loss: 0.4710 - val_auc: 0.8651\n",
            "Epoch 58/70\n",
            "633/633 [==============================] - 18s 28ms/step - loss: 0.4661 - auc: 0.8650 - val_loss: 0.4735 - val_auc: 0.8620\n",
            "Epoch 59/70\n",
            "633/633 [==============================] - 18s 28ms/step - loss: 0.4654 - auc: 0.8658 - val_loss: 0.4686 - val_auc: 0.8649\n",
            "Epoch 60/70\n",
            "633/633 [==============================] - 18s 28ms/step - loss: 0.4657 - auc: 0.8655 - val_loss: 0.4693 - val_auc: 0.8648\n",
            "Epoch 61/70\n",
            "633/633 [==============================] - 18s 29ms/step - loss: 0.4701 - auc: 0.8624 - val_loss: 0.4717 - val_auc: 0.8643\n",
            "Epoch 62/70\n",
            "633/633 [==============================] - 18s 29ms/step - loss: 0.4668 - auc: 0.8648 - val_loss: 0.4667 - val_auc: 0.8672\n",
            "Epoch 63/70\n",
            "633/633 [==============================] - 18s 29ms/step - loss: 0.4621 - auc: 0.8676 - val_loss: 0.4685 - val_auc: 0.8650\n",
            "Epoch 64/70\n",
            "633/633 [==============================] - 18s 28ms/step - loss: 0.4629 - auc: 0.8672 - val_loss: 0.4708 - val_auc: 0.8647\n",
            "Epoch 65/70\n",
            "633/633 [==============================] - 18s 29ms/step - loss: 0.4626 - auc: 0.8677 - val_loss: 0.4691 - val_auc: 0.8656\n",
            "Epoch 66/70\n",
            "633/633 [==============================] - 18s 28ms/step - loss: 0.4617 - auc: 0.8680 - val_loss: 0.4698 - val_auc: 0.8645\n",
            "Epoch 67/70\n",
            "633/633 [==============================] - 18s 29ms/step - loss: 0.4623 - auc: 0.8671 - val_loss: 0.4663 - val_auc: 0.8673\n",
            "Epoch 68/70\n",
            "633/633 [==============================] - 18s 29ms/step - loss: 0.4621 - auc: 0.8681 - val_loss: 0.4663 - val_auc: 0.8680\n",
            "Epoch 69/70\n",
            "633/633 [==============================] - 18s 28ms/step - loss: 0.4635 - auc: 0.8666 - val_loss: 0.4656 - val_auc: 0.8675\n",
            "Epoch 70/70\n",
            "633/633 [==============================] - 18s 29ms/step - loss: 0.4625 - auc: 0.8672 - val_loss: 0.4684 - val_auc: 0.8655\n"
          ]
        }
      ]
    },
    {
      "cell_type": "markdown",
      "source": [
        "### Plotting the second model performance"
      ],
      "metadata": {
        "id": "uk9N-4os0dsD"
      }
    },
    {
      "cell_type": "code",
      "source": [
        "plot_performance(history_2)"
      ],
      "metadata": {
        "execution": {
          "iopub.status.busy": "2022-04-08T18:31:32.340314Z",
          "iopub.execute_input": "2022-04-08T18:31:32.340648Z",
          "iopub.status.idle": "2022-04-08T18:31:36.198360Z",
          "shell.execute_reply.started": "2022-04-08T18:31:32.340594Z",
          "shell.execute_reply": "2022-04-08T18:31:36.197525Z"
        },
        "trusted": true,
        "colab": {
          "base_uri": "https://localhost:8080/",
          "height": 1000
        },
        "id": "I1dyjhef0dsD",
        "outputId": "2c45c98e-6fb7-435e-e78a-9a582a1219ca"
      },
      "execution_count": 66,
      "outputs": [
        {
          "output_type": "display_data",
          "data": {
            "text/plain": [
              "<Figure size 576x576 with 1 Axes>"
            ],
            "image/png": "[encoded data removed]"
          },
          "metadata": {
            "needs_background": "light"
          }
        },
        {
          "output_type": "display_data",
          "data": {
            "text/plain": [
              "<Figure size 576x576 with 1 Axes>"
            ],
            "image/png": "[encoded data removed]"
          },
          "metadata": {
            "needs_background": "light"
          }
        }
      ]
    },
    {
      "cell_type": "markdown",
      "source": [
        "### Predict the test data to evaluate the second model performance on kaggle competetion."
      ],
      "metadata": {
        "id": "8vVXL5Nq0dsD"
      }
    },
    {
      "cell_type": "code",
      "source": [
        "y_pred_2 = predict_and_make_submission_file(model_2,'sumbission_file_2.csv',batch_size = 64)\n",
        "print(y_pred_2)"
      ],
      "metadata": {
        "execution": {
          "iopub.status.busy": "2022-04-08T18:31:36.199495Z",
          "iopub.execute_input": "2022-04-08T18:31:36.199738Z",
          "iopub.status.idle": "2022-04-08T18:31:39.397846Z",
          "shell.execute_reply.started": "2022-04-08T18:31:36.199706Z",
          "shell.execute_reply": "2022-04-08T18:31:39.396975Z"
        },
        "trusted": true,
        "colab": {
          "base_uri": "https://localhost:8080/"
        },
        "id": "KOlbXrvX0dsD",
        "outputId": "f1e7a21f-27c9-4eb7-8a41-893ec4ee7d24"
      },
      "execution_count": 67,
      "outputs": [
        {
          "output_type": "stream",
          "name": "stdout",
          "text": [
            "(12326, 1)\n",
            "12326\n",
            "[0.3936818  0.30167368 0.30114865 ... 0.19930197 0.18769689 0.82128865]\n"
          ]
        }
      ]
    },
    {
      "cell_type": "markdown",
      "source": [
        "### Some intuitions about the second model's result\n",
        "\n",
        "**Public roc_auc score: 84.835%, Private roc_auc score: 83.039%, avg roc_auc score:  83.937%**\n",
        "\n",
        "Increasing the number of the hidden layer neurons here improves the ROC AUC score a little bit in both leaderboards and I think that is because of the increase in the number of trainable parameters, and note that there wasn't overfit happen here."
      ],
      "metadata": {
        "id": "8Ftu6syy0dsD"
      }
    },
    {
      "cell_type": "markdown",
      "source": [
        "### Third trail\n",
        "here I changed only in the configuration of the message passing style to **RGCN**, our model is primarily motivated as an extension of GCNs that operate on local graph neighborhoods to large-scale relational data to large-scale relational data (a linear transformation with a weight matrix), This type of transformation has been shown to be very effective at accumulating and encoding features from local, structured neighborhoods, and has led to significant improvements in areas such as graph classification, in this kind of problem I would see if this kind of mesaage pass style would imorove the accracy or the **GGNN** is better for this kind of problems"
      ],
      "metadata": {
        "id": "ReuwF6jH0dsD"
      }
    },
    {
      "cell_type": "code",
      "source": [
        "model_3 = build_GCN(hidden_dim = 32 ,message_calculation_class = 'RGCN' ,dense_intermediate_layer_activation = 'tanh', num_layers = 2)\n",
        "\n",
        "model_3.summary()"
      ],
      "metadata": {
        "execution": {
          "iopub.status.busy": "2022-04-08T18:31:39.399225Z",
          "iopub.execute_input": "2022-04-08T18:31:39.399979Z",
          "iopub.status.idle": "2022-04-08T18:31:39.731289Z",
          "shell.execute_reply.started": "2022-04-08T18:31:39.399931Z",
          "shell.execute_reply": "2022-04-08T18:31:39.730418Z"
        },
        "trusted": true,
        "colab": {
          "base_uri": "https://localhost:8080/"
        },
        "id": "t02aTsSa0dsD",
        "outputId": "db0c1986-f856-4895-de77-ab8ec7e463e3"
      },
      "execution_count": 68,
      "outputs": [
        {
          "output_type": "stream",
          "name": "stdout",
          "text": [
            "message passing style used in this model will be RGCN\n",
            "\n",
            "gnn_out KerasTensor(type_spec=TensorSpec(shape=(None, 32), dtype=tf.float32, name=None), name='gnn/StatefulPartitionedCall:0', description=\"created by layer 'gnn'\")\n",
            "mean: KerasTensor(type_spec=TensorSpec(shape=(None, 32), dtype=tf.float32, name=None), name='tf.math.segment_mean/SegmentMean:0', description=\"created by layer 'tf.math.segment_mean'\")\n",
            "pred: KerasTensor(type_spec=TensorSpec(shape=(None, 1), dtype=tf.float32, name=None), name='dense/Sigmoid:0', description=\"created by layer 'dense'\")\n",
            "Model: \"model\"\n",
            "__________________________________________________________________________________________________\n",
            " Layer (type)                   Output Shape         Param #     Connected to                     \n",
            "==================================================================================================\n",
            " input_3 (InputLayer)           [(None,)]            0           []                               \n",
            "                                                                                                  \n",
            " input_1 (InputLayer)           [(None,)]            0           []                               \n",
            "                                                                                                  \n",
            " tf.math.reduce_max (TFOpLambda  ()                  0           ['input_3[0][0]']                \n",
            " )                                                                                                \n",
            "                                                                                                  \n",
            " embedding (Embedding)          (None, 20)           10000       ['input_1[0][0]']                \n",
            "                                                                                                  \n",
            " input_2 (InputLayer)           [(None, 2)]          0           []                               \n",
            "                                                                                                  \n",
            " tf.__operators__.add (TFOpLamb  ()                  0           ['tf.math.reduce_max[0][0]']     \n",
            " da)                                                                                              \n",
            "                                                                                                  \n",
            " gnn (GNN)                      (None, 32)           3712        ['embedding[0][0]',              \n",
            "                                                                  'input_2[0][0]',                \n",
            "                                                                  'input_3[0][0]',                \n",
            "                                                                  'tf.__operators__.add[0][0]']   \n",
            "                                                                                                  \n",
            " tf.math.segment_mean (TFOpLamb  (None, 32)          0           ['gnn[0][0]',                    \n",
            " da)                                                              'input_3[0][0]']                \n",
            "                                                                                                  \n",
            " dense (Dense)                  (None, 1)            33          ['tf.math.segment_mean[0][0]']   \n",
            "                                                                                                  \n",
            "==================================================================================================\n",
            "Total params: 13,745\n",
            "Trainable params: 13,745\n",
            "Non-trainable params: 0\n",
            "__________________________________________________________________________________________________\n"
          ]
        }
      ]
    },
    {
      "cell_type": "markdown",
      "source": [
        "### Start compiling and training the third model"
      ],
      "metadata": {
        "id": "-00pYW7w0dsE"
      }
    },
    {
      "cell_type": "code",
      "source": [
        "model_3, history_3 = compile_and_train_model(model_3, training_set, validation_set, 'adam', 'BinaryCrossentropy', 'AUC', 64, 70)"
      ],
      "metadata": {
        "execution": {
          "iopub.status.busy": "2022-04-08T18:31:39.732626Z",
          "iopub.execute_input": "2022-04-08T18:31:39.732851Z",
          "iopub.status.idle": "2022-04-08T18:36:34.011325Z",
          "shell.execute_reply.started": "2022-04-08T18:31:39.732822Z",
          "shell.execute_reply": "2022-04-08T18:36:34.010471Z"
        },
        "trusted": true,
        "colab": {
          "base_uri": "https://localhost:8080/"
        },
        "id": "6SeeKJUx0dsE",
        "outputId": "dde35bfd-942a-4874-f72b-2ffec35c0ba1"
      },
      "execution_count": 69,
      "outputs": [
        {
          "output_type": "stream",
          "name": "stdout",
          "text": [
            "Epoch 1/70\n"
          ]
        },
        {
          "output_type": "stream",
          "name": "stderr",
          "text": [
            "/usr/local/lib/python3.7/dist-packages/tensorflow/python/framework/indexed_slices.py:446: UserWarning: Converting sparse IndexedSlices(IndexedSlices(indices=Tensor(\"gradients/cond_1_grad/Identity_1:0\", shape=(None,), dtype=int32), values=Tensor(\"gradients/cond_1_grad/Identity:0\", shape=(None, 32), dtype=float32), dense_shape=Tensor(\"gradients/cond_1_grad/Identity_2:0\", shape=(2,), dtype=int32))) to a dense Tensor of unknown shape. This may consume a large amount of memory.\n",
            "  \"shape. This may consume a large amount of memory.\" % value)\n",
            "/usr/local/lib/python3.7/dist-packages/tensorflow/python/framework/indexed_slices.py:446: UserWarning: Converting sparse IndexedSlices(IndexedSlices(indices=Tensor(\"gradients/cond_grad/Identity_1:0\", shape=(None,), dtype=int32), values=Tensor(\"gradients/cond_grad/Identity:0\", shape=(None, 32), dtype=float32), dense_shape=Tensor(\"gradients/cond_grad/Identity_2:0\", shape=(2,), dtype=int32))) to a dense Tensor of unknown shape. This may consume a large amount of memory.\n",
            "  \"shape. This may consume a large amount of memory.\" % value)\n"
          ]
        },
        {
          "output_type": "stream",
          "name": "stdout",
          "text": [
            "633/633 [==============================] - 14s 20ms/step - loss: 0.6582 - auc: 0.6475 - val_loss: 0.6473 - val_auc: 0.6676\n",
            "Epoch 2/70\n",
            "633/633 [==============================] - 13s 20ms/step - loss: 0.6398 - auc: 0.6808 - val_loss: 0.6325 - val_auc: 0.6944\n",
            "Epoch 3/70\n",
            "633/633 [==============================] - 12s 19ms/step - loss: 0.6319 - auc: 0.6914 - val_loss: 0.6284 - val_auc: 0.7050\n",
            "Epoch 4/70\n",
            "633/633 [==============================] - 12s 18ms/step - loss: 0.6208 - auc: 0.7133 - val_loss: 0.6030 - val_auc: 0.7516\n",
            "Epoch 5/70\n",
            "633/633 [==============================] - 13s 20ms/step - loss: 0.6034 - auc: 0.7396 - val_loss: 0.5988 - val_auc: 0.7502\n",
            "Epoch 6/70\n",
            "633/633 [==============================] - 12s 19ms/step - loss: 0.6015 - auc: 0.7423 - val_loss: 0.6041 - val_auc: 0.7496\n",
            "Epoch 7/70\n",
            "633/633 [==============================] - 12s 20ms/step - loss: 0.5996 - auc: 0.7436 - val_loss: 0.5968 - val_auc: 0.7514\n",
            "Epoch 8/70\n",
            "633/633 [==============================] - 12s 19ms/step - loss: 0.5982 - auc: 0.7454 - val_loss: 0.5969 - val_auc: 0.7540\n",
            "Epoch 9/70\n",
            "633/633 [==============================] - 12s 19ms/step - loss: 0.5988 - auc: 0.7454 - val_loss: 0.5956 - val_auc: 0.7523\n",
            "Epoch 10/70\n",
            "633/633 [==============================] - 12s 19ms/step - loss: 0.5990 - auc: 0.7445 - val_loss: 0.5947 - val_auc: 0.7559\n",
            "Epoch 11/70\n",
            "633/633 [==============================] - 12s 19ms/step - loss: 0.5974 - auc: 0.7465 - val_loss: 0.5952 - val_auc: 0.7549\n",
            "Epoch 12/70\n",
            "633/633 [==============================] - 13s 20ms/step - loss: 0.5960 - auc: 0.7481 - val_loss: 0.5967 - val_auc: 0.7530\n",
            "Epoch 13/70\n",
            "633/633 [==============================] - 12s 19ms/step - loss: 0.5978 - auc: 0.7471 - val_loss: 0.5970 - val_auc: 0.7534\n",
            "Epoch 14/70\n",
            "633/633 [==============================] - 12s 19ms/step - loss: 0.5965 - auc: 0.7473 - val_loss: 0.5966 - val_auc: 0.7559\n",
            "Epoch 15/70\n",
            "633/633 [==============================] - 12s 19ms/step - loss: 0.5965 - auc: 0.7489 - val_loss: 0.5934 - val_auc: 0.7555\n",
            "Epoch 16/70\n",
            "633/633 [==============================] - 12s 19ms/step - loss: 0.5959 - auc: 0.7497 - val_loss: 0.5941 - val_auc: 0.7561\n",
            "Epoch 17/70\n",
            "633/633 [==============================] - 13s 20ms/step - loss: 0.5962 - auc: 0.7493 - val_loss: 0.5926 - val_auc: 0.7574\n",
            "Epoch 18/70\n",
            "633/633 [==============================] - 12s 19ms/step - loss: 0.5947 - auc: 0.7504 - val_loss: 0.5926 - val_auc: 0.7567\n",
            "Epoch 19/70\n",
            "633/633 [==============================] - 12s 19ms/step - loss: 0.5947 - auc: 0.7500 - val_loss: 0.5955 - val_auc: 0.7548\n",
            "Epoch 20/70\n",
            "633/633 [==============================] - 12s 19ms/step - loss: 0.5957 - auc: 0.7494 - val_loss: 0.5932 - val_auc: 0.7576\n",
            "Epoch 21/70\n",
            "633/633 [==============================] - 12s 19ms/step - loss: 0.5956 - auc: 0.7501 - val_loss: 0.5936 - val_auc: 0.7560\n",
            "Epoch 22/70\n",
            "633/633 [==============================] - 12s 19ms/step - loss: 0.5942 - auc: 0.7507 - val_loss: 0.5935 - val_auc: 0.7570\n",
            "Epoch 23/70\n",
            "633/633 [==============================] - 12s 19ms/step - loss: 0.5941 - auc: 0.7515 - val_loss: 0.5927 - val_auc: 0.7577\n",
            "Epoch 24/70\n",
            "633/633 [==============================] - 12s 19ms/step - loss: 0.5944 - auc: 0.7510 - val_loss: 0.5928 - val_auc: 0.7564\n",
            "Epoch 25/70\n",
            "633/633 [==============================] - 12s 19ms/step - loss: 0.5942 - auc: 0.7515 - val_loss: 0.5950 - val_auc: 0.7569\n",
            "Epoch 26/70\n",
            "633/633 [==============================] - 12s 19ms/step - loss: 0.5929 - auc: 0.7525 - val_loss: 0.5938 - val_auc: 0.7567\n",
            "Epoch 27/70\n",
            "633/633 [==============================] - 13s 20ms/step - loss: 0.5941 - auc: 0.7514 - val_loss: 0.5947 - val_auc: 0.7551\n",
            "Epoch 28/70\n",
            "633/633 [==============================] - 12s 19ms/step - loss: 0.5953 - auc: 0.7503 - val_loss: 0.5913 - val_auc: 0.7584\n",
            "Epoch 29/70\n",
            "633/633 [==============================] - 12s 19ms/step - loss: 0.5929 - auc: 0.7522 - val_loss: 0.5930 - val_auc: 0.7558\n",
            "Epoch 30/70\n",
            "633/633 [==============================] - 12s 19ms/step - loss: 0.5934 - auc: 0.7521 - val_loss: 0.5957 - val_auc: 0.7552\n",
            "Epoch 31/70\n",
            "633/633 [==============================] - 12s 19ms/step - loss: 0.5932 - auc: 0.7521 - val_loss: 0.5923 - val_auc: 0.7587\n",
            "Epoch 32/70\n",
            "633/633 [==============================] - 12s 19ms/step - loss: 0.5936 - auc: 0.7514 - val_loss: 0.5930 - val_auc: 0.7568\n",
            "Epoch 33/70\n",
            "633/633 [==============================] - 12s 19ms/step - loss: 0.5938 - auc: 0.7523 - val_loss: 0.5923 - val_auc: 0.7599\n",
            "Epoch 34/70\n",
            "633/633 [==============================] - 12s 19ms/step - loss: 0.5948 - auc: 0.7513 - val_loss: 0.5939 - val_auc: 0.7577\n",
            "Epoch 35/70\n",
            "633/633 [==============================] - 12s 19ms/step - loss: 0.5923 - auc: 0.7531 - val_loss: 0.5914 - val_auc: 0.7588\n",
            "Epoch 36/70\n",
            "633/633 [==============================] - 12s 19ms/step - loss: 0.5935 - auc: 0.7524 - val_loss: 0.5917 - val_auc: 0.7577\n",
            "Epoch 37/70\n",
            "633/633 [==============================] - ETA: 0s - loss: 0.5937 - auc: 0.7516Epoch 38/70\n",
            "633/633 [==============================] - 12s 18ms/step - loss: 0.5935 - auc: 0.7526 - val_loss: 0.5935 - val_auc: 0.7577\n"
          ]
        }
      ]
    },
    {
      "cell_type": "markdown",
      "source": [
        "### Plotting the third model performance"
      ],
      "metadata": {
        "id": "9qNsn3Hf0dsE"
      }
    },
    {
      "cell_type": "code",
      "source": [
        "plot_performance(history_3)"
      ],
      "metadata": {
        "execution": {
          "iopub.status.busy": "2022-04-08T18:36:34.012967Z",
          "iopub.execute_input": "2022-04-08T18:36:34.013189Z",
          "iopub.status.idle": "2022-04-08T18:36:34.455385Z",
          "shell.execute_reply.started": "2022-04-08T18:36:34.013161Z",
          "shell.execute_reply": "2022-04-08T18:36:34.454510Z"
        },
        "trusted": true,
        "colab": {
          "base_uri": "https://localhost:8080/",
          "height": 1000
        },
        "id": "Ay6L3whN0dsE",
        "outputId": "1228d250-2d98-4b62-f5cb-f9933af935ea"
      },
      "execution_count": 70,
      "outputs": [
        {
          "output_type": "display_data",
          "data": {
            "text/plain": [
              "<Figure size 576x576 with 1 Axes>"
            ],
            "image/png": "[encoded data removed]"
          },
          "metadata": {
            "needs_background": "light"
          }
        },
        {
          "output_type": "display_data",
          "data": {
            "text/plain": [
              "<Figure size 576x576 with 1 Axes>"
            ],
            "image/png": "[encoded data removed]"
          },
          "metadata": {
            "needs_background": "light"
          }
        }
      ]
    },
    {
      "cell_type": "markdown",
      "source": [
        "### Predict the test data to evaluate the third model performance on kaggle competetion."
      ],
      "metadata": {
        "id": "aLPmm6JR0dsE"
      }
    },
    {
      "cell_type": "code",
      "source": [
        "y_pred_3 = predict_and_make_submission_file(model_3,'sumbission_file_3.csv',batch_size = 64)"
      ],
      "metadata": {
        "execution": {
          "iopub.status.busy": "2022-04-08T18:36:34.456807Z",
          "iopub.execute_input": "2022-04-08T18:36:34.457048Z",
          "iopub.status.idle": "2022-04-08T18:36:35.611295Z",
          "shell.execute_reply.started": "2022-04-08T18:36:34.457020Z",
          "shell.execute_reply": "2022-04-08T18:36:35.610386Z"
        },
        "trusted": true,
        "colab": {
          "base_uri": "https://localhost:8080/"
        },
        "id": "eYj4CCX90dsE",
        "outputId": "892f9d3d-78e7-4dbc-f219-6644e741897b"
      },
      "execution_count": 71,
      "outputs": [
        {
          "output_type": "stream",
          "name": "stdout",
          "text": [
            "(12326, 1)\n",
            "12326\n"
          ]
        }
      ]
    },
    {
      "cell_type": "markdown",
      "source": [
        "### Some intuitions about the third model's result \n",
        "\n",
        "**Public ROC_AUC score: 74.639%, Private ROC_AUC score: 74.329%, avg ROC_AUC score: 74.484%**\n",
        "\n",
        "Using this message passing style didn't help at all, **GGNN** was too much better the model and it overfits after training on the half epochs, so I don't recommend it for this kind of problem."
      ],
      "metadata": {
        "id": "4tDfynFJ0dsE"
      }
    },
    {
      "cell_type": "markdown",
      "source": [
        "### Fourth trial\n",
        "\n",
        "I this trial, I also changed the configuration of the message passing style to **GNN_Edge_MPL** it has the properties of the **RGCN** but it's a variant of **RGCN** in which messages on edges are computed using full MLPs, not just a single layer, and I choose it to compare its results with **RGCN** and I kept the other hyperparameters as default and I want to see if this would imporve the results and performance or not"
      ],
      "metadata": {
        "id": "gX8VzLnT0dsE"
      }
    },
    {
      "cell_type": "code",
      "source": [
        "model_4 = build_GCN(hidden_dim = 32 ,message_calculation_class = 'GNN_Edge_MLP' ,dense_intermediate_layer_activation = 'tanh', num_layers = 2)\n",
        "\n",
        "model_4.summary()"
      ],
      "metadata": {
        "execution": {
          "iopub.status.busy": "2022-04-08T18:36:35.616353Z",
          "iopub.execute_input": "2022-04-08T18:36:35.616607Z",
          "iopub.status.idle": "2022-04-08T18:36:35.859534Z",
          "shell.execute_reply.started": "2022-04-08T18:36:35.616576Z",
          "shell.execute_reply": "2022-04-08T18:36:35.858556Z"
        },
        "trusted": true,
        "colab": {
          "base_uri": "https://localhost:8080/"
        },
        "id": "JaEDpTOO0dsE",
        "outputId": "e16954b8-f914-4649-b3b0-8862406199a1"
      },
      "execution_count": 72,
      "outputs": [
        {
          "output_type": "stream",
          "name": "stdout",
          "text": [
            "message passing style used in this model will be GNN_Edge_MLP\n",
            "\n",
            "gnn_out KerasTensor(type_spec=TensorSpec(shape=(None, 32), dtype=tf.float32, name=None), name='gnn/StatefulPartitionedCall:0', description=\"created by layer 'gnn'\")\n",
            "mean: KerasTensor(type_spec=TensorSpec(shape=(None, 32), dtype=tf.float32, name=None), name='tf.math.segment_mean/SegmentMean:0', description=\"created by layer 'tf.math.segment_mean'\")\n",
            "pred: KerasTensor(type_spec=TensorSpec(shape=(None, 1), dtype=tf.float32, name=None), name='dense/Sigmoid:0', description=\"created by layer 'dense'\")\n",
            "Model: \"model\"\n",
            "__________________________________________________________________________________________________\n",
            " Layer (type)                   Output Shape         Param #     Connected to                     \n",
            "==================================================================================================\n",
            " input_3 (InputLayer)           [(None,)]            0           []                               \n",
            "                                                                                                  \n",
            " input_1 (InputLayer)           [(None,)]            0           []                               \n",
            "                                                                                                  \n",
            " tf.math.reduce_max (TFOpLambda  ()                  0           ['input_3[0][0]']                \n",
            " )                                                                                                \n",
            "                                                                                                  \n",
            " embedding (Embedding)          (None, 20)           10000       ['input_1[0][0]']                \n",
            "                                                                                                  \n",
            " input_2 (InputLayer)           [(None, 2)]          0           []                               \n",
            "                                                                                                  \n",
            " tf.__operators__.add (TFOpLamb  ()                  0           ['tf.math.reduce_max[0][0]']     \n",
            " da)                                                                                              \n",
            "                                                                                                  \n",
            " gnn (GNN)                      (None, 32)           3712        ['embedding[0][0]',              \n",
            "                                                                  'input_2[0][0]',                \n",
            "                                                                  'input_3[0][0]',                \n",
            "                                                                  'tf.__operators__.add[0][0]']   \n",
            "                                                                                                  \n",
            " tf.math.segment_mean (TFOpLamb  (None, 32)          0           ['gnn[0][0]',                    \n",
            " da)                                                              'input_3[0][0]']                \n",
            "                                                                                                  \n",
            " dense (Dense)                  (None, 1)            33          ['tf.math.segment_mean[0][0]']   \n",
            "                                                                                                  \n",
            "==================================================================================================\n",
            "Total params: 13,745\n",
            "Trainable params: 13,745\n",
            "Non-trainable params: 0\n",
            "__________________________________________________________________________________________________\n"
          ]
        }
      ]
    },
    {
      "cell_type": "markdown",
      "source": [
        "### Start compiling and training the fourth model"
      ],
      "metadata": {
        "id": "n7wSq7Qn0dsF"
      }
    },
    {
      "cell_type": "code",
      "source": [
        "model_4, history_4 = compile_and_train_model(model_4, training_set, validation_set, 'adam', 'BinaryCrossentropy', 'AUC', 64, 70)"
      ],
      "metadata": {
        "execution": {
          "iopub.status.busy": "2022-04-08T18:36:35.862903Z",
          "iopub.execute_input": "2022-04-08T18:36:35.863613Z",
          "iopub.status.idle": "2022-04-08T18:42:59.045366Z",
          "shell.execute_reply.started": "2022-04-08T18:36:35.863550Z",
          "shell.execute_reply": "2022-04-08T18:42:59.044232Z"
        },
        "trusted": true,
        "colab": {
          "base_uri": "https://localhost:8080/"
        },
        "id": "7tK6RWWB0dsF",
        "outputId": "d3406d29-9aa7-44c7-b559-6543de41ebb8"
      },
      "execution_count": 73,
      "outputs": [
        {
          "output_type": "stream",
          "name": "stdout",
          "text": [
            "Epoch 1/70\n"
          ]
        },
        {
          "output_type": "stream",
          "name": "stderr",
          "text": [
            "/usr/local/lib/python3.7/dist-packages/tensorflow/python/framework/indexed_slices.py:446: UserWarning: Converting sparse IndexedSlices(IndexedSlices(indices=Tensor(\"gradients/cond_1_grad/Identity_1:0\", shape=(None,), dtype=int32), values=Tensor(\"gradients/cond_1_grad/Identity:0\", shape=(None, 32), dtype=float32), dense_shape=Tensor(\"gradients/cond_1_grad/Identity_2:0\", shape=(2,), dtype=int32))) to a dense Tensor of unknown shape. This may consume a large amount of memory.\n",
            "  \"shape. This may consume a large amount of memory.\" % value)\n",
            "/usr/local/lib/python3.7/dist-packages/tensorflow/python/framework/indexed_slices.py:446: UserWarning: Converting sparse IndexedSlices(IndexedSlices(indices=Tensor(\"gradients/cond_grad/Identity_1:0\", shape=(None,), dtype=int32), values=Tensor(\"gradients/cond_grad/Identity:0\", shape=(None, 32), dtype=float32), dense_shape=Tensor(\"gradients/cond_grad/Identity_2:0\", shape=(2,), dtype=int32))) to a dense Tensor of unknown shape. This may consume a large amount of memory.\n",
            "  \"shape. This may consume a large amount of memory.\" % value)\n"
          ]
        },
        {
          "output_type": "stream",
          "name": "stdout",
          "text": [
            "633/633 [==============================] - 14s 20ms/step - loss: 0.6566 - auc: 0.6519 - val_loss: 0.6449 - val_auc: 0.6800\n",
            "Epoch 2/70\n",
            "633/633 [==============================] - 12s 19ms/step - loss: 0.6398 - auc: 0.6819 - val_loss: 0.6342 - val_auc: 0.7012\n",
            "Epoch 3/70\n",
            "633/633 [==============================] - 12s 19ms/step - loss: 0.6269 - auc: 0.7038 - val_loss: 0.6204 - val_auc: 0.7361\n",
            "Epoch 4/70\n",
            "633/633 [==============================] - 12s 19ms/step - loss: 0.6059 - auc: 0.7376 - val_loss: 0.6006 - val_auc: 0.7477\n",
            "Epoch 5/70\n",
            "633/633 [==============================] - 13s 20ms/step - loss: 0.6028 - auc: 0.7400 - val_loss: 0.5982 - val_auc: 0.7513\n",
            "Epoch 6/70\n",
            "633/633 [==============================] - 13s 20ms/step - loss: 0.6002 - auc: 0.7436 - val_loss: 0.5970 - val_auc: 0.7535\n",
            "Epoch 7/70\n",
            "633/633 [==============================] - 12s 19ms/step - loss: 0.5984 - auc: 0.7457 - val_loss: 0.5969 - val_auc: 0.7547\n",
            "Epoch 8/70\n",
            "633/633 [==============================] - 12s 19ms/step - loss: 0.5990 - auc: 0.7455 - val_loss: 0.5938 - val_auc: 0.7546\n",
            "Epoch 9/70\n",
            "633/633 [==============================] - 13s 20ms/step - loss: 0.5978 - auc: 0.7464 - val_loss: 0.5949 - val_auc: 0.7528\n",
            "Epoch 10/70\n",
            "633/633 [==============================] - 12s 19ms/step - loss: 0.5969 - auc: 0.7471 - val_loss: 0.5948 - val_auc: 0.7539\n",
            "Epoch 11/70\n",
            "633/633 [==============================] - 12s 19ms/step - loss: 0.5969 - auc: 0.7471 - val_loss: 0.5952 - val_auc: 0.7553\n",
            "Epoch 12/70\n",
            "633/633 [==============================] - 12s 19ms/step - loss: 0.5965 - auc: 0.7479 - val_loss: 0.5939 - val_auc: 0.7537\n",
            "Epoch 13/70\n",
            "633/633 [==============================] - 12s 19ms/step - loss: 0.5958 - auc: 0.7488 - val_loss: 0.5943 - val_auc: 0.7555\n",
            "Epoch 14/70\n",
            "633/633 [==============================] - 13s 20ms/step - loss: 0.5961 - auc: 0.7471 - val_loss: 0.5953 - val_auc: 0.7553\n",
            "Epoch 15/70\n",
            "633/633 [==============================] - 12s 19ms/step - loss: 0.5953 - auc: 0.7487 - val_loss: 0.5934 - val_auc: 0.7555\n",
            "Epoch 16/70\n",
            "633/633 [==============================] - 12s 19ms/step - loss: 0.5960 - auc: 0.7493 - val_loss: 0.5939 - val_auc: 0.7543\n",
            "Epoch 17/70\n",
            "633/633 [==============================] - 12s 19ms/step - loss: 0.5959 - auc: 0.7490 - val_loss: 0.5940 - val_auc: 0.7576\n",
            "Epoch 18/70\n",
            "633/633 [==============================] - 12s 19ms/step - loss: 0.5945 - auc: 0.7499 - val_loss: 0.5938 - val_auc: 0.7548\n",
            "Epoch 19/70\n",
            "633/633 [==============================] - 12s 19ms/step - loss: 0.5957 - auc: 0.7490 - val_loss: 0.5925 - val_auc: 0.7566\n",
            "Epoch 20/70\n",
            "633/633 [==============================] - 13s 20ms/step - loss: 0.5948 - auc: 0.7499 - val_loss: 0.5937 - val_auc: 0.7587\n",
            "Epoch 21/70\n",
            "633/633 [==============================] - 12s 19ms/step - loss: 0.5952 - auc: 0.7492 - val_loss: 0.5929 - val_auc: 0.7560\n",
            "Epoch 22/70\n",
            "633/633 [==============================] - 12s 19ms/step - loss: 0.5948 - auc: 0.7504 - val_loss: 0.5922 - val_auc: 0.7571\n",
            "Epoch 23/70\n",
            "633/633 [==============================] - 12s 19ms/step - loss: 0.5943 - auc: 0.7507 - val_loss: 0.5946 - val_auc: 0.7543\n",
            "Epoch 24/70\n",
            "633/633 [==============================] - 12s 19ms/step - loss: 0.5935 - auc: 0.7510 - val_loss: 0.5927 - val_auc: 0.7565\n",
            "Epoch 25/70\n",
            "633/633 [==============================] - 13s 20ms/step - loss: 0.5938 - auc: 0.7513 - val_loss: 0.5910 - val_auc: 0.7588\n",
            "Epoch 26/70\n",
            "633/633 [==============================] - 12s 19ms/step - loss: 0.5936 - auc: 0.7521 - val_loss: 0.5943 - val_auc: 0.7543\n",
            "Epoch 27/70\n",
            "633/633 [==============================] - 12s 19ms/step - loss: 0.5943 - auc: 0.7506 - val_loss: 0.5954 - val_auc: 0.7579\n",
            "Epoch 28/70\n",
            "633/633 [==============================] - 12s 19ms/step - loss: 0.5949 - auc: 0.7504 - val_loss: 0.5926 - val_auc: 0.7567\n",
            "Epoch 29/70\n",
            "633/633 [==============================] - 12s 19ms/step - loss: 0.5934 - auc: 0.7513 - val_loss: 0.5929 - val_auc: 0.7585\n",
            "Epoch 30/70\n",
            "633/633 [==============================] - 12s 19ms/step - loss: 0.5925 - auc: 0.7529 - val_loss: 0.5900 - val_auc: 0.7579\n"
          ]
        }
      ]
    },
    {
      "cell_type": "markdown",
      "source": [
        "### Plotting the fourth performance"
      ],
      "metadata": {
        "id": "eAYeiTKb0dsF"
      }
    },
    {
      "cell_type": "code",
      "source": [
        "plot_performance(history_4)"
      ],
      "metadata": {
        "execution": {
          "iopub.status.busy": "2022-04-08T18:42:59.047407Z",
          "iopub.execute_input": "2022-04-08T18:42:59.047746Z",
          "iopub.status.idle": "2022-04-08T18:42:59.490950Z",
          "shell.execute_reply.started": "2022-04-08T18:42:59.047701Z",
          "shell.execute_reply": "2022-04-08T18:42:59.490214Z"
        },
        "trusted": true,
        "colab": {
          "base_uri": "https://localhost:8080/",
          "height": 1000
        },
        "id": "-WKeKsOt0dsF",
        "outputId": "d9b237d9-dacb-4623-8607-ecd5b7dead3a"
      },
      "execution_count": 74,
      "outputs": [
        {
          "output_type": "display_data",
          "data": {
            "text/plain": [
              "<Figure size 576x576 with 1 Axes>"
            ],
            "image/png": "[encoded data removed]"
          },
          "metadata": {
            "needs_background": "light"
          }
        },
        {
          "output_type": "display_data",
          "data": {
            "text/plain": [
              "<Figure size 576x576 with 1 Axes>"
            ],
            "image/png": "[encoded data removed]"
          },
          "metadata": {
            "needs_background": "light"
          }
        }
      ]
    },
    {
      "cell_type": "markdown",
      "source": [
        "### Predict the test data to evaluate the fourth model performance on kaggle competetion."
      ],
      "metadata": {
        "id": "vTsAAfxt0dsF"
      }
    },
    {
      "cell_type": "code",
      "source": [
        "y_pred_4 = predict_and_make_submission_file(model_4,'sumbission_file_4.csv',batch_size = 64)\n",
        "print(y_pred_4)"
      ],
      "metadata": {
        "execution": {
          "iopub.status.busy": "2022-04-08T18:42:59.492146Z",
          "iopub.execute_input": "2022-04-08T18:42:59.492343Z",
          "iopub.status.idle": "2022-04-08T18:43:00.490774Z",
          "shell.execute_reply.started": "2022-04-08T18:42:59.492318Z",
          "shell.execute_reply": "2022-04-08T18:43:00.489848Z"
        },
        "trusted": true,
        "colab": {
          "base_uri": "https://localhost:8080/"
        },
        "id": "Lxs8J7nH0dsF",
        "outputId": "38606565-4fc3-4c5e-d58c-b5113df786d8"
      },
      "execution_count": 75,
      "outputs": [
        {
          "output_type": "stream",
          "name": "stdout",
          "text": [
            "(12326, 1)\n",
            "12326\n",
            "[0.6021414  0.45127082 0.3075218  ... 0.28797185 0.35682538 0.48888752]\n"
          ]
        }
      ]
    },
    {
      "cell_type": "markdown",
      "source": [
        "### Some intuitions about the fourth model's result \n",
        "\n",
        "**Public ROC_AUC score: 75.514%, Private ROC_AUC score: 74.699%, avg ROC_AUC score: 75.1065%**\n",
        "\n",
        "\n",
        "Additional fully connect MLP in this archictechture helped a little bit than previous trial but not too much and I wouldn't recommend this model because it starts to overfit after 25 epochs and it's much worest than first and second trial."
      ],
      "metadata": {
        "id": "0fl52R3e0dsF"
      }
    },
    {
      "cell_type": "markdown",
      "source": [
        "### Fifth trial\n",
        "\n",
        "In this trial, I used the **RGCN** as in the third trial but I decided to increase the number of hidden units to see if the number of weights when to increase it will improve the results or it will cause overfitting."
      ],
      "metadata": {
        "id": "TdCoefXR0dsF"
      }
    },
    {
      "cell_type": "code",
      "source": [
        "model_5 = build_GCN(hidden_dim = 64 ,message_calculation_class = 'RGCN' ,dense_intermediate_layer_activation = 'tanh', num_layers = 2)\n",
        "\n",
        "model_5.summary()"
      ],
      "metadata": {
        "execution": {
          "iopub.status.busy": "2022-04-08T18:43:00.492178Z",
          "iopub.execute_input": "2022-04-08T18:43:00.492382Z",
          "iopub.status.idle": "2022-04-08T18:43:00.706454Z",
          "shell.execute_reply.started": "2022-04-08T18:43:00.492357Z",
          "shell.execute_reply": "2022-04-08T18:43:00.705453Z"
        },
        "trusted": true,
        "colab": {
          "base_uri": "https://localhost:8080/"
        },
        "id": "qfWE-3Q30dsG",
        "outputId": "367b3987-b3ac-4878-bfbe-b9648366f1cf"
      },
      "execution_count": 76,
      "outputs": [
        {
          "output_type": "stream",
          "name": "stdout",
          "text": [
            "message passing style used in this model will be RGCN\n",
            "\n",
            "gnn_out KerasTensor(type_spec=TensorSpec(shape=(None, 64), dtype=tf.float32, name=None), name='gnn/StatefulPartitionedCall:0', description=\"created by layer 'gnn'\")\n",
            "mean: KerasTensor(type_spec=TensorSpec(shape=(None, 64), dtype=tf.float32, name=None), name='tf.math.segment_mean/SegmentMean:0', description=\"created by layer 'tf.math.segment_mean'\")\n",
            "pred: KerasTensor(type_spec=TensorSpec(shape=(None, 1), dtype=tf.float32, name=None), name='dense/Sigmoid:0', description=\"created by layer 'dense'\")\n",
            "Model: \"model\"\n",
            "__________________________________________________________________________________________________\n",
            " Layer (type)                   Output Shape         Param #     Connected to                     \n",
            "==================================================================================================\n",
            " input_3 (InputLayer)           [(None,)]            0           []                               \n",
            "                                                                                                  \n",
            " input_1 (InputLayer)           [(None,)]            0           []                               \n",
            "                                                                                                  \n",
            " tf.math.reduce_max (TFOpLambda  ()                  0           ['input_3[0][0]']                \n",
            " )                                                                                                \n",
            "                                                                                                  \n",
            " embedding (Embedding)          (None, 20)           10000       ['input_1[0][0]']                \n",
            "                                                                                                  \n",
            " input_2 (InputLayer)           [(None, 2)]          0           []                               \n",
            "                                                                                                  \n",
            " tf.__operators__.add (TFOpLamb  ()                  0           ['tf.math.reduce_max[0][0]']     \n",
            " da)                                                                                              \n",
            "                                                                                                  \n",
            " gnn (GNN)                      (None, 64)           13568       ['embedding[0][0]',              \n",
            "                                                                  'input_2[0][0]',                \n",
            "                                                                  'input_3[0][0]',                \n",
            "                                                                  'tf.__operators__.add[0][0]']   \n",
            "                                                                                                  \n",
            " tf.math.segment_mean (TFOpLamb  (None, 64)          0           ['gnn[0][0]',                    \n",
            " da)                                                              'input_3[0][0]']                \n",
            "                                                                                                  \n",
            " dense (Dense)                  (None, 1)            65          ['tf.math.segment_mean[0][0]']   \n",
            "                                                                                                  \n",
            "==================================================================================================\n",
            "Total params: 23,633\n",
            "Trainable params: 23,633\n",
            "Non-trainable params: 0\n",
            "__________________________________________________________________________________________________\n"
          ]
        }
      ]
    },
    {
      "cell_type": "markdown",
      "source": [
        "### Start compiling and training the fifth model"
      ],
      "metadata": {
        "id": "IcOv82E_0dsG"
      }
    },
    {
      "cell_type": "code",
      "source": [
        "model_5, history_5 = compile_and_train_model(model_5, training_set, validation_set, 'adam', 'BinaryCrossentropy', 'AUC', 64, 70)"
      ],
      "metadata": {
        "execution": {
          "iopub.status.busy": "2022-04-08T18:43:00.707655Z",
          "iopub.execute_input": "2022-04-08T18:43:00.707926Z",
          "iopub.status.idle": "2022-04-08T18:51:09.033660Z",
          "shell.execute_reply.started": "2022-04-08T18:43:00.707870Z",
          "shell.execute_reply": "2022-04-08T18:51:09.032962Z"
        },
        "trusted": true,
        "colab": {
          "base_uri": "https://localhost:8080/"
        },
        "id": "my1si3HU0dsG",
        "outputId": "a4215d11-ce86-4bad-b439-2f7c5eee89f1"
      },
      "execution_count": 77,
      "outputs": [
        {
          "output_type": "stream",
          "name": "stdout",
          "text": [
            "Epoch 1/70\n"
          ]
        },
        {
          "output_type": "stream",
          "name": "stderr",
          "text": [
            "/usr/local/lib/python3.7/dist-packages/tensorflow/python/framework/indexed_slices.py:446: UserWarning: Converting sparse IndexedSlices(IndexedSlices(indices=Tensor(\"gradients/cond_1_grad/Identity_1:0\", shape=(None,), dtype=int32), values=Tensor(\"gradients/cond_1_grad/Identity:0\", shape=(None, 64), dtype=float32), dense_shape=Tensor(\"gradients/cond_1_grad/Identity_2:0\", shape=(2,), dtype=int32))) to a dense Tensor of unknown shape. This may consume a large amount of memory.\n",
            "  \"shape. This may consume a large amount of memory.\" % value)\n",
            "/usr/local/lib/python3.7/dist-packages/tensorflow/python/framework/indexed_slices.py:446: UserWarning: Converting sparse IndexedSlices(IndexedSlices(indices=Tensor(\"gradients/cond_grad/Identity_1:0\", shape=(None,), dtype=int32), values=Tensor(\"gradients/cond_grad/Identity:0\", shape=(None, 64), dtype=float32), dense_shape=Tensor(\"gradients/cond_grad/Identity_2:0\", shape=(2,), dtype=int32))) to a dense Tensor of unknown shape. This may consume a large amount of memory.\n",
            "  \"shape. This may consume a large amount of memory.\" % value)\n"
          ]
        },
        {
          "output_type": "stream",
          "name": "stdout",
          "text": [
            "633/633 [==============================] - 14s 20ms/step - loss: 0.6509 - auc: 0.6598 - val_loss: 0.6377 - val_auc: 0.6779\n",
            "Epoch 2/70\n",
            "633/633 [==============================] - 12s 19ms/step - loss: 0.6356 - auc: 0.6833 - val_loss: 0.6318 - val_auc: 0.6913\n",
            "Epoch 3/70\n",
            "633/633 [==============================] - 12s 19ms/step - loss: 0.6312 - auc: 0.6937 - val_loss: 0.6260 - val_auc: 0.7091\n",
            "Epoch 4/70\n",
            "633/633 [==============================] - 12s 19ms/step - loss: 0.6184 - auc: 0.7179 - val_loss: 0.6021 - val_auc: 0.7526\n",
            "Epoch 5/70\n",
            "633/633 [==============================] - 12s 19ms/step - loss: 0.6016 - auc: 0.7441 - val_loss: 0.5978 - val_auc: 0.7541\n",
            "Epoch 6/70\n",
            "633/633 [==============================] - 13s 20ms/step - loss: 0.5978 - auc: 0.7469 - val_loss: 0.5950 - val_auc: 0.7540\n",
            "Epoch 7/70\n",
            "633/633 [==============================] - 13s 20ms/step - loss: 0.5975 - auc: 0.7470 - val_loss: 0.5934 - val_auc: 0.7559\n",
            "Epoch 8/70\n",
            "633/633 [==============================] - 12s 19ms/step - loss: 0.5953 - auc: 0.7486 - val_loss: 0.5935 - val_auc: 0.7567\n",
            "Epoch 9/70\n",
            "633/633 [==============================] - 12s 19ms/step - loss: 0.5959 - auc: 0.7486 - val_loss: 0.5934 - val_auc: 0.7532\n",
            "Epoch 10/70\n",
            "633/633 [==============================] - 12s 19ms/step - loss: 0.5935 - auc: 0.7509 - val_loss: 0.5927 - val_auc: 0.7564\n",
            "Epoch 11/70\n",
            "633/633 [==============================] - 12s 19ms/step - loss: 0.5933 - auc: 0.7510 - val_loss: 0.5916 - val_auc: 0.7569\n",
            "Epoch 12/70\n",
            "633/633 [==============================] - 12s 19ms/step - loss: 0.5925 - auc: 0.7517 - val_loss: 0.5916 - val_auc: 0.7580\n",
            "Epoch 13/70\n",
            "633/633 [==============================] - 12s 19ms/step - loss: 0.5920 - auc: 0.7526 - val_loss: 0.5907 - val_auc: 0.7582\n",
            "Epoch 14/70\n",
            "633/633 [==============================] - 12s 19ms/step - loss: 0.5941 - auc: 0.7504 - val_loss: 0.5933 - val_auc: 0.7565\n",
            "Epoch 15/70\n",
            "633/633 [==============================] - 12s 19ms/step - loss: 0.5926 - auc: 0.7524 - val_loss: 0.5898 - val_auc: 0.7583\n",
            "Epoch 16/70\n",
            "633/633 [==============================] - 12s 19ms/step - loss: 0.5927 - auc: 0.7531 - val_loss: 0.5978 - val_auc: 0.7565\n",
            "Epoch 17/70\n",
            "633/633 [==============================] - 12s 19ms/step - loss: 0.5919 - auc: 0.7520 - val_loss: 0.5983 - val_auc: 0.7545\n",
            "Epoch 18/70\n",
            "633/633 [==============================] - 12s 19ms/step - loss: 0.5904 - auc: 0.7547 - val_loss: 0.5896 - val_auc: 0.7606\n",
            "Epoch 19/70\n",
            "633/633 [==============================] - 12s 19ms/step - loss: 0.5892 - auc: 0.7556 - val_loss: 0.5874 - val_auc: 0.7591\n",
            "Epoch 20/70\n",
            "633/633 [==============================] - 12s 19ms/step - loss: 0.5888 - auc: 0.7563 - val_loss: 0.5905 - val_auc: 0.7596\n",
            "Epoch 21/70\n",
            "633/633 [==============================] - 12s 19ms/step - loss: 0.5912 - auc: 0.7538 - val_loss: 0.5890 - val_auc: 0.7605\n",
            "Epoch 22/70\n",
            "633/633 [==============================] - 12s 19ms/step - loss: 0.5878 - auc: 0.7574 - val_loss: 0.5900 - val_auc: 0.7594\n",
            "Epoch 23/70\n",
            "633/633 [==============================] - 12s 19ms/step - loss: 0.5878 - auc: 0.7573 - val_loss: 0.5877 - val_auc: 0.7619\n",
            "Epoch 24/70\n",
            "633/633 [==============================] - 12s 19ms/step - loss: 0.5868 - auc: 0.7584 - val_loss: 0.5851 - val_auc: 0.7611\n",
            "Epoch 25/70\n",
            "633/633 [==============================] - 12s 19ms/step - loss: 0.5860 - auc: 0.7588 - val_loss: 0.5997 - val_auc: 0.7616\n",
            "Epoch 26/70\n",
            "633/633 [==============================] - 12s 19ms/step - loss: 0.5861 - auc: 0.7586 - val_loss: 0.5860 - val_auc: 0.7621\n",
            "Epoch 27/70\n",
            "633/633 [==============================] - 12s 19ms/step - loss: 0.5871 - auc: 0.7580 - val_loss: 0.5857 - val_auc: 0.7635\n",
            "Epoch 28/70\n",
            "633/633 [==============================] - 13s 20ms/step - loss: 0.5856 - auc: 0.7597 - val_loss: 0.5871 - val_auc: 0.7625\n",
            "Epoch 29/70\n",
            "633/633 [==============================] - 12s 19ms/step - loss: 0.5861 - auc: 0.7595 - val_loss: 0.5849 - val_auc: 0.7644\n",
            "Epoch 30/70\n",
            "633/633 [==============================] - 12s 19ms/step - loss: 0.5846 - auc: 0.7616 - val_loss: 0.5848 - val_auc: 0.7654\n",
            "Epoch 31/70\n",
            "633/633 [==============================] - 13s 20ms/step - loss: 0.5859 - auc: 0.7599 - val_loss: 0.5824 - val_auc: 0.7665\n",
            "Epoch 32/70\n",
            "633/633 [==============================] - 13s 20ms/step - loss: 0.5846 - auc: 0.7615 - val_loss: 0.5893 - val_auc: 0.7629\n",
            "Epoch 33/70\n",
            "633/633 [==============================] - 12s 19ms/step - loss: 0.5853 - auc: 0.7611 - val_loss: 0.5823 - val_auc: 0.7684\n",
            "Epoch 34/70\n",
            "633/633 [==============================] - 12s 19ms/step - loss: 0.5833 - auc: 0.7629 - val_loss: 0.5823 - val_auc: 0.7684\n",
            "Epoch 35/70\n",
            "633/633 [==============================] - 12s 19ms/step - loss: 0.5841 - auc: 0.7624 - val_loss: 0.5834 - val_auc: 0.7669\n",
            "Epoch 36/70\n",
            "633/633 [==============================] - 13s 20ms/step - loss: 0.5835 - auc: 0.7632 - val_loss: 0.5844 - val_auc: 0.7676\n",
            "Epoch 37/70\n",
            "633/633 [==============================] - 12s 19ms/step - loss: 0.5821 - auc: 0.7638 - val_loss: 0.5838 - val_auc: 0.7662\n",
            "Epoch 38/70\n",
            "633/633 [==============================] - 12s 19ms/step - loss: 0.5833 - auc: 0.7631 - val_loss: 0.5826 - val_auc: 0.7673\n",
            "Epoch 39/70\n",
            "633/633 [==============================] - 12s 19ms/step - loss: 0.5817 - auc: 0.7641 - val_loss: 0.5822 - val_auc: 0.7678\n"
          ]
        }
      ]
    },
    {
      "cell_type": "markdown",
      "source": [
        "### Plotting the fifth model performance"
      ],
      "metadata": {
        "id": "yevaKmZU0dsG"
      }
    },
    {
      "cell_type": "code",
      "source": [
        "plot_performance(history_5)"
      ],
      "metadata": {
        "execution": {
          "iopub.status.busy": "2022-04-08T18:51:09.035243Z",
          "iopub.execute_input": "2022-04-08T18:51:09.035482Z",
          "iopub.status.idle": "2022-04-08T18:51:09.475324Z",
          "shell.execute_reply.started": "2022-04-08T18:51:09.035452Z",
          "shell.execute_reply": "2022-04-08T18:51:09.474456Z"
        },
        "trusted": true,
        "colab": {
          "base_uri": "https://localhost:8080/",
          "height": 1000
        },
        "id": "C9NEVln60dsG",
        "outputId": "745ce31d-4a7f-45a5-a08d-72e0947fe77c"
      },
      "execution_count": 78,
      "outputs": [
        {
          "output_type": "display_data",
          "data": {
            "text/plain": [
              "<Figure size 576x576 with 1 Axes>"
            ],
            "image/png": "[encoded data removed]"
          },
          "metadata": {
            "needs_background": "light"
          }
        },
        {
          "output_type": "display_data",
          "data": {
            "text/plain": [
              "<Figure size 576x576 with 1 Axes>"
            ],
            "image/png": "[encoded data removed]"
          },
          "metadata": {
            "needs_background": "light"
          }
        }
      ]
    },
    {
      "cell_type": "markdown",
      "source": [
        "### Predict the test data to evaluate the fifth model performance on kaggle competetion."
      ],
      "metadata": {
        "id": "1-AW0C0l0dsG"
      }
    },
    {
      "cell_type": "code",
      "source": [
        "y_pred_5 = predict_and_make_submission_file(model_5,'sumbission_file_5.csv',batch_size = 64)\n",
        "print(y_pred_5)"
      ],
      "metadata": {
        "execution": {
          "iopub.status.busy": "2022-04-08T18:51:09.476682Z",
          "iopub.execute_input": "2022-04-08T18:51:09.477133Z",
          "iopub.status.idle": "2022-04-08T18:51:10.674949Z",
          "shell.execute_reply.started": "2022-04-08T18:51:09.477098Z",
          "shell.execute_reply": "2022-04-08T18:51:10.674243Z"
        },
        "trusted": true,
        "colab": {
          "base_uri": "https://localhost:8080/"
        },
        "id": "LxzEDnfh0dsG",
        "outputId": "1913f51b-c3c2-4971-9bd3-8e49bc0a40db"
      },
      "execution_count": 79,
      "outputs": [
        {
          "output_type": "stream",
          "name": "stdout",
          "text": [
            "(12326, 1)\n",
            "12326\n",
            "[0.6386323  0.4338029  0.2667348  ... 0.24349347 0.36402273 0.6795052 ]\n"
          ]
        }
      ]
    },
    {
      "cell_type": "markdown",
      "source": [
        "### Some intuitions about the fifth model's result \n",
        "\n",
        "**Public ROC_AUC score: 75.703%, Private ROC_AUC score: 75.188%, avg ROC_AUC score: 75.4455%**\n",
        "\n",
        "\n",
        "It got a better result than **third trial** and the previous trial when I increased the number of **hidden_dim** but that didn't help too much and it's still much worest than **first** and **second trial**, the model starts overfitting after 35 epochs."
      ],
      "metadata": {
        "id": "ea6RfxWz0dsG"
      }
    },
    {
      "cell_type": "markdown",
      "source": [
        "### Sixth trail\n",
        "\n",
        "Here I did the same as the previous trial with same reason but with **GNN Edge MLP** message passing style and I will compare it with the previous trial."
      ],
      "metadata": {
        "id": "iuWgNUwM0dsG"
      }
    },
    {
      "cell_type": "code",
      "source": [
        "model_6 = build_GCN(hidden_dim = 64 ,message_calculation_class = 'GNN_Edge_MLP' ,dense_intermediate_layer_activation = 'tanh', num_layers = 2)\n",
        "\n",
        "model_6.summary()"
      ],
      "metadata": {
        "execution": {
          "iopub.status.busy": "2022-04-08T18:51:10.675900Z",
          "iopub.execute_input": "2022-04-08T18:51:10.676512Z",
          "iopub.status.idle": "2022-04-08T18:51:10.933573Z",
          "shell.execute_reply.started": "2022-04-08T18:51:10.676474Z",
          "shell.execute_reply": "2022-04-08T18:51:10.932545Z"
        },
        "trusted": true,
        "colab": {
          "base_uri": "https://localhost:8080/"
        },
        "id": "9bE5C-so0dsH",
        "outputId": "42c1c262-f003-4fea-bced-b9d24e45119b"
      },
      "execution_count": 80,
      "outputs": [
        {
          "output_type": "stream",
          "name": "stdout",
          "text": [
            "message passing style used in this model will be GNN_Edge_MLP\n",
            "\n",
            "gnn_out KerasTensor(type_spec=TensorSpec(shape=(None, 64), dtype=tf.float32, name=None), name='gnn/StatefulPartitionedCall:0', description=\"created by layer 'gnn'\")\n",
            "mean: KerasTensor(type_spec=TensorSpec(shape=(None, 64), dtype=tf.float32, name=None), name='tf.math.segment_mean/SegmentMean:0', description=\"created by layer 'tf.math.segment_mean'\")\n",
            "pred: KerasTensor(type_spec=TensorSpec(shape=(None, 1), dtype=tf.float32, name=None), name='dense/Sigmoid:0', description=\"created by layer 'dense'\")\n",
            "Model: \"model\"\n",
            "__________________________________________________________________________________________________\n",
            " Layer (type)                   Output Shape         Param #     Connected to                     \n",
            "==================================================================================================\n",
            " input_3 (InputLayer)           [(None,)]            0           []                               \n",
            "                                                                                                  \n",
            " input_1 (InputLayer)           [(None,)]            0           []                               \n",
            "                                                                                                  \n",
            " tf.math.reduce_max (TFOpLambda  ()                  0           ['input_3[0][0]']                \n",
            " )                                                                                                \n",
            "                                                                                                  \n",
            " embedding (Embedding)          (None, 20)           10000       ['input_1[0][0]']                \n",
            "                                                                                                  \n",
            " input_2 (InputLayer)           [(None, 2)]          0           []                               \n",
            "                                                                                                  \n",
            " tf.__operators__.add (TFOpLamb  ()                  0           ['tf.math.reduce_max[0][0]']     \n",
            " da)                                                                                              \n",
            "                                                                                                  \n",
            " gnn (GNN)                      (None, 64)           13568       ['embedding[0][0]',              \n",
            "                                                                  'input_2[0][0]',                \n",
            "                                                                  'input_3[0][0]',                \n",
            "                                                                  'tf.__operators__.add[0][0]']   \n",
            "                                                                                                  \n",
            " tf.math.segment_mean (TFOpLamb  (None, 64)          0           ['gnn[0][0]',                    \n",
            " da)                                                              'input_3[0][0]']                \n",
            "                                                                                                  \n",
            " dense (Dense)                  (None, 1)            65          ['tf.math.segment_mean[0][0]']   \n",
            "                                                                                                  \n",
            "==================================================================================================\n",
            "Total params: 23,633\n",
            "Trainable params: 23,633\n",
            "Non-trainable params: 0\n",
            "__________________________________________________________________________________________________\n"
          ]
        }
      ]
    },
    {
      "cell_type": "markdown",
      "source": [
        "### Start compiling and training the sixth model"
      ],
      "metadata": {
        "id": "31Ial1s-0dsH"
      }
    },
    {
      "cell_type": "code",
      "source": [
        "model_6, history_6 = compile_and_train_model(model_6, training_set, validation_set, 'adam', 'BinaryCrossentropy', 'AUC', 64, 70)"
      ],
      "metadata": {
        "execution": {
          "iopub.status.busy": "2022-04-08T18:51:10.935344Z",
          "iopub.execute_input": "2022-04-08T18:51:10.935734Z",
          "iopub.status.idle": "2022-04-08T18:55:29.490273Z",
          "shell.execute_reply.started": "2022-04-08T18:51:10.935695Z",
          "shell.execute_reply": "2022-04-08T18:55:29.489371Z"
        },
        "trusted": true,
        "colab": {
          "base_uri": "https://localhost:8080/"
        },
        "id": "lXAcSHZR0dsH",
        "outputId": "271036b2-d58f-4d4b-d9a5-b8688584c9e0"
      },
      "execution_count": null,
      "outputs": [
        {
          "output_type": "stream",
          "name": "stdout",
          "text": [
            "Epoch 1/70\n"
          ]
        },
        {
          "output_type": "stream",
          "name": "stderr",
          "text": [
            "/usr/local/lib/python3.7/dist-packages/tensorflow/python/framework/indexed_slices.py:446: UserWarning: Converting sparse IndexedSlices(IndexedSlices(indices=Tensor(\"gradients/cond_1_grad/Identity_1:0\", shape=(None,), dtype=int32), values=Tensor(\"gradients/cond_1_grad/Identity:0\", shape=(None, 64), dtype=float32), dense_shape=Tensor(\"gradients/cond_1_grad/Identity_2:0\", shape=(2,), dtype=int32))) to a dense Tensor of unknown shape. This may consume a large amount of memory.\n",
            "  \"shape. This may consume a large amount of memory.\" % value)\n",
            "/usr/local/lib/python3.7/dist-packages/tensorflow/python/framework/indexed_slices.py:446: UserWarning: Converting sparse IndexedSlices(IndexedSlices(indices=Tensor(\"gradients/cond_grad/Identity_1:0\", shape=(None,), dtype=int32), values=Tensor(\"gradients/cond_grad/Identity:0\", shape=(None, 64), dtype=float32), dense_shape=Tensor(\"gradients/cond_grad/Identity_2:0\", shape=(2,), dtype=int32))) to a dense Tensor of unknown shape. This may consume a large amount of memory.\n",
            "  \"shape. This may consume a large amount of memory.\" % value)\n"
          ]
        },
        {
          "output_type": "stream",
          "name": "stdout",
          "text": [
            "630/633 [============================>.] - ETA: 0s - loss: 0.6511 - auc: 0.6586"
          ]
        }
      ]
    },
    {
      "cell_type": "markdown",
      "source": [
        "### Plotting the sixth model performance"
      ],
      "metadata": {
        "id": "RWyzcN0k0dsH"
      }
    },
    {
      "cell_type": "code",
      "source": [
        "plot_performance(history_6)"
      ],
      "metadata": {
        "execution": {
          "iopub.status.busy": "2022-04-08T18:55:29.492133Z",
          "iopub.execute_input": "2022-04-08T18:55:29.492831Z",
          "iopub.status.idle": "2022-04-08T18:55:29.936231Z",
          "shell.execute_reply.started": "2022-04-08T18:55:29.492781Z",
          "shell.execute_reply": "2022-04-08T18:55:29.935247Z"
        },
        "trusted": true,
        "id": "e7MeSLhn0dsH"
      },
      "execution_count": null,
      "outputs": []
    },
    {
      "cell_type": "markdown",
      "source": [
        "### Predict the test data to evaluate the sixth model performance on kaggle competetion.\n",
        "\n",
        "**Public ROC_AUC score: 74.878%, Private ROC_AUC score: 74.281%, avg ROC_AUC score: 74.5795%**\n",
        "\n",
        "\n",
        "Increasing the number of **hidden_dim** for this gate wasn't good choice it got worest results than **fourth trial** and than **previous trial** which has 32 of **hidden_dim**, the start to overfit after only 14 epochs."
      ],
      "metadata": {
        "id": "YofajESC0dsH"
      }
    },
    {
      "cell_type": "code",
      "source": [
        "y_pred_6 = predict_and_make_submission_file(model_6,'sumbission_file_6.csv',batch_size = 64)"
      ],
      "metadata": {
        "execution": {
          "iopub.status.busy": "2022-04-08T18:55:29.937682Z",
          "iopub.execute_input": "2022-04-08T18:55:29.938419Z",
          "iopub.status.idle": "2022-04-08T18:55:31.119840Z",
          "shell.execute_reply.started": "2022-04-08T18:55:29.938367Z",
          "shell.execute_reply": "2022-04-08T18:55:31.118833Z"
        },
        "trusted": true,
        "id": "57qPYLaj0dsH"
      },
      "execution_count": null,
      "outputs": []
    },
    {
      "cell_type": "markdown",
      "source": [
        "### Some intuitions about the sixth model's result "
      ],
      "metadata": {
        "id": "Of--0ogZ0dsH"
      }
    },
    {
      "cell_type": "markdown",
      "source": [
        "### Seventh trial\n",
        "\n",
        "Here I decided to keep the hyperparameters as defaults except for the configuration of the message passing style parameter, I changed it to **RGAT** *(Relational Graph Attention Networks)*,This neural network operates on graph-structured data, using masked self-attentional layers to solve the drawbacks of previous approaches based on graph convolutions or their approximations. We enable (implicitly) providing various weights to distinct nodes in a neighborhood by stacking layers in which nodes can attend over their neighborhoods' attributes, without requiring any form of costly matrix operation (such as inversion) or relying on knowing the graph structure, so I use it to see if it'll help or not."
      ],
      "metadata": {
        "id": "C1zqRhDT0dsH"
      }
    },
    {
      "cell_type": "code",
      "source": [
        "model_7 = build_GCN(hidden_dim = 32 ,message_calculation_class = 'RGAT' ,dense_intermediate_layer_activation = 'tanh', num_layers = 2)\n",
        "\n",
        "model_7.summary()"
      ],
      "metadata": {
        "execution": {
          "iopub.status.busy": "2022-04-08T18:55:31.121256Z",
          "iopub.execute_input": "2022-04-08T18:55:31.121501Z",
          "iopub.status.idle": "2022-04-08T18:55:32.329399Z",
          "shell.execute_reply.started": "2022-04-08T18:55:31.121469Z",
          "shell.execute_reply": "2022-04-08T18:55:32.328398Z"
        },
        "trusted": true,
        "id": "G-xM4yQB0dsH"
      },
      "execution_count": null,
      "outputs": []
    },
    {
      "cell_type": "markdown",
      "source": [
        "### Start compiling and training the seventh model"
      ],
      "metadata": {
        "id": "k4efS4nK0dsI"
      }
    },
    {
      "cell_type": "code",
      "source": [
        "model_7, history_7 = compile_and_train_model(model_7, training_set, validation_set, 'adam', 'BinaryCrossentropy', 'AUC', 64, 70)"
      ],
      "metadata": {
        "execution": {
          "iopub.status.busy": "2022-04-08T18:55:32.330646Z",
          "iopub.execute_input": "2022-04-08T18:55:32.330986Z",
          "iopub.status.idle": "2022-04-08T19:15:33.400581Z",
          "shell.execute_reply.started": "2022-04-08T18:55:32.330944Z",
          "shell.execute_reply": "2022-04-08T19:15:33.399879Z"
        },
        "trusted": true,
        "id": "kyg4ZQA70dsI"
      },
      "execution_count": null,
      "outputs": []
    },
    {
      "cell_type": "markdown",
      "source": [
        "### Plotting the seventh model performance"
      ],
      "metadata": {
        "id": "mPgvjH7h0dsI"
      }
    },
    {
      "cell_type": "code",
      "source": [
        "plot_performance(history_7)"
      ],
      "metadata": {
        "execution": {
          "iopub.status.busy": "2022-04-08T19:15:33.402439Z",
          "iopub.execute_input": "2022-04-08T19:15:33.402671Z",
          "iopub.status.idle": "2022-04-08T19:15:33.870812Z",
          "shell.execute_reply.started": "2022-04-08T19:15:33.402642Z",
          "shell.execute_reply": "2022-04-08T19:15:33.869735Z"
        },
        "trusted": true,
        "id": "x87NJYTx0dsI"
      },
      "execution_count": null,
      "outputs": []
    },
    {
      "cell_type": "markdown",
      "source": [
        "### Predict the test data to evaluate the seventh model performance on kaggle competetion.\n",
        "\n",
        "It was better than GCN that used "
      ],
      "metadata": {
        "id": "gE7nqgpb0dsI"
      }
    },
    {
      "cell_type": "code",
      "source": [
        "y_pred_7 = predict_and_make_submission_file(model_7,'sumbission_file_7.csv',batch_size = 64)"
      ],
      "metadata": {
        "execution": {
          "iopub.status.busy": "2022-04-08T19:15:33.872303Z",
          "iopub.execute_input": "2022-04-08T19:15:33.872679Z",
          "iopub.status.idle": "2022-04-08T19:15:40.575226Z",
          "shell.execute_reply.started": "2022-04-08T19:15:33.872643Z",
          "shell.execute_reply": "2022-04-08T19:15:40.574160Z"
        },
        "trusted": true,
        "id": "DY_TZMNg0dsI"
      },
      "execution_count": null,
      "outputs": []
    },
    {
      "cell_type": "markdown",
      "source": [
        "### Some intuitions about the seventh model's result \n",
        "\n",
        "**Public ROC_AUC score: 77.694%, Private ROC_AUC score: 76.906%, avg ROC_AUC score: 77.3%**\n",
        "\n",
        "it was better than models that used RGC and GNN_Edge_MLP as message_calculation_class hyperparameter but it's still much worest than previous model, the model start to overfit after 20 epochs."
      ],
      "metadata": {
        "id": "0CfHDGW20dsI"
      }
    },
    {
      "cell_type": "markdown",
      "source": [
        "### Eighth trial:\n",
        "\n",
        "in this trial, I decided to back to use **GGNN** as **message_calculation_class** hyperparameter because it's the one which gave me best results but I'll change the number of layer from 4 (default value) to 8 to see if this would imorove the accuracy or it will produce overfitting."
      ],
      "metadata": {
        "id": "i5kYs4XZ0dsI"
      }
    },
    {
      "cell_type": "code",
      "source": [
        "model_8 = build_GCN(hidden_dim = 32 ,message_calculation_class = 'GGNN' ,dense_intermediate_layer_activation = 'tanh', num_layers = 8)\n",
        "\n",
        "model_8.summary()"
      ],
      "metadata": {
        "execution": {
          "iopub.status.busy": "2022-04-08T19:15:40.576770Z",
          "iopub.execute_input": "2022-04-08T19:15:40.577188Z",
          "iopub.status.idle": "2022-04-08T19:15:42.907539Z",
          "shell.execute_reply.started": "2022-04-08T19:15:40.577142Z",
          "shell.execute_reply": "2022-04-08T19:15:42.906596Z"
        },
        "trusted": true,
        "id": "iiTMZMa80dsI"
      },
      "execution_count": null,
      "outputs": []
    },
    {
      "cell_type": "markdown",
      "source": [
        "### Start compiling and training the eigth model"
      ],
      "metadata": {
        "id": "4uHb-DtP0dsJ"
      }
    },
    {
      "cell_type": "code",
      "source": [
        "model_8, history_8 = compile_and_train_model(model_8, training_set, validation_set, 'adam', 'BinaryCrossentropy', 'AUC', 64, 70)"
      ],
      "metadata": {
        "execution": {
          "iopub.status.busy": "2022-04-08T19:15:42.908902Z",
          "iopub.execute_input": "2022-04-08T19:15:42.909168Z",
          "iopub.status.idle": "2022-04-08T21:05:59.293934Z",
          "shell.execute_reply.started": "2022-04-08T19:15:42.909138Z",
          "shell.execute_reply": "2022-04-08T21:05:59.292992Z"
        },
        "trusted": true,
        "id": "0MJDJJHl0dsJ"
      },
      "execution_count": null,
      "outputs": []
    },
    {
      "cell_type": "markdown",
      "source": [
        "### Plotting the eighth model performance"
      ],
      "metadata": {
        "id": "u5fnxyHm0dsJ"
      }
    },
    {
      "cell_type": "code",
      "source": [
        "plot_performance(history_8)"
      ],
      "metadata": {
        "execution": {
          "iopub.status.busy": "2022-04-08T21:05:59.296859Z",
          "iopub.execute_input": "2022-04-08T21:05:59.297429Z",
          "iopub.status.idle": "2022-04-08T21:05:59.774659Z",
          "shell.execute_reply.started": "2022-04-08T21:05:59.297381Z",
          "shell.execute_reply": "2022-04-08T21:05:59.773860Z"
        },
        "trusted": true,
        "id": "bySUQ3PX0dsJ"
      },
      "execution_count": null,
      "outputs": []
    },
    {
      "cell_type": "markdown",
      "source": [
        "### Predict the test data to evaluate the eighth model performance on kaggle competetion."
      ],
      "metadata": {
        "id": "IJ8eAJV_0dsJ"
      }
    },
    {
      "cell_type": "code",
      "source": [
        "y_pred_8 = predict_and_make_submission_file(model_8,'sumbission_file_8.csv',batch_size = 64)\n",
        "print(y_pred_8)"
      ],
      "metadata": {
        "execution": {
          "iopub.status.busy": "2022-04-08T21:05:59.775862Z",
          "iopub.execute_input": "2022-04-08T21:05:59.776115Z",
          "iopub.status.idle": "2022-04-08T21:06:09.683779Z",
          "shell.execute_reply.started": "2022-04-08T21:05:59.776086Z",
          "shell.execute_reply": "2022-04-08T21:06:09.683178Z"
        },
        "trusted": true,
        "id": "dAHhWsXO0dsJ"
      },
      "execution_count": null,
      "outputs": []
    },
    {
      "cell_type": "markdown",
      "source": [
        "### Some intuitions about the eigth model's result \n",
        "\n",
        "**Public ROC_AUC score: 85.387%, Private ROC_AUC score: 84.625%, avg ROC_AUC score: 85.006%**\n",
        "\n",
        "the model gave me the best score till this moment and better than the **first trial** and the **second trial**, which use the same **message_calculation_class** as hyperparameter, the model start to overfit after 50 epoch which is better than previous trials. "
      ],
      "metadata": {
        "id": "qyv9U2AZ0dsJ"
      }
    },
    {
      "cell_type": "markdown",
      "source": [
        "### The ninth trial (ideal solution)\n",
        "\n",
        "As the previous layer but I increased the number of layer and I changed the intermediate layer activation function from **tanh** to **relu** to see if it will suffer from gradient vanishing or not. "
      ],
      "metadata": {
        "id": "0jfoOVAV0dsJ"
      }
    },
    {
      "cell_type": "code",
      "source": [
        "model_9 = build_GCN(hidden_dim = 32 ,message_calculation_class = 'GGNN' ,dense_intermediate_layer_activation = 'relu', num_layers = 12)\n",
        "\n",
        "model_9.summary()"
      ],
      "metadata": {
        "execution": {
          "iopub.status.busy": "2022-04-08T21:06:09.685091Z",
          "iopub.execute_input": "2022-04-08T21:06:09.685344Z",
          "iopub.status.idle": "2022-04-08T21:06:11.977941Z",
          "shell.execute_reply.started": "2022-04-08T21:06:09.685314Z",
          "shell.execute_reply": "2022-04-08T21:06:11.974568Z"
        },
        "trusted": true,
        "id": "qYyspovE0dsJ"
      },
      "execution_count": null,
      "outputs": []
    },
    {
      "cell_type": "markdown",
      "source": [
        "### Start compiling and training the ninth model"
      ],
      "metadata": {
        "id": "WPrUhyOM0dsK"
      }
    },
    {
      "cell_type": "code",
      "source": [
        "model_9, history_9 = compile_and_train_model(model_9, training_set, validation_set, 'adam', 'BinaryCrossentropy', 'AUC', 64, 70)"
      ],
      "metadata": {
        "execution": {
          "iopub.status.busy": "2022-04-08T21:06:11.979544Z",
          "iopub.execute_input": "2022-04-08T21:06:11.979771Z",
          "iopub.status.idle": "2022-04-09T00:12:53.650522Z",
          "shell.execute_reply.started": "2022-04-08T21:06:11.979744Z",
          "shell.execute_reply": "2022-04-09T00:12:53.648891Z"
        },
        "trusted": true,
        "id": "733Ufl7Y0dsK"
      },
      "execution_count": null,
      "outputs": []
    },
    {
      "cell_type": "markdown",
      "source": [
        "### Plotting the ninth model performance"
      ],
      "metadata": {
        "id": "RvZ7UcPJ0dsK"
      }
    },
    {
      "cell_type": "code",
      "source": [
        "plot_performance(history_9)"
      ],
      "metadata": {
        "execution": {
          "iopub.status.busy": "2022-04-09T00:12:53.654440Z",
          "iopub.execute_input": "2022-04-09T00:12:53.654906Z",
          "iopub.status.idle": "2022-04-09T00:12:54.161798Z",
          "shell.execute_reply.started": "2022-04-09T00:12:53.654820Z",
          "shell.execute_reply": "2022-04-09T00:12:54.160852Z"
        },
        "trusted": true,
        "id": "cwojlO5h0dsK"
      },
      "execution_count": null,
      "outputs": []
    },
    {
      "cell_type": "markdown",
      "source": [
        "### Predict the test data to evaluate the ninth model performance on kaggle competetion."
      ],
      "metadata": {
        "id": "uAQ8lxIG0dsK"
      }
    },
    {
      "cell_type": "code",
      "source": [
        "y_pred_9 = predict_and_make_submission_file(model_9,'sumbission_file_9.csv',batch_size = 64)\n",
        "print(y_pred_9)"
      ],
      "metadata": {
        "execution": {
          "iopub.status.busy": "2022-04-09T00:12:54.163489Z",
          "iopub.execute_input": "2022-04-09T00:12:54.163932Z",
          "iopub.status.idle": "2022-04-09T00:13:10.095177Z",
          "shell.execute_reply.started": "2022-04-09T00:12:54.163870Z",
          "shell.execute_reply": "2022-04-09T00:13:10.094461Z"
        },
        "trusted": true,
        "id": "wmOwbKY-0dsK"
      },
      "execution_count": null,
      "outputs": []
    },
    {
      "cell_type": "markdown",
      "source": [
        "### Some intuitions about the ninth model's result\n",
        "\n",
        "**Public ROC_AUC score: 87.298%, Private ROC_AUC score:  86.195%, avg ROC_AUC score: 86.7465%**\n",
        "\n",
        "much better score than all models that used **GGNN** as **message_calculation_class** hyperparameters and with best validation accuracy, and I think it's because the relu resisted to vanishing gradient problem."
      ],
      "metadata": {
        "id": "x5Y-VPFJ0dsK"
      }
    },
    {
      "cell_type": "markdown",
      "source": [
        "### The tenth trial\n",
        "\n",
        "In this trial, I exploded everything to increase the number of trainable parameters and to see if this model will overfit or the complexity of this model will help it to improve the accuracy over the previous trial. \n"
      ],
      "metadata": {
        "id": "XhD3nseo0dsK"
      }
    },
    {
      "cell_type": "code",
      "source": [
        "model_10 = build_GCN(hidden_dim = 128 ,message_calculation_class = 'GGNN' ,dense_intermediate_layer_activation = 'relu', num_layers = 14)\n",
        "\n",
        "model_10.summary()"
      ],
      "metadata": {
        "execution": {
          "iopub.status.busy": "2022-04-09T00:13:10.096366Z",
          "iopub.execute_input": "2022-04-09T00:13:10.096988Z",
          "iopub.status.idle": "2022-04-09T00:13:13.360412Z",
          "shell.execute_reply.started": "2022-04-09T00:13:10.096952Z",
          "shell.execute_reply": "2022-04-09T00:13:13.359248Z"
        },
        "trusted": true,
        "colab": {
          "base_uri": "https://localhost:8080/"
        },
        "id": "2u3kRR7m0dsK",
        "outputId": "7c776523-3dde-4e3d-ee87-14765bdad99e"
      },
      "execution_count": 56,
      "outputs": [
        {
          "output_type": "stream",
          "name": "stdout",
          "text": [
            "message passing style used in this model will be GGNN\n",
            "\n",
            "gnn_out KerasTensor(type_spec=TensorSpec(shape=(None, 128), dtype=tf.float32, name=None), name='gnn/StatefulPartitionedCall:0', description=\"created by layer 'gnn'\")\n",
            "mean: KerasTensor(type_spec=TensorSpec(shape=(None, 128), dtype=tf.float32, name=None), name='tf.math.segment_mean/SegmentMean:0', description=\"created by layer 'tf.math.segment_mean'\")\n",
            "pred: KerasTensor(type_spec=TensorSpec(shape=(None, 1), dtype=tf.float32, name=None), name='dense/Sigmoid:0', description=\"created by layer 'dense'\")\n",
            "Model: \"model\"\n",
            "__________________________________________________________________________________________________\n",
            " Layer (type)                   Output Shape         Param #     Connected to                     \n",
            "==================================================================================================\n",
            " input_3 (InputLayer)           [(None,)]            0           []                               \n",
            "                                                                                                  \n",
            " input_1 (InputLayer)           [(None,)]            0           []                               \n",
            "                                                                                                  \n",
            " tf.math.reduce_max (TFOpLambda  ()                  0           ['input_3[0][0]']                \n",
            " )                                                                                                \n",
            "                                                                                                  \n",
            " embedding (Embedding)          (None, 20)           10000       ['input_1[0][0]']                \n",
            "                                                                                                  \n",
            " input_2 (InputLayer)           [(None, 2)]          0           []                               \n",
            "                                                                                                  \n",
            " tf.__operators__.add (TFOpLamb  ()                  0           ['tf.math.reduce_max[0][0]']     \n",
            " da)                                                                                              \n",
            "                                                                                                  \n",
            " gnn (GNN)                      (None, 128)          2626048     ['embedding[0][0]',              \n",
            "                                                                  'input_2[0][0]',                \n",
            "                                                                  'input_3[0][0]',                \n",
            "                                                                  'tf.__operators__.add[0][0]']   \n",
            "                                                                                                  \n",
            " tf.math.segment_mean (TFOpLamb  (None, 128)         0           ['gnn[0][0]',                    \n",
            " da)                                                              'input_3[0][0]']                \n",
            "                                                                                                  \n",
            " dense (Dense)                  (None, 1)            129         ['tf.math.segment_mean[0][0]']   \n",
            "                                                                                                  \n",
            "==================================================================================================\n",
            "Total params: 2,636,177\n",
            "Trainable params: 2,636,177\n",
            "Non-trainable params: 0\n",
            "__________________________________________________________________________________________________\n"
          ]
        }
      ]
    },
    {
      "cell_type": "markdown",
      "source": [
        "### Start compiling and training the tenth model"
      ],
      "metadata": {
        "id": "9F_DkTR10dsK"
      }
    },
    {
      "cell_type": "code",
      "source": [
        "model_10, history_10 = compile_and_train_model(model_10, training_set, validation_set, 'adam', 'BinaryCrossentropy', 'AUC', 64, 70)"
      ],
      "metadata": {
        "execution": {
          "iopub.status.busy": "2022-04-09T00:13:13.361975Z",
          "iopub.execute_input": "2022-04-09T00:13:13.362204Z",
          "iopub.status.idle": "2022-04-09T00:52:18.800611Z",
          "shell.execute_reply.started": "2022-04-09T00:13:13.362177Z",
          "shell.execute_reply": "2022-04-09T00:52:18.798973Z"
        },
        "trusted": true,
        "colab": {
          "base_uri": "https://localhost:8080/"
        },
        "id": "wwEi9IGT0dsL",
        "outputId": "bc1e49fe-27fe-4d29-c962-7ecfe820b502"
      },
      "execution_count": 57,
      "outputs": [
        {
          "output_type": "stream",
          "name": "stdout",
          "text": [
            "Epoch 1/70\n"
          ]
        },
        {
          "output_type": "stream",
          "name": "stderr",
          "text": [
            "/usr/local/lib/python3.7/dist-packages/tensorflow/python/framework/indexed_slices.py:446: UserWarning: Converting sparse IndexedSlices(IndexedSlices(indices=Tensor(\"gradients/ggnn_13/embedding_lookup_grad/Reshape_1:0\", shape=(None,), dtype=int32), values=Tensor(\"gradients/ggnn_13/embedding_lookup_grad/Reshape:0\", shape=(None, 128), dtype=float32), dense_shape=Tensor(\"gradients/ggnn_13/embedding_lookup_grad/Cast:0\", shape=(2,), dtype=int32))) to a dense Tensor of unknown shape. This may consume a large amount of memory.\n",
            "  \"shape. This may consume a large amount of memory.\" % value)\n",
            "/usr/local/lib/python3.7/dist-packages/tensorflow/python/framework/indexed_slices.py:446: UserWarning: Converting sparse IndexedSlices(IndexedSlices(indices=Tensor(\"gradients/ggnn_12/embedding_lookup_grad/Reshape_1:0\", shape=(None,), dtype=int32), values=Tensor(\"gradients/ggnn_12/embedding_lookup_grad/Reshape:0\", shape=(None, 128), dtype=float32), dense_shape=Tensor(\"gradients/ggnn_12/embedding_lookup_grad/Cast:0\", shape=(2,), dtype=int32))) to a dense Tensor of unknown shape. This may consume a large amount of memory.\n",
            "  \"shape. This may consume a large amount of memory.\" % value)\n",
            "/usr/local/lib/python3.7/dist-packages/tensorflow/python/framework/indexed_slices.py:446: UserWarning: Converting sparse IndexedSlices(IndexedSlices(indices=Tensor(\"gradients/ggnn_11/embedding_lookup_grad/Reshape_1:0\", shape=(None,), dtype=int32), values=Tensor(\"gradients/ggnn_11/embedding_lookup_grad/Reshape:0\", shape=(None, 128), dtype=float32), dense_shape=Tensor(\"gradients/ggnn_11/embedding_lookup_grad/Cast:0\", shape=(2,), dtype=int32))) to a dense Tensor of unknown shape. This may consume a large amount of memory.\n",
            "  \"shape. This may consume a large amount of memory.\" % value)\n",
            "/usr/local/lib/python3.7/dist-packages/tensorflow/python/framework/indexed_slices.py:446: UserWarning: Converting sparse IndexedSlices(IndexedSlices(indices=Tensor(\"gradients/ggnn_10/embedding_lookup_grad/Reshape_1:0\", shape=(None,), dtype=int32), values=Tensor(\"gradients/ggnn_10/embedding_lookup_grad/Reshape:0\", shape=(None, 128), dtype=float32), dense_shape=Tensor(\"gradients/ggnn_10/embedding_lookup_grad/Cast:0\", shape=(2,), dtype=int32))) to a dense Tensor of unknown shape. This may consume a large amount of memory.\n",
            "  \"shape. This may consume a large amount of memory.\" % value)\n",
            "/usr/local/lib/python3.7/dist-packages/tensorflow/python/framework/indexed_slices.py:446: UserWarning: Converting sparse IndexedSlices(IndexedSlices(indices=Tensor(\"gradients/ggnn_9/embedding_lookup_grad/Reshape_1:0\", shape=(None,), dtype=int32), values=Tensor(\"gradients/ggnn_9/embedding_lookup_grad/Reshape:0\", shape=(None, 128), dtype=float32), dense_shape=Tensor(\"gradients/ggnn_9/embedding_lookup_grad/Cast:0\", shape=(2,), dtype=int32))) to a dense Tensor of unknown shape. This may consume a large amount of memory.\n",
            "  \"shape. This may consume a large amount of memory.\" % value)\n",
            "/usr/local/lib/python3.7/dist-packages/tensorflow/python/framework/indexed_slices.py:446: UserWarning: Converting sparse IndexedSlices(IndexedSlices(indices=Tensor(\"gradients/ggnn_8/embedding_lookup_grad/Reshape_1:0\", shape=(None,), dtype=int32), values=Tensor(\"gradients/ggnn_8/embedding_lookup_grad/Reshape:0\", shape=(None, 128), dtype=float32), dense_shape=Tensor(\"gradients/ggnn_8/embedding_lookup_grad/Cast:0\", shape=(2,), dtype=int32))) to a dense Tensor of unknown shape. This may consume a large amount of memory.\n",
            "  \"shape. This may consume a large amount of memory.\" % value)\n",
            "/usr/local/lib/python3.7/dist-packages/tensorflow/python/framework/indexed_slices.py:446: UserWarning: Converting sparse IndexedSlices(IndexedSlices(indices=Tensor(\"gradients/ggnn_7/embedding_lookup_grad/Reshape_1:0\", shape=(None,), dtype=int32), values=Tensor(\"gradients/ggnn_7/embedding_lookup_grad/Reshape:0\", shape=(None, 128), dtype=float32), dense_shape=Tensor(\"gradients/ggnn_7/embedding_lookup_grad/Cast:0\", shape=(2,), dtype=int32))) to a dense Tensor of unknown shape. This may consume a large amount of memory.\n",
            "  \"shape. This may consume a large amount of memory.\" % value)\n",
            "/usr/local/lib/python3.7/dist-packages/tensorflow/python/framework/indexed_slices.py:446: UserWarning: Converting sparse IndexedSlices(IndexedSlices(indices=Tensor(\"gradients/ggnn_6/embedding_lookup_grad/Reshape_1:0\", shape=(None,), dtype=int32), values=Tensor(\"gradients/ggnn_6/embedding_lookup_grad/Reshape:0\", shape=(None, 128), dtype=float32), dense_shape=Tensor(\"gradients/ggnn_6/embedding_lookup_grad/Cast:0\", shape=(2,), dtype=int32))) to a dense Tensor of unknown shape. This may consume a large amount of memory.\n",
            "  \"shape. This may consume a large amount of memory.\" % value)\n",
            "/usr/local/lib/python3.7/dist-packages/tensorflow/python/framework/indexed_slices.py:446: UserWarning: Converting sparse IndexedSlices(IndexedSlices(indices=Tensor(\"gradients/ggnn_5/embedding_lookup_grad/Reshape_1:0\", shape=(None,), dtype=int32), values=Tensor(\"gradients/ggnn_5/embedding_lookup_grad/Reshape:0\", shape=(None, 128), dtype=float32), dense_shape=Tensor(\"gradients/ggnn_5/embedding_lookup_grad/Cast:0\", shape=(2,), dtype=int32))) to a dense Tensor of unknown shape. This may consume a large amount of memory.\n",
            "  \"shape. This may consume a large amount of memory.\" % value)\n",
            "/usr/local/lib/python3.7/dist-packages/tensorflow/python/framework/indexed_slices.py:446: UserWarning: Converting sparse IndexedSlices(IndexedSlices(indices=Tensor(\"gradients/ggnn_4/embedding_lookup_grad/Reshape_1:0\", shape=(None,), dtype=int32), values=Tensor(\"gradients/ggnn_4/embedding_lookup_grad/Reshape:0\", shape=(None, 128), dtype=float32), dense_shape=Tensor(\"gradients/ggnn_4/embedding_lookup_grad/Cast:0\", shape=(2,), dtype=int32))) to a dense Tensor of unknown shape. This may consume a large amount of memory.\n",
            "  \"shape. This may consume a large amount of memory.\" % value)\n",
            "/usr/local/lib/python3.7/dist-packages/tensorflow/python/framework/indexed_slices.py:446: UserWarning: Converting sparse IndexedSlices(IndexedSlices(indices=Tensor(\"gradients/ggnn_3/embedding_lookup_grad/Reshape_1:0\", shape=(None,), dtype=int32), values=Tensor(\"gradients/ggnn_3/embedding_lookup_grad/Reshape:0\", shape=(None, 128), dtype=float32), dense_shape=Tensor(\"gradients/ggnn_3/embedding_lookup_grad/Cast:0\", shape=(2,), dtype=int32))) to a dense Tensor of unknown shape. This may consume a large amount of memory.\n",
            "  \"shape. This may consume a large amount of memory.\" % value)\n",
            "/usr/local/lib/python3.7/dist-packages/tensorflow/python/framework/indexed_slices.py:446: UserWarning: Converting sparse IndexedSlices(IndexedSlices(indices=Tensor(\"gradients/ggnn_2/embedding_lookup_grad/Reshape_1:0\", shape=(None,), dtype=int32), values=Tensor(\"gradients/ggnn_2/embedding_lookup_grad/Reshape:0\", shape=(None, 128), dtype=float32), dense_shape=Tensor(\"gradients/ggnn_2/embedding_lookup_grad/Cast:0\", shape=(2,), dtype=int32))) to a dense Tensor of unknown shape. This may consume a large amount of memory.\n",
            "  \"shape. This may consume a large amount of memory.\" % value)\n",
            "/usr/local/lib/python3.7/dist-packages/tensorflow/python/framework/indexed_slices.py:446: UserWarning: Converting sparse IndexedSlices(IndexedSlices(indices=Tensor(\"gradients/ggnn_1/embedding_lookup_grad/Reshape_1:0\", shape=(None,), dtype=int32), values=Tensor(\"gradients/ggnn_1/embedding_lookup_grad/Reshape:0\", shape=(None, 128), dtype=float32), dense_shape=Tensor(\"gradients/ggnn_1/embedding_lookup_grad/Cast:0\", shape=(2,), dtype=int32))) to a dense Tensor of unknown shape. This may consume a large amount of memory.\n",
            "  \"shape. This may consume a large amount of memory.\" % value)\n",
            "/usr/local/lib/python3.7/dist-packages/tensorflow/python/framework/indexed_slices.py:446: UserWarning: Converting sparse IndexedSlices(IndexedSlices(indices=Tensor(\"gradients/ggnn/embedding_lookup_grad/Reshape_1:0\", shape=(None,), dtype=int32), values=Tensor(\"gradients/ggnn/embedding_lookup_grad/Reshape:0\", shape=(None, 128), dtype=float32), dense_shape=Tensor(\"gradients/ggnn/embedding_lookup_grad/Cast:0\", shape=(2,), dtype=int32))) to a dense Tensor of unknown shape. This may consume a large amount of memory.\n",
            "  \"shape. This may consume a large amount of memory.\" % value)\n"
          ]
        },
        {
          "output_type": "stream",
          "name": "stdout",
          "text": [
            "633/633 [==============================] - 167s 245ms/step - loss: 0.6511 - auc: 0.6614 - val_loss: 0.6232 - val_auc: 0.7132\n",
            "Epoch 2/70\n",
            "633/633 [==============================] - 153s 241ms/step - loss: 0.6165 - auc: 0.7194 - val_loss: 0.6240 - val_auc: 0.7095\n",
            "Epoch 3/70\n",
            "633/633 [==============================] - 153s 242ms/step - loss: 0.6129 - auc: 0.7226 - val_loss: 0.6040 - val_auc: 0.7371\n",
            "Epoch 4/70\n",
            "633/633 [==============================] - 153s 242ms/step - loss: 0.6014 - auc: 0.7393 - val_loss: 0.5655 - val_auc: 0.7878\n",
            "Epoch 5/70\n",
            "633/633 [==============================] - 153s 241ms/step - loss: 0.5582 - auc: 0.7877 - val_loss: 0.5666 - val_auc: 0.7940\n",
            "Epoch 6/70\n",
            "633/633 [==============================] - 153s 242ms/step - loss: 0.5262 - auc: 0.8157 - val_loss: 0.5061 - val_auc: 0.8351\n",
            "Epoch 7/70\n",
            "633/633 [==============================] - 153s 242ms/step - loss: 0.4913 - auc: 0.8434 - val_loss: 0.4789 - val_auc: 0.8551\n",
            "Epoch 8/70\n",
            "633/633 [==============================] - 152s 241ms/step - loss: 0.4632 - auc: 0.8633 - val_loss: 0.4329 - val_auc: 0.8850\n",
            "Epoch 9/70\n",
            "633/633 [==============================] - 153s 241ms/step - loss: 0.4365 - auc: 0.8807 - val_loss: 0.4366 - val_auc: 0.8872\n",
            "Epoch 10/70\n",
            "633/633 [==============================] - 153s 242ms/step - loss: 0.4114 - auc: 0.8951 - val_loss: 0.3744 - val_auc: 0.9155\n",
            "Epoch 11/70\n",
            "633/633 [==============================] - 154s 243ms/step - loss: 0.3892 - auc: 0.9067 - val_loss: 0.4188 - val_auc: 0.8965\n",
            "Epoch 12/70\n",
            "633/633 [==============================] - 154s 244ms/step - loss: 0.3881 - auc: 0.9071 - val_loss: 0.3756 - val_auc: 0.9194\n",
            "Epoch 13/70\n",
            "633/633 [==============================] - 154s 243ms/step - loss: 0.3745 - auc: 0.9141 - val_loss: 0.3478 - val_auc: 0.9260\n",
            "Epoch 14/70\n",
            "633/633 [==============================] - 154s 243ms/step - loss: 0.3441 - auc: 0.9276 - val_loss: 0.3240 - val_auc: 0.9367\n",
            "Epoch 15/70\n",
            "633/633 [==============================] - 155s 245ms/step - loss: 0.3338 - auc: 0.9323 - val_loss: 0.3033 - val_auc: 0.9445\n",
            "Epoch 16/70\n",
            "633/633 [==============================] - 154s 244ms/step - loss: 0.3135 - auc: 0.9406 - val_loss: 0.2809 - val_auc: 0.9517\n",
            "Epoch 17/70\n",
            "633/633 [==============================] - ETA: 0s - loss: 0.3112 - auc: 0.9410Epoch 18/70\n",
            "633/633 [==============================] - ETA: 0s - loss: 0.2798 - auc: 0.9520Epoch 19/70\n",
            "633/633 [==============================] - 153s 242ms/step - loss: 0.2619 - auc: 0.9576 - val_loss: 0.2706 - val_auc: 0.9575\n",
            "Epoch 20/70\n",
            "633/633 [==============================] - 154s 244ms/step - loss: 0.2560 - auc: 0.9596 - val_loss: 0.2235 - val_auc: 0.9684\n",
            "Epoch 21/70\n",
            "633/633 [==============================] - 154s 243ms/step - loss: 0.2489 - auc: 0.9620 - val_loss: 0.2532 - val_auc: 0.9620\n",
            "Epoch 22/70\n",
            "633/633 [==============================] - 154s 243ms/step - loss: 0.2445 - auc: 0.9628 - val_loss: 0.3136 - val_auc: 0.9427\n",
            "Epoch 23/70\n",
            "633/633 [==============================] - 154s 244ms/step - loss: 0.2503 - auc: 0.9614 - val_loss: 0.2609 - val_auc: 0.9628\n",
            "Epoch 24/70\n",
            "633/633 [==============================] - 154s 243ms/step - loss: 0.2196 - auc: 0.9697 - val_loss: 0.2137 - val_auc: 0.9705\n",
            "Epoch 25/70\n",
            "633/633 [==============================] - 154s 243ms/step - loss: 0.2119 - auc: 0.9718 - val_loss: 0.2950 - val_auc: 0.9554\n",
            "Epoch 26/70\n",
            "633/633 [==============================] - ETA: 0s - loss: 0.4871 - auc: 0.8494Epoch 27/70\n",
            "633/633 [==============================] - 154s 243ms/step - loss: 0.3829 - auc: 0.9099 - val_loss: 0.3509 - val_auc: 0.9304\n",
            "Epoch 28/70\n",
            "633/633 [==============================] - 154s 243ms/step - loss: 0.3086 - auc: 0.9422 - val_loss: 0.2881 - val_auc: 0.9498\n",
            "Epoch 29/70\n",
            "633/633 [==============================] - 153s 241ms/step - loss: 0.2692 - auc: 0.9557 - val_loss: 0.2585 - val_auc: 0.9606\n"
          ]
        }
      ]
    },
    {
      "cell_type": "markdown",
      "source": [
        "### Plotting the tenth model performance"
      ],
      "metadata": {
        "id": "M49hRde10dsL"
      }
    },
    {
      "cell_type": "code",
      "source": [
        "plot_performance(history_10)"
      ],
      "metadata": {
        "execution": {
          "iopub.status.busy": "2022-04-09T00:52:18.802707Z",
          "iopub.status.idle": "2022-04-09T00:52:18.804119Z",
          "shell.execute_reply.started": "2022-04-09T00:52:18.803798Z",
          "shell.execute_reply": "2022-04-09T00:52:18.803834Z"
        },
        "trusted": true,
        "colab": {
          "base_uri": "https://localhost:8080/",
          "height": 1000
        },
        "id": "NWI_u6di0dsL",
        "outputId": "5665df0d-22bc-4fda-d27d-b29825ad77f0"
      },
      "execution_count": 58,
      "outputs": [
        {
          "output_type": "display_data",
          "data": {
            "text/plain": [
              "<Figure size 576x576 with 1 Axes>"
            ],
            "image/png": "[encoded data removed]"
          },
          "metadata": {
            "needs_background": "light"
          }
        },
        {
          "output_type": "display_data",
          "data": {
            "text/plain": [
              "<Figure size 576x576 with 1 Axes>"
            ],
            "image/png": "[encoded data removed]"
          },
          "metadata": {
            "needs_background": "light"
          }
        }
      ]
    },
    {
      "cell_type": "markdown",
      "source": [
        "### Predict the test data to evaluate the tenth model performance on kaggle competetion."
      ],
      "metadata": {
        "id": "cgb4rYy-0dsL"
      }
    },
    {
      "cell_type": "code",
      "source": [
        "y_pred_10 = predict_and_make_submission_file(model_10,'sumbission_file_10.csv',batch_size = 64)\n",
        "print(y_pred_10)"
      ],
      "metadata": {
        "execution": {
          "iopub.status.busy": "2022-04-09T00:52:18.805757Z",
          "iopub.status.idle": "2022-04-09T00:52:18.806401Z",
          "shell.execute_reply.started": "2022-04-09T00:52:18.806140Z",
          "shell.execute_reply": "2022-04-09T00:52:18.806168Z"
        },
        "trusted": true,
        "colab": {
          "base_uri": "https://localhost:8080/"
        },
        "id": "n8Zwzcua0dsL",
        "outputId": "291f508e-188b-452c-a590-8a197e21571d"
      },
      "execution_count": 59,
      "outputs": [
        {
          "output_type": "stream",
          "name": "stdout",
          "text": [
            "(12326, 1)\n",
            "12326\n",
            "[0.75058395 0.5506523  0.00405672 ... 0.00338916 0.1201865  0.4350401 ]\n"
          ]
        }
      ]
    },
    {
      "cell_type": "markdown",
      "source": [
        "### Some intuitions about the tenth model's result.\n",
        "\n",
        "**Public ROC_AUC score: 82.808%, Private ROC_AUC score:  80.928%, avg ROC_AUC score: 81.868%**\n",
        "\n",
        "\n",
        "This model was the worest model with **message_calculation_class = 'GGNN'** as hyperparameter, and I think because it was deep neural model and that make the model capture the noisy obseravation and the made the model overfit at some point but the early stopping tracer stopped it before that happen.\n",
        "\n",
        "the model start to overfit after **24 epoch**"
      ],
      "metadata": {
        "id": "QUyx_eE30dsL"
      }
    }
  ]
}